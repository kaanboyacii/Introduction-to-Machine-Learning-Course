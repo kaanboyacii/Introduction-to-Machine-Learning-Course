{
 "cells": [
  {
   "cell_type": "code",
   "execution_count": 1,
   "id": "88c27125",
   "metadata": {
    "_cell_guid": "b1076dfc-b9ad-4769-8c92-a6c4dae69d19",
    "_uuid": "8f2839f25d086af736a60e9eeb907d3b93b6e0e5",
    "execution": {
     "iopub.execute_input": "2023-04-07T17:34:09.093501Z",
     "iopub.status.busy": "2023-04-07T17:34:09.092976Z",
     "iopub.status.idle": "2023-04-07T17:34:10.289465Z",
     "shell.execute_reply": "2023-04-07T17:34:10.288042Z"
    },
    "papermill": {
     "duration": 1.210597,
     "end_time": "2023-04-07T17:34:10.292662",
     "exception": false,
     "start_time": "2023-04-07T17:34:09.082065",
     "status": "completed"
    },
    "tags": []
   },
   "outputs": [],
   "source": [
    "import numpy as np\n",
    "import matplotlib.pyplot as plt\n",
    "from sklearn.linear_model import LinearRegression\n",
    "from sklearn.preprocessing import PolynomialFeatures"
   ]
  },
  {
   "cell_type": "code",
   "execution_count": 2,
   "id": "2d04d524",
   "metadata": {
    "execution": {
     "iopub.execute_input": "2023-04-07T17:34:10.302791Z",
     "iopub.status.busy": "2023-04-07T17:34:10.302351Z",
     "iopub.status.idle": "2023-04-07T17:34:10.310246Z",
     "shell.execute_reply": "2023-04-07T17:34:10.309018Z"
    },
    "papermill": {
     "duration": 0.015892,
     "end_time": "2023-04-07T17:34:10.312819",
     "exception": false,
     "start_time": "2023-04-07T17:34:10.296927",
     "status": "completed"
    },
    "tags": []
   },
   "outputs": [],
   "source": [
    "x=np.array([0,1,2,3,4,5,6])\n",
    "y=np.array([1,6,17,34,57,86,121])"
   ]
  },
  {
   "cell_type": "code",
   "execution_count": 3,
   "id": "8293065c",
   "metadata": {
    "execution": {
     "iopub.execute_input": "2023-04-07T17:34:10.323682Z",
     "iopub.status.busy": "2023-04-07T17:34:10.322626Z",
     "iopub.status.idle": "2023-04-07T17:34:10.329041Z",
     "shell.execute_reply": "2023-04-07T17:34:10.327740Z"
    },
    "papermill": {
     "duration": 0.014617,
     "end_time": "2023-04-07T17:34:10.331677",
     "exception": false,
     "start_time": "2023-04-07T17:34:10.317060",
     "status": "completed"
    },
    "tags": []
   },
   "outputs": [],
   "source": [
    "poly=PolynomialFeatures(degree=2)\n",
    "x_poly = poly.fit_transform(x.reshape(-1,1))"
   ]
  },
  {
   "cell_type": "code",
   "execution_count": 4,
   "id": "6a169edb",
   "metadata": {
    "execution": {
     "iopub.execute_input": "2023-04-07T17:34:10.341947Z",
     "iopub.status.busy": "2023-04-07T17:34:10.341157Z",
     "iopub.status.idle": "2023-04-07T17:34:10.373438Z",
     "shell.execute_reply": "2023-04-07T17:34:10.372574Z"
    },
    "papermill": {
     "duration": 0.040226,
     "end_time": "2023-04-07T17:34:10.376055",
     "exception": false,
     "start_time": "2023-04-07T17:34:10.335829",
     "status": "completed"
    },
    "tags": []
   },
   "outputs": [
    {
     "data": {
      "text/plain": [
       "LinearRegression()"
      ]
     },
     "execution_count": 4,
     "metadata": {},
     "output_type": "execute_result"
    }
   ],
   "source": [
    "model = LinearRegression()\n",
    "model.fit(x_poly,y)"
   ]
  },
  {
   "cell_type": "code",
   "execution_count": 5,
   "id": "7f1ffb98",
   "metadata": {
    "execution": {
     "iopub.execute_input": "2023-04-07T17:34:10.386464Z",
     "iopub.status.busy": "2023-04-07T17:34:10.386042Z",
     "iopub.status.idle": "2023-04-07T17:34:10.393231Z",
     "shell.execute_reply": "2023-04-07T17:34:10.392069Z"
    },
    "papermill": {
     "duration": 0.015303,
     "end_time": "2023-04-07T17:34:10.395761",
     "exception": false,
     "start_time": "2023-04-07T17:34:10.380458",
     "status": "completed"
    },
    "tags": []
   },
   "outputs": [
    {
     "data": {
      "text/plain": [
       "LinearRegression()"
      ]
     },
     "execution_count": 5,
     "metadata": {},
     "output_type": "execute_result"
    }
   ],
   "source": [
    "LinearRegression()"
   ]
  },
  {
   "cell_type": "code",
   "execution_count": 6,
   "id": "7c325cbd",
   "metadata": {
    "execution": {
     "iopub.execute_input": "2023-04-07T17:34:10.405908Z",
     "iopub.status.busy": "2023-04-07T17:34:10.405480Z",
     "iopub.status.idle": "2023-04-07T17:34:10.649948Z",
     "shell.execute_reply": "2023-04-07T17:34:10.649041Z"
    },
    "papermill": {
     "duration": 0.252263,
     "end_time": "2023-04-07T17:34:10.652346",
     "exception": false,
     "start_time": "2023-04-07T17:34:10.400083",
     "status": "completed"
    },
    "tags": []
   },
   "outputs": [
    {
     "data": {
      "image/png": "[encoded data removed]",
      "text/plain": [
       "<Figure size 640x480 with 1 Axes>"
      ]
     },
     "metadata": {},
     "output_type": "display_data"
    }
   ],
   "source": [
    "plt.scatter(x,y)\n",
    "plt.plot(x,model.predict(x_poly),color=\"red\")\n",
    "plt.show()"
   ]
  },
  {
   "cell_type": "code",
   "execution_count": 7,
   "id": "e2bb9304",
   "metadata": {
    "execution": {
     "iopub.execute_input": "2023-04-07T17:34:10.664814Z",
     "iopub.status.busy": "2023-04-07T17:34:10.663564Z",
     "iopub.status.idle": "2023-04-07T17:34:10.670107Z",
     "shell.execute_reply": "2023-04-07T17:34:10.668860Z"
    },
    "papermill": {
     "duration": 0.015531,
     "end_time": "2023-04-07T17:34:10.672742",
     "exception": false,
     "start_time": "2023-04-07T17:34:10.657211",
     "status": "completed"
    },
    "tags": []
   },
   "outputs": [],
   "source": [
    "import numpy as np\n",
    "import pandas as pd\n",
    "import matplotlib.pyplot as plt\n",
    "from sklearn.linear_model import LinearRegression\n",
    "from sklearn.preprocessing import PolynomialFeatures\n",
    "from sklearn.model_selection import train_test_split\n",
    "from sklearn.metrics import r2_score"
   ]
  },
  {
   "cell_type": "code",
   "execution_count": 8,
   "id": "4e124d84",
   "metadata": {
    "execution": {
     "iopub.execute_input": "2023-04-07T17:34:10.684106Z",
     "iopub.status.busy": "2023-04-07T17:34:10.683714Z",
     "iopub.status.idle": "2023-04-07T17:34:10.703465Z",
     "shell.execute_reply": "2023-04-07T17:34:10.702214Z"
    },
    "papermill": {
     "duration": 0.028702,
     "end_time": "2023-04-07T17:34:10.706337",
     "exception": false,
     "start_time": "2023-04-07T17:34:10.677635",
     "status": "completed"
    },
    "tags": []
   },
   "outputs": [],
   "source": [
    "df=pd.read_csv(\"/kaggle/input/column-2c-wekacsv/column_2C_weka.csv\")"
   ]
  },
  {
   "cell_type": "code",
   "execution_count": 9,
   "id": "3355a1f0",
   "metadata": {
    "execution": {
     "iopub.execute_input": "2023-04-07T17:34:10.717780Z",
     "iopub.status.busy": "2023-04-07T17:34:10.717309Z",
     "iopub.status.idle": "2023-04-07T17:34:10.753354Z",
     "shell.execute_reply": "2023-04-07T17:34:10.752159Z"
    },
    "papermill": {
     "duration": 0.045053,
     "end_time": "2023-04-07T17:34:10.756240",
     "exception": false,
     "start_time": "2023-04-07T17:34:10.711187",
     "status": "completed"
    },
    "tags": []
   },
   "outputs": [
    {
     "data": {
      "text/html": [
       "<div>\n",
       "<style scoped>\n",
       "    .dataframe tbody tr th:only-of-type {\n",
       "        vertical-align: middle;\n",
       "    }\n",
       "\n",
       "    .dataframe tbody tr th {\n",
       "        vertical-align: top;\n",
       "    }\n",
       "\n",
       "    .dataframe thead th {\n",
       "        text-align: right;\n",
       "    }\n",
       "</style>\n",
       "<table border=\"1\" class=\"dataframe\">\n",
       "  <thead>\n",
       "    <tr style=\"text-align: right;\">\n",
       "      <th></th>\n",
       "      <th>pelvic_incidence</th>\n",
       "      <th>pelvic_tilt numeric</th>\n",
       "      <th>lumbar_lordosis_angle</th>\n",
       "      <th>sacral_slope</th>\n",
       "      <th>pelvic_radius</th>\n",
       "      <th>degree_spondylolisthesis</th>\n",
       "      <th>class</th>\n",
       "    </tr>\n",
       "  </thead>\n",
       "  <tbody>\n",
       "    <tr>\n",
       "      <th>0</th>\n",
       "      <td>63.027817</td>\n",
       "      <td>22.552586</td>\n",
       "      <td>39.609117</td>\n",
       "      <td>40.475232</td>\n",
       "      <td>98.672917</td>\n",
       "      <td>-0.254400</td>\n",
       "      <td>Abnormal</td>\n",
       "    </tr>\n",
       "    <tr>\n",
       "      <th>1</th>\n",
       "      <td>39.056951</td>\n",
       "      <td>10.060991</td>\n",
       "      <td>25.015378</td>\n",
       "      <td>28.995960</td>\n",
       "      <td>114.405425</td>\n",
       "      <td>4.564259</td>\n",
       "      <td>Abnormal</td>\n",
       "    </tr>\n",
       "    <tr>\n",
       "      <th>2</th>\n",
       "      <td>68.832021</td>\n",
       "      <td>22.218482</td>\n",
       "      <td>50.092194</td>\n",
       "      <td>46.613539</td>\n",
       "      <td>105.985135</td>\n",
       "      <td>-3.530317</td>\n",
       "      <td>Abnormal</td>\n",
       "    </tr>\n",
       "    <tr>\n",
       "      <th>3</th>\n",
       "      <td>69.297008</td>\n",
       "      <td>24.652878</td>\n",
       "      <td>44.311238</td>\n",
       "      <td>44.644130</td>\n",
       "      <td>101.868495</td>\n",
       "      <td>11.211523</td>\n",
       "      <td>Abnormal</td>\n",
       "    </tr>\n",
       "    <tr>\n",
       "      <th>4</th>\n",
       "      <td>49.712859</td>\n",
       "      <td>9.652075</td>\n",
       "      <td>28.317406</td>\n",
       "      <td>40.060784</td>\n",
       "      <td>108.168725</td>\n",
       "      <td>7.918501</td>\n",
       "      <td>Abnormal</td>\n",
       "    </tr>\n",
       "    <tr>\n",
       "      <th>5</th>\n",
       "      <td>40.250200</td>\n",
       "      <td>13.921907</td>\n",
       "      <td>25.124950</td>\n",
       "      <td>26.328293</td>\n",
       "      <td>130.327871</td>\n",
       "      <td>2.230652</td>\n",
       "      <td>Abnormal</td>\n",
       "    </tr>\n",
       "    <tr>\n",
       "      <th>6</th>\n",
       "      <td>53.432928</td>\n",
       "      <td>15.864336</td>\n",
       "      <td>37.165934</td>\n",
       "      <td>37.568592</td>\n",
       "      <td>120.567523</td>\n",
       "      <td>5.988551</td>\n",
       "      <td>Abnormal</td>\n",
       "    </tr>\n",
       "    <tr>\n",
       "      <th>7</th>\n",
       "      <td>45.366754</td>\n",
       "      <td>10.755611</td>\n",
       "      <td>29.038349</td>\n",
       "      <td>34.611142</td>\n",
       "      <td>117.270067</td>\n",
       "      <td>-10.675871</td>\n",
       "      <td>Abnormal</td>\n",
       "    </tr>\n",
       "    <tr>\n",
       "      <th>8</th>\n",
       "      <td>43.790190</td>\n",
       "      <td>13.533753</td>\n",
       "      <td>42.690814</td>\n",
       "      <td>30.256437</td>\n",
       "      <td>125.002893</td>\n",
       "      <td>13.289018</td>\n",
       "      <td>Abnormal</td>\n",
       "    </tr>\n",
       "    <tr>\n",
       "      <th>9</th>\n",
       "      <td>36.686353</td>\n",
       "      <td>5.010884</td>\n",
       "      <td>41.948751</td>\n",
       "      <td>31.675469</td>\n",
       "      <td>84.241415</td>\n",
       "      <td>0.664437</td>\n",
       "      <td>Abnormal</td>\n",
       "    </tr>\n",
       "    <tr>\n",
       "      <th>10</th>\n",
       "      <td>49.706610</td>\n",
       "      <td>13.040974</td>\n",
       "      <td>31.334500</td>\n",
       "      <td>36.665635</td>\n",
       "      <td>108.648265</td>\n",
       "      <td>-7.825986</td>\n",
       "      <td>Abnormal</td>\n",
       "    </tr>\n",
       "    <tr>\n",
       "      <th>11</th>\n",
       "      <td>31.232387</td>\n",
       "      <td>17.715819</td>\n",
       "      <td>15.500000</td>\n",
       "      <td>13.516568</td>\n",
       "      <td>120.055399</td>\n",
       "      <td>0.499751</td>\n",
       "      <td>Abnormal</td>\n",
       "    </tr>\n",
       "    <tr>\n",
       "      <th>12</th>\n",
       "      <td>48.915551</td>\n",
       "      <td>19.964556</td>\n",
       "      <td>40.263794</td>\n",
       "      <td>28.950995</td>\n",
       "      <td>119.321358</td>\n",
       "      <td>8.028895</td>\n",
       "      <td>Abnormal</td>\n",
       "    </tr>\n",
       "    <tr>\n",
       "      <th>13</th>\n",
       "      <td>53.572170</td>\n",
       "      <td>20.460828</td>\n",
       "      <td>33.100000</td>\n",
       "      <td>33.111342</td>\n",
       "      <td>110.966698</td>\n",
       "      <td>7.044803</td>\n",
       "      <td>Abnormal</td>\n",
       "    </tr>\n",
       "    <tr>\n",
       "      <th>14</th>\n",
       "      <td>57.300227</td>\n",
       "      <td>24.188885</td>\n",
       "      <td>47.000000</td>\n",
       "      <td>33.111342</td>\n",
       "      <td>116.806587</td>\n",
       "      <td>5.766947</td>\n",
       "      <td>Abnormal</td>\n",
       "    </tr>\n",
       "    <tr>\n",
       "      <th>15</th>\n",
       "      <td>44.318907</td>\n",
       "      <td>12.537992</td>\n",
       "      <td>36.098763</td>\n",
       "      <td>31.780915</td>\n",
       "      <td>124.115836</td>\n",
       "      <td>5.415825</td>\n",
       "      <td>Abnormal</td>\n",
       "    </tr>\n",
       "    <tr>\n",
       "      <th>16</th>\n",
       "      <td>63.834982</td>\n",
       "      <td>20.362507</td>\n",
       "      <td>54.552434</td>\n",
       "      <td>43.472475</td>\n",
       "      <td>112.309491</td>\n",
       "      <td>-0.622527</td>\n",
       "      <td>Abnormal</td>\n",
       "    </tr>\n",
       "    <tr>\n",
       "      <th>17</th>\n",
       "      <td>31.276012</td>\n",
       "      <td>3.144669</td>\n",
       "      <td>32.562996</td>\n",
       "      <td>28.131342</td>\n",
       "      <td>129.011418</td>\n",
       "      <td>3.623020</td>\n",
       "      <td>Abnormal</td>\n",
       "    </tr>\n",
       "    <tr>\n",
       "      <th>18</th>\n",
       "      <td>38.697912</td>\n",
       "      <td>13.444749</td>\n",
       "      <td>31.000000</td>\n",
       "      <td>25.253163</td>\n",
       "      <td>123.159251</td>\n",
       "      <td>1.429186</td>\n",
       "      <td>Abnormal</td>\n",
       "    </tr>\n",
       "    <tr>\n",
       "      <th>19</th>\n",
       "      <td>41.729963</td>\n",
       "      <td>12.254074</td>\n",
       "      <td>30.122586</td>\n",
       "      <td>29.475889</td>\n",
       "      <td>116.585706</td>\n",
       "      <td>-1.244402</td>\n",
       "      <td>Abnormal</td>\n",
       "    </tr>\n",
       "    <tr>\n",
       "      <th>20</th>\n",
       "      <td>43.922840</td>\n",
       "      <td>14.177959</td>\n",
       "      <td>37.832547</td>\n",
       "      <td>29.744881</td>\n",
       "      <td>134.461016</td>\n",
       "      <td>6.451648</td>\n",
       "      <td>Abnormal</td>\n",
       "    </tr>\n",
       "    <tr>\n",
       "      <th>21</th>\n",
       "      <td>54.919443</td>\n",
       "      <td>21.062332</td>\n",
       "      <td>42.200000</td>\n",
       "      <td>33.857110</td>\n",
       "      <td>125.212716</td>\n",
       "      <td>2.432561</td>\n",
       "      <td>Abnormal</td>\n",
       "    </tr>\n",
       "    <tr>\n",
       "      <th>22</th>\n",
       "      <td>63.073611</td>\n",
       "      <td>24.413803</td>\n",
       "      <td>54.000000</td>\n",
       "      <td>38.659808</td>\n",
       "      <td>106.424329</td>\n",
       "      <td>15.779697</td>\n",
       "      <td>Abnormal</td>\n",
       "    </tr>\n",
       "    <tr>\n",
       "      <th>23</th>\n",
       "      <td>45.540790</td>\n",
       "      <td>13.069598</td>\n",
       "      <td>30.298321</td>\n",
       "      <td>32.471192</td>\n",
       "      <td>117.980830</td>\n",
       "      <td>-4.987130</td>\n",
       "      <td>Abnormal</td>\n",
       "    </tr>\n",
       "    <tr>\n",
       "      <th>24</th>\n",
       "      <td>36.125683</td>\n",
       "      <td>22.758753</td>\n",
       "      <td>29.000000</td>\n",
       "      <td>13.366931</td>\n",
       "      <td>115.577116</td>\n",
       "      <td>-3.237562</td>\n",
       "      <td>Abnormal</td>\n",
       "    </tr>\n",
       "    <tr>\n",
       "      <th>25</th>\n",
       "      <td>54.124920</td>\n",
       "      <td>26.650489</td>\n",
       "      <td>35.329747</td>\n",
       "      <td>27.474432</td>\n",
       "      <td>121.447011</td>\n",
       "      <td>1.571205</td>\n",
       "      <td>Abnormal</td>\n",
       "    </tr>\n",
       "    <tr>\n",
       "      <th>26</th>\n",
       "      <td>26.147921</td>\n",
       "      <td>10.759454</td>\n",
       "      <td>14.000000</td>\n",
       "      <td>15.388468</td>\n",
       "      <td>125.203296</td>\n",
       "      <td>-10.093108</td>\n",
       "      <td>Abnormal</td>\n",
       "    </tr>\n",
       "    <tr>\n",
       "      <th>27</th>\n",
       "      <td>43.580964</td>\n",
       "      <td>16.508884</td>\n",
       "      <td>47.000000</td>\n",
       "      <td>27.072080</td>\n",
       "      <td>109.271634</td>\n",
       "      <td>8.992816</td>\n",
       "      <td>Abnormal</td>\n",
       "    </tr>\n",
       "    <tr>\n",
       "      <th>28</th>\n",
       "      <td>44.551012</td>\n",
       "      <td>21.931147</td>\n",
       "      <td>26.785916</td>\n",
       "      <td>22.619865</td>\n",
       "      <td>111.072920</td>\n",
       "      <td>2.652321</td>\n",
       "      <td>Abnormal</td>\n",
       "    </tr>\n",
       "    <tr>\n",
       "      <th>29</th>\n",
       "      <td>66.879211</td>\n",
       "      <td>24.891999</td>\n",
       "      <td>49.278597</td>\n",
       "      <td>41.987212</td>\n",
       "      <td>113.477018</td>\n",
       "      <td>-2.005892</td>\n",
       "      <td>Abnormal</td>\n",
       "    </tr>\n",
       "  </tbody>\n",
       "</table>\n",
       "</div>"
      ],
      "text/plain": [
       "    pelvic_incidence  pelvic_tilt numeric  lumbar_lordosis_angle  \\\n",
       "0          63.027817            22.552586              39.609117   \n",
       "1          39.056951            10.060991              25.015378   \n",
       "2          68.832021            22.218482              50.092194   \n",
       "3          69.297008            24.652878              44.311238   \n",
       "4          49.712859             9.652075              28.317406   \n",
       "5          40.250200            13.921907              25.124950   \n",
       "6          53.432928            15.864336              37.165934   \n",
       "7          45.366754            10.755611              29.038349   \n",
       "8          43.790190            13.533753              42.690814   \n",
       "9          36.686353             5.010884              41.948751   \n",
       "10         49.706610            13.040974              31.334500   \n",
       "11         31.232387            17.715819              15.500000   \n",
       "12         48.915551            19.964556              40.263794   \n",
       "13         53.572170            20.460828              33.100000   \n",
       "14         57.300227            24.188885              47.000000   \n",
       "15         44.318907            12.537992              36.098763   \n",
       "16         63.834982            20.362507              54.552434   \n",
       "17         31.276012             3.144669              32.562996   \n",
       "18         38.697912            13.444749              31.000000   \n",
       "19         41.729963            12.254074              30.122586   \n",
       "20         43.922840            14.177959              37.832547   \n",
       "21         54.919443            21.062332              42.200000   \n",
       "22         63.073611            24.413803              54.000000   \n",
       "23         45.540790            13.069598              30.298321   \n",
       "24         36.125683            22.758753              29.000000   \n",
       "25         54.124920            26.650489              35.329747   \n",
       "26         26.147921            10.759454              14.000000   \n",
       "27         43.580964            16.508884              47.000000   \n",
       "28         44.551012            21.931147              26.785916   \n",
       "29         66.879211            24.891999              49.278597   \n",
       "\n",
       "    sacral_slope  pelvic_radius  degree_spondylolisthesis     class  \n",
       "0      40.475232      98.672917                 -0.254400  Abnormal  \n",
       "1      28.995960     114.405425                  4.564259  Abnormal  \n",
       "2      46.613539     105.985135                 -3.530317  Abnormal  \n",
       "3      44.644130     101.868495                 11.211523  Abnormal  \n",
       "4      40.060784     108.168725                  7.918501  Abnormal  \n",
       "5      26.328293     130.327871                  2.230652  Abnormal  \n",
       "6      37.568592     120.567523                  5.988551  Abnormal  \n",
       "7      34.611142     117.270067                -10.675871  Abnormal  \n",
       "8      30.256437     125.002893                 13.289018  Abnormal  \n",
       "9      31.675469      84.241415                  0.664437  Abnormal  \n",
       "10     36.665635     108.648265                 -7.825986  Abnormal  \n",
       "11     13.516568     120.055399                  0.499751  Abnormal  \n",
       "12     28.950995     119.321358                  8.028895  Abnormal  \n",
       "13     33.111342     110.966698                  7.044803  Abnormal  \n",
       "14     33.111342     116.806587                  5.766947  Abnormal  \n",
       "15     31.780915     124.115836                  5.415825  Abnormal  \n",
       "16     43.472475     112.309491                 -0.622527  Abnormal  \n",
       "17     28.131342     129.011418                  3.623020  Abnormal  \n",
       "18     25.253163     123.159251                  1.429186  Abnormal  \n",
       "19     29.475889     116.585706                 -1.244402  Abnormal  \n",
       "20     29.744881     134.461016                  6.451648  Abnormal  \n",
       "21     33.857110     125.212716                  2.432561  Abnormal  \n",
       "22     38.659808     106.424329                 15.779697  Abnormal  \n",
       "23     32.471192     117.980830                 -4.987130  Abnormal  \n",
       "24     13.366931     115.577116                 -3.237562  Abnormal  \n",
       "25     27.474432     121.447011                  1.571205  Abnormal  \n",
       "26     15.388468     125.203296                -10.093108  Abnormal  \n",
       "27     27.072080     109.271634                  8.992816  Abnormal  \n",
       "28     22.619865     111.072920                  2.652321  Abnormal  \n",
       "29     41.987212     113.477018                 -2.005892  Abnormal  "
      ]
     },
     "execution_count": 9,
     "metadata": {},
     "output_type": "execute_result"
    }
   ],
   "source": [
    "df.head(30)"
   ]
  },
  {
   "cell_type": "code",
   "execution_count": 10,
   "id": "da8db7dd",
   "metadata": {
    "execution": {
     "iopub.execute_input": "2023-04-07T17:34:10.768836Z",
     "iopub.status.busy": "2023-04-07T17:34:10.768403Z",
     "iopub.status.idle": "2023-04-07T17:34:10.784216Z",
     "shell.execute_reply": "2023-04-07T17:34:10.782746Z"
    },
    "papermill": {
     "duration": 0.025202,
     "end_time": "2023-04-07T17:34:10.786888",
     "exception": false,
     "start_time": "2023-04-07T17:34:10.761686",
     "status": "completed"
    },
    "tags": []
   },
   "outputs": [
    {
     "data": {
      "text/html": [
       "<div>\n",
       "<style scoped>\n",
       "    .dataframe tbody tr th:only-of-type {\n",
       "        vertical-align: middle;\n",
       "    }\n",
       "\n",
       "    .dataframe tbody tr th {\n",
       "        vertical-align: top;\n",
       "    }\n",
       "\n",
       "    .dataframe thead th {\n",
       "        text-align: right;\n",
       "    }\n",
       "</style>\n",
       "<table border=\"1\" class=\"dataframe\">\n",
       "  <thead>\n",
       "    <tr style=\"text-align: right;\">\n",
       "      <th></th>\n",
       "      <th>pelvic_incidence</th>\n",
       "      <th>pelvic_tilt numeric</th>\n",
       "      <th>lumbar_lordosis_angle</th>\n",
       "      <th>sacral_slope</th>\n",
       "      <th>pelvic_radius</th>\n",
       "      <th>degree_spondylolisthesis</th>\n",
       "      <th>class</th>\n",
       "    </tr>\n",
       "  </thead>\n",
       "  <tbody>\n",
       "    <tr>\n",
       "      <th>305</th>\n",
       "      <td>47.903565</td>\n",
       "      <td>13.616688</td>\n",
       "      <td>36.000000</td>\n",
       "      <td>34.286877</td>\n",
       "      <td>117.449062</td>\n",
       "      <td>-4.245395</td>\n",
       "      <td>Normal</td>\n",
       "    </tr>\n",
       "    <tr>\n",
       "      <th>306</th>\n",
       "      <td>53.936748</td>\n",
       "      <td>20.721496</td>\n",
       "      <td>29.220534</td>\n",
       "      <td>33.215251</td>\n",
       "      <td>114.365845</td>\n",
       "      <td>-0.421010</td>\n",
       "      <td>Normal</td>\n",
       "    </tr>\n",
       "    <tr>\n",
       "      <th>307</th>\n",
       "      <td>61.446597</td>\n",
       "      <td>22.694968</td>\n",
       "      <td>46.170347</td>\n",
       "      <td>38.751628</td>\n",
       "      <td>125.670725</td>\n",
       "      <td>-2.707880</td>\n",
       "      <td>Normal</td>\n",
       "    </tr>\n",
       "    <tr>\n",
       "      <th>308</th>\n",
       "      <td>45.252792</td>\n",
       "      <td>8.693157</td>\n",
       "      <td>41.583126</td>\n",
       "      <td>36.559635</td>\n",
       "      <td>118.545842</td>\n",
       "      <td>0.214750</td>\n",
       "      <td>Normal</td>\n",
       "    </tr>\n",
       "    <tr>\n",
       "      <th>309</th>\n",
       "      <td>33.841641</td>\n",
       "      <td>5.073991</td>\n",
       "      <td>36.641233</td>\n",
       "      <td>28.767649</td>\n",
       "      <td>123.945244</td>\n",
       "      <td>-0.199249</td>\n",
       "      <td>Normal</td>\n",
       "    </tr>\n",
       "  </tbody>\n",
       "</table>\n",
       "</div>"
      ],
      "text/plain": [
       "     pelvic_incidence  pelvic_tilt numeric  lumbar_lordosis_angle  \\\n",
       "305         47.903565            13.616688              36.000000   \n",
       "306         53.936748            20.721496              29.220534   \n",
       "307         61.446597            22.694968              46.170347   \n",
       "308         45.252792             8.693157              41.583126   \n",
       "309         33.841641             5.073991              36.641233   \n",
       "\n",
       "     sacral_slope  pelvic_radius  degree_spondylolisthesis   class  \n",
       "305     34.286877     117.449062                 -4.245395  Normal  \n",
       "306     33.215251     114.365845                 -0.421010  Normal  \n",
       "307     38.751628     125.670725                 -2.707880  Normal  \n",
       "308     36.559635     118.545842                  0.214750  Normal  \n",
       "309     28.767649     123.945244                 -0.199249  Normal  "
      ]
     },
     "execution_count": 10,
     "metadata": {},
     "output_type": "execute_result"
    }
   ],
   "source": [
    "df.tail()"
   ]
  },
  {
   "cell_type": "code",
   "execution_count": 11,
   "id": "01a6951a",
   "metadata": {
    "execution": {
     "iopub.execute_input": "2023-04-07T17:34:10.800286Z",
     "iopub.status.busy": "2023-04-07T17:34:10.799307Z",
     "iopub.status.idle": "2023-04-07T17:34:11.021425Z",
     "shell.execute_reply": "2023-04-07T17:34:11.019772Z"
    },
    "papermill": {
     "duration": 0.232553,
     "end_time": "2023-04-07T17:34:11.024955",
     "exception": false,
     "start_time": "2023-04-07T17:34:10.792402",
     "status": "completed"
    },
    "tags": []
   },
   "outputs": [
    {
     "data": {
      "image/png": "[encoded data removed]",
      "text/plain": [
       "<Figure size 640x480 with 1 Axes>"
      ]
     },
     "metadata": {},
     "output_type": "display_data"
    }
   ],
   "source": [
    "abnormaldata1 = df[df[\"class\"]==\"Abnormal\"]\n",
    "x=np.array(abnormaldata1.loc[:,\"pelvic_incidence\"]).reshape(-1,1)\n",
    "y=np.array(abnormaldata1.loc[:,\"sacral_slope\"]).reshape(-1,1)\n",
    "\n",
    "plt.scatter(x,y)\n",
    "plt.xlabel(\"pelvic_incidence\")\n",
    "plt.ylabel(\"sacral_slope\")\n",
    "plt.show()"
   ]
  },
  {
   "cell_type": "code",
   "execution_count": 12,
   "id": "41f57844",
   "metadata": {
    "execution": {
     "iopub.execute_input": "2023-04-07T17:34:11.040471Z",
     "iopub.status.busy": "2023-04-07T17:34:11.040018Z",
     "iopub.status.idle": "2023-04-07T17:34:11.050764Z",
     "shell.execute_reply": "2023-04-07T17:34:11.049858Z"
    },
    "papermill": {
     "duration": 0.020656,
     "end_time": "2023-04-07T17:34:11.052901",
     "exception": false,
     "start_time": "2023-04-07T17:34:11.032245",
     "status": "completed"
    },
    "tags": []
   },
   "outputs": [
    {
     "data": {
      "text/plain": [
       "LinearRegression()"
      ]
     },
     "execution_count": 12,
     "metadata": {},
     "output_type": "execute_result"
    }
   ],
   "source": [
    "x_train,x_test,y_train,y_test=train_test_split(x,y,test_size=0.2,random_state=2)\n",
    "lr=LinearRegression()\n",
    "lr.fit(x_train,y_train)"
   ]
  },
  {
   "cell_type": "code",
   "execution_count": 13,
   "id": "64634038",
   "metadata": {
    "execution": {
     "iopub.execute_input": "2023-04-07T17:34:11.067353Z",
     "iopub.status.busy": "2023-04-07T17:34:11.066699Z",
     "iopub.status.idle": "2023-04-07T17:34:11.073449Z",
     "shell.execute_reply": "2023-04-07T17:34:11.072220Z"
    },
    "papermill": {
     "duration": 0.016585,
     "end_time": "2023-04-07T17:34:11.075658",
     "exception": false,
     "start_time": "2023-04-07T17:34:11.059073",
     "status": "completed"
    },
    "tags": []
   },
   "outputs": [
    {
     "name": "stdout",
     "output_type": "stream",
     "text": [
      "0.427619799498007\n"
     ]
    }
   ],
   "source": [
    "y_pred=lr.predict(x_test)\n",
    "print(r2_score(y_test,y_pred))"
   ]
  },
  {
   "cell_type": "code",
   "execution_count": 14,
   "id": "305096b0",
   "metadata": {
    "execution": {
     "iopub.execute_input": "2023-04-07T17:34:11.090132Z",
     "iopub.status.busy": "2023-04-07T17:34:11.089310Z",
     "iopub.status.idle": "2023-04-07T17:34:11.099317Z",
     "shell.execute_reply": "2023-04-07T17:34:11.097998Z"
    },
    "papermill": {
     "duration": 0.019986,
     "end_time": "2023-04-07T17:34:11.101793",
     "exception": false,
     "start_time": "2023-04-07T17:34:11.081807",
     "status": "completed"
    },
    "tags": []
   },
   "outputs": [
    {
     "name": "stdout",
     "output_type": "stream",
     "text": [
      "0.4450433674101977\n"
     ]
    }
   ],
   "source": [
    "poly = PolynomialFeatures(degree=12,include_bias=True)\n",
    "x_train_trans = poly.fit_transform(x_train)\n",
    "x_test_trans = poly.transform(x_test)\n",
    "lr=LinearRegression()\n",
    "lr.fit(x_train_trans,y_train)\n",
    "y_pred = lr.predict(x_test_trans)\n",
    "print(r2_score(y_test,y_pred))"
   ]
  }
 ],
 "metadata": {
  "kernelspec": {
   "display_name": "Python 3",
   "language": "python",
   "name": "python3"
  },
  "language_info": {
   "codemirror_mode": {
    "name": "ipython",
    "version": 3
   },
   "file_extension": ".py",
   "mimetype": "text/x-python",
   "name": "python",
   "nbconvert_exporter": "python",
   "pygments_lexer": "ipython3",
   "version": "3.7.12"
  },
  "papermill": {
   "default_parameters": {},
   "duration": 13.420963,
   "end_time": "2023-04-07T17:34:11.830354",
   "environment_variables": {},
   "exception": null,
   "input_path": "__notebook__.ipynb",
   "output_path": "__notebook__.ipynb",
   "parameters": {},
   "start_time": "2023-04-07T17:33:58.409391",
   "version": "2.4.0"
  }
 },
 "nbformat": 4,
 "nbformat_minor": 5
}
