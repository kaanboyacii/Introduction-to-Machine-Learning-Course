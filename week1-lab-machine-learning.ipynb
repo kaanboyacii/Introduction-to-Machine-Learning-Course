{
 "cells": [
  {
   "cell_type": "code",
   "execution_count": 1,
   "id": "372b8f85",
   "metadata": {
    "_cell_guid": "b1076dfc-b9ad-4769-8c92-a6c4dae69d19",
    "_uuid": "8f2839f25d086af736a60e9eeb907d3b93b6e0e5",
    "execution": {
     "iopub.execute_input": "2023-03-03T15:09:18.224953Z",
     "iopub.status.busy": "2023-03-03T15:09:18.224275Z",
     "iopub.status.idle": "2023-03-03T15:09:18.235648Z",
     "shell.execute_reply": "2023-03-03T15:09:18.234396Z"
    },
    "papermill": {
     "duration": 0.023246,
     "end_time": "2023-03-03T15:09:18.238504",
     "exception": false,
     "start_time": "2023-03-03T15:09:18.215258",
     "status": "completed"
    },
    "tags": []
   },
   "outputs": [],
   "source": [
    "# This Python 3 environment comes with many helpful analytics libraries installed\n",
    "# It is defined by the kaggle/python Docker image: https://github.com/kaggle/docker-python\n",
    "# For example, here's several helpful packages to load\n",
    "\n",
    "import numpy as np # linear algebra\n",
    "import pandas as pd # data processing, CSV file I/O (e.g. pd.read_csv)\n",
    "\n",
    "# Input data files are available in the read-only \"../input/\" directory\n",
    "# For example, running this (by clicking run or pressing Shift+Enter) will list all files under the input directory\n",
    "\n",
    "import os\n",
    "for dirname, _, filenames in os.walk('/kaggle/input'):\n",
    "    for filename in filenames:\n",
    "        print(os.path.join(dirname, filename))\n",
    "\n",
    "# You can write up to 20GB to the current directory (/kaggle/working/) that gets preserved as output when you create a version using \"Save & Run All\" \n",
    "# You can also write temporary files to /kaggle/temp/, but they won't be saved outside of the current session"
   ]
  },
  {
   "cell_type": "code",
   "execution_count": 2,
   "id": "ec9190db",
   "metadata": {
    "execution": {
     "iopub.execute_input": "2023-03-03T15:09:18.252883Z",
     "iopub.status.busy": "2023-03-03T15:09:18.252190Z",
     "iopub.status.idle": "2023-03-03T15:09:18.257709Z",
     "shell.execute_reply": "2023-03-03T15:09:18.256519Z"
    },
    "papermill": {
     "duration": 0.01551,
     "end_time": "2023-03-03T15:09:18.260270",
     "exception": false,
     "start_time": "2023-03-03T15:09:18.244760",
     "status": "completed"
    },
    "tags": []
   },
   "outputs": [],
   "source": [
    "var1 = 540\n",
    "var2 = 421\n",
    "var3 = 18.2\n",
    "day = \"kaan\""
   ]
  },
  {
   "cell_type": "code",
   "execution_count": 3,
   "id": "7f281a89",
   "metadata": {
    "execution": {
     "iopub.execute_input": "2023-03-03T15:09:18.275091Z",
     "iopub.status.busy": "2023-03-03T15:09:18.274424Z",
     "iopub.status.idle": "2023-03-03T15:09:18.281716Z",
     "shell.execute_reply": "2023-03-03T15:09:18.280424Z"
    },
    "papermill": {
     "duration": 0.017724,
     "end_time": "2023-03-03T15:09:18.283984",
     "exception": false,
     "start_time": "2023-03-03T15:09:18.266260",
     "status": "completed"
    },
    "tags": []
   },
   "outputs": [
    {
     "data": {
      "text/plain": [
       "list"
      ]
     },
     "execution_count": 3,
     "metadata": {},
     "output_type": "execute_result"
    }
   ],
   "source": [
    "list_int = [1,2,3,4,5]\n",
    "type(list_int)"
   ]
  },
  {
   "cell_type": "code",
   "execution_count": 4,
   "id": "9dfa7051",
   "metadata": {
    "execution": {
     "iopub.execute_input": "2023-03-03T15:09:18.298061Z",
     "iopub.status.busy": "2023-03-03T15:09:18.297611Z",
     "iopub.status.idle": "2023-03-03T15:09:18.303988Z",
     "shell.execute_reply": "2023-03-03T15:09:18.302465Z"
    },
    "papermill": {
     "duration": 0.016433,
     "end_time": "2023-03-03T15:09:18.306650",
     "exception": false,
     "start_time": "2023-03-03T15:09:18.290217",
     "status": "completed"
    },
    "tags": []
   },
   "outputs": [
    {
     "name": "stdout",
     "output_type": "stream",
     "text": [
      "3\n"
     ]
    }
   ],
   "source": [
    "value = list_int[2]\n",
    "print(value)"
   ]
  },
  {
   "cell_type": "code",
   "execution_count": 5,
   "id": "f08df19d",
   "metadata": {
    "execution": {
     "iopub.execute_input": "2023-03-03T15:09:18.321069Z",
     "iopub.status.busy": "2023-03-03T15:09:18.320627Z",
     "iopub.status.idle": "2023-03-03T15:09:18.327775Z",
     "shell.execute_reply": "2023-03-03T15:09:18.326609Z"
    },
    "papermill": {
     "duration": 0.01732,
     "end_time": "2023-03-03T15:09:18.330284",
     "exception": false,
     "start_time": "2023-03-03T15:09:18.312964",
     "status": "completed"
    },
    "tags": []
   },
   "outputs": [
    {
     "data": {
      "text/plain": [
       "3"
      ]
     },
     "execution_count": 5,
     "metadata": {},
     "output_type": "execute_result"
    }
   ],
   "source": [
    "value"
   ]
  },
  {
   "cell_type": "code",
   "execution_count": 6,
   "id": "9a0a179a",
   "metadata": {
    "execution": {
     "iopub.execute_input": "2023-03-03T15:09:18.346616Z",
     "iopub.status.busy": "2023-03-03T15:09:18.345686Z",
     "iopub.status.idle": "2023-03-03T15:09:18.354807Z",
     "shell.execute_reply": "2023-03-03T15:09:18.353304Z"
    },
    "papermill": {
     "duration": 0.021724,
     "end_time": "2023-03-03T15:09:18.358327",
     "exception": false,
     "start_time": "2023-03-03T15:09:18.336603",
     "status": "completed"
    },
    "tags": []
   },
   "outputs": [
    {
     "data": {
      "text/plain": [
       "4"
      ]
     },
     "execution_count": 6,
     "metadata": {},
     "output_type": "execute_result"
    }
   ],
   "source": [
    "list_int[-2]"
   ]
  },
  {
   "cell_type": "code",
   "execution_count": 7,
   "id": "b3937bf2",
   "metadata": {
    "execution": {
     "iopub.execute_input": "2023-03-03T15:09:18.376512Z",
     "iopub.status.busy": "2023-03-03T15:09:18.376124Z",
     "iopub.status.idle": "2023-03-03T15:09:18.384118Z",
     "shell.execute_reply": "2023-03-03T15:09:18.382523Z"
    },
    "papermill": {
     "duration": 0.019991,
     "end_time": "2023-03-03T15:09:18.387419",
     "exception": false,
     "start_time": "2023-03-03T15:09:18.367428",
     "status": "completed"
    },
    "tags": []
   },
   "outputs": [
    {
     "data": {
      "text/plain": [
       "[3, 4]"
      ]
     },
     "execution_count": 7,
     "metadata": {},
     "output_type": "execute_result"
    }
   ],
   "source": [
    "list_int[2:4]"
   ]
  },
  {
   "cell_type": "code",
   "execution_count": 8,
   "id": "8152aac7",
   "metadata": {
    "execution": {
     "iopub.execute_input": "2023-03-03T15:09:18.405711Z",
     "iopub.status.busy": "2023-03-03T15:09:18.404782Z",
     "iopub.status.idle": "2023-03-03T15:09:18.413719Z",
     "shell.execute_reply": "2023-03-03T15:09:18.412381Z"
    },
    "papermill": {
     "duration": 0.020076,
     "end_time": "2023-03-03T15:09:18.416280",
     "exception": false,
     "start_time": "2023-03-03T15:09:18.396204",
     "status": "completed"
    },
    "tags": []
   },
   "outputs": [
    {
     "data": {
      "text/plain": [
       "['__add__',\n",
       " '__class__',\n",
       " '__contains__',\n",
       " '__delattr__',\n",
       " '__delitem__',\n",
       " '__dir__',\n",
       " '__doc__',\n",
       " '__eq__',\n",
       " '__format__',\n",
       " '__ge__',\n",
       " '__getattribute__',\n",
       " '__getitem__',\n",
       " '__gt__',\n",
       " '__hash__',\n",
       " '__iadd__',\n",
       " '__imul__',\n",
       " '__init__',\n",
       " '__init_subclass__',\n",
       " '__iter__',\n",
       " '__le__',\n",
       " '__len__',\n",
       " '__lt__',\n",
       " '__mul__',\n",
       " '__ne__',\n",
       " '__new__',\n",
       " '__reduce__',\n",
       " '__reduce_ex__',\n",
       " '__repr__',\n",
       " '__reversed__',\n",
       " '__rmul__',\n",
       " '__setattr__',\n",
       " '__setitem__',\n",
       " '__sizeof__',\n",
       " '__str__',\n",
       " '__subclasshook__',\n",
       " 'append',\n",
       " 'clear',\n",
       " 'copy',\n",
       " 'count',\n",
       " 'extend',\n",
       " 'index',\n",
       " 'insert',\n",
       " 'pop',\n",
       " 'remove',\n",
       " 'reverse',\n",
       " 'sort']"
      ]
     },
     "execution_count": 8,
     "metadata": {},
     "output_type": "execute_result"
    }
   ],
   "source": [
    "dir(list_int)"
   ]
  },
  {
   "cell_type": "code",
   "execution_count": 9,
   "id": "92de890d",
   "metadata": {
    "execution": {
     "iopub.execute_input": "2023-03-03T15:09:18.431740Z",
     "iopub.status.busy": "2023-03-03T15:09:18.431325Z",
     "iopub.status.idle": "2023-03-03T15:09:18.437364Z",
     "shell.execute_reply": "2023-03-03T15:09:18.436034Z"
    },
    "papermill": {
     "duration": 0.016813,
     "end_time": "2023-03-03T15:09:18.439926",
     "exception": false,
     "start_time": "2023-03-03T15:09:18.423113",
     "status": "completed"
    },
    "tags": []
   },
   "outputs": [
    {
     "name": "stdout",
     "output_type": "stream",
     "text": [
      "[1, 2, 3, 4, 5, 3]\n"
     ]
    }
   ],
   "source": [
    "list_int.append(3)\n",
    "print(list_int)"
   ]
  },
  {
   "cell_type": "code",
   "execution_count": 10,
   "id": "3997ebd0",
   "metadata": {
    "execution": {
     "iopub.execute_input": "2023-03-03T15:09:18.459530Z",
     "iopub.status.busy": "2023-03-03T15:09:18.457780Z",
     "iopub.status.idle": "2023-03-03T15:09:18.466306Z",
     "shell.execute_reply": "2023-03-03T15:09:18.465002Z"
    },
    "papermill": {
     "duration": 0.022129,
     "end_time": "2023-03-03T15:09:18.468829",
     "exception": false,
     "start_time": "2023-03-03T15:09:18.446700",
     "status": "completed"
    },
    "tags": []
   },
   "outputs": [
    {
     "name": "stdout",
     "output_type": "stream",
     "text": [
      "[1, 2, 4, 5, 3]\n"
     ]
    }
   ],
   "source": [
    "list_int.remove(3)\n",
    "print(list_int)"
   ]
  },
  {
   "cell_type": "code",
   "execution_count": 11,
   "id": "21f8cf63",
   "metadata": {
    "execution": {
     "iopub.execute_input": "2023-03-03T15:09:18.487826Z",
     "iopub.status.busy": "2023-03-03T15:09:18.486276Z",
     "iopub.status.idle": "2023-03-03T15:09:18.494246Z",
     "shell.execute_reply": "2023-03-03T15:09:18.492894Z"
    },
    "papermill": {
     "duration": 0.021147,
     "end_time": "2023-03-03T15:09:18.496827",
     "exception": false,
     "start_time": "2023-03-03T15:09:18.475680",
     "status": "completed"
    },
    "tags": []
   },
   "outputs": [
    {
     "name": "stdout",
     "output_type": "stream",
     "text": [
      "[3, 5, 4, 2, 1]\n"
     ]
    }
   ],
   "source": [
    "list_int.reverse()\n",
    "print(list_int)"
   ]
  },
  {
   "cell_type": "code",
   "execution_count": 12,
   "id": "2b9d5e2b",
   "metadata": {
    "execution": {
     "iopub.execute_input": "2023-03-03T15:09:18.517239Z",
     "iopub.status.busy": "2023-03-03T15:09:18.516260Z",
     "iopub.status.idle": "2023-03-03T15:09:18.523614Z",
     "shell.execute_reply": "2023-03-03T15:09:18.522082Z"
    },
    "papermill": {
     "duration": 0.020961,
     "end_time": "2023-03-03T15:09:18.526203",
     "exception": false,
     "start_time": "2023-03-03T15:09:18.505242",
     "status": "completed"
    },
    "tags": []
   },
   "outputs": [
    {
     "name": "stdout",
     "output_type": "stream",
     "text": [
      "[1, 2, 3, 4, 5]\n"
     ]
    }
   ],
   "source": [
    "list_int.sort()\n",
    "print(list_int)"
   ]
  },
  {
   "cell_type": "code",
   "execution_count": 13,
   "id": "c621fae3",
   "metadata": {
    "execution": {
     "iopub.execute_input": "2023-03-03T15:09:18.544407Z",
     "iopub.status.busy": "2023-03-03T15:09:18.543419Z",
     "iopub.status.idle": "2023-03-03T15:09:18.551630Z",
     "shell.execute_reply": "2023-03-03T15:09:18.550184Z"
    },
    "papermill": {
     "duration": 0.021262,
     "end_time": "2023-03-03T15:09:18.554498",
     "exception": false,
     "start_time": "2023-03-03T15:09:18.533236",
     "status": "completed"
    },
    "tags": []
   },
   "outputs": [
    {
     "name": "stdout",
     "output_type": "stream",
     "text": [
      "1\n",
      "2\n",
      "3\n"
     ]
    }
   ],
   "source": [
    "for each in range(1,4):\n",
    "    print(each)"
   ]
  },
  {
   "cell_type": "code",
   "execution_count": 14,
   "id": "87285d05",
   "metadata": {
    "execution": {
     "iopub.execute_input": "2023-03-03T15:09:18.570707Z",
     "iopub.status.busy": "2023-03-03T15:09:18.570298Z",
     "iopub.status.idle": "2023-03-03T15:09:18.586403Z",
     "shell.execute_reply": "2023-03-03T15:09:18.585047Z"
    },
    "papermill": {
     "duration": 0.027149,
     "end_time": "2023-03-03T15:09:18.588795",
     "exception": false,
     "start_time": "2023-03-03T15:09:18.561646",
     "status": "completed"
    },
    "tags": []
   },
   "outputs": [
    {
     "data": {
      "text/plain": [
       "86"
      ]
     },
     "execution_count": 14,
     "metadata": {},
     "output_type": "execute_result"
    }
   ],
   "source": [
    "liste = [1,2,3,4,6,7,8,9,10,11,12,13]\n",
    "sum(liste)\n"
   ]
  },
  {
   "cell_type": "code",
   "execution_count": 15,
   "id": "537c6f5c",
   "metadata": {
    "execution": {
     "iopub.execute_input": "2023-03-03T15:09:18.605849Z",
     "iopub.status.busy": "2023-03-03T15:09:18.605272Z",
     "iopub.status.idle": "2023-03-03T15:09:18.612584Z",
     "shell.execute_reply": "2023-03-03T15:09:18.611336Z"
    },
    "papermill": {
     "duration": 0.01872,
     "end_time": "2023-03-03T15:09:18.614803",
     "exception": false,
     "start_time": "2023-03-03T15:09:18.596083",
     "status": "completed"
    },
    "tags": []
   },
   "outputs": [
    {
     "name": "stdout",
     "output_type": "stream",
     "text": [
      "1\n"
     ]
    }
   ],
   "source": [
    "minimum = 1000\n",
    "for each in liste:\n",
    "    if(each<minimum):\n",
    "        minimum = each\n",
    "    else:\n",
    "        continue\n",
    "print(minimum) "
   ]
  },
  {
   "cell_type": "code",
   "execution_count": 16,
   "id": "49a27247",
   "metadata": {
    "execution": {
     "iopub.execute_input": "2023-03-03T15:09:18.633344Z",
     "iopub.status.busy": "2023-03-03T15:09:18.632053Z",
     "iopub.status.idle": "2023-03-03T15:09:18.639825Z",
     "shell.execute_reply": "2023-03-03T15:09:18.638204Z"
    },
    "papermill": {
     "duration": 0.020141,
     "end_time": "2023-03-03T15:09:18.642279",
     "exception": false,
     "start_time": "2023-03-03T15:09:18.622138",
     "status": "completed"
    },
    "tags": []
   },
   "outputs": [
    {
     "name": "stdout",
     "output_type": "stream",
     "text": [
      "0\n",
      "1\n",
      "2\n",
      "3\n",
      "4\n",
      "5\n",
      "6\n",
      "7\n",
      "8\n",
      "9\n",
      "10\n",
      "11\n",
      "12\n",
      "13\n",
      "14\n",
      "15\n",
      "16\n",
      "17\n",
      "18\n",
      "19\n"
     ]
    }
   ],
   "source": [
    "i = 0\n",
    "while (i < 20):\n",
    "    print(i)\n",
    "    i= i+1"
   ]
  },
  {
   "cell_type": "code",
   "execution_count": 17,
   "id": "6b8cec06",
   "metadata": {
    "execution": {
     "iopub.execute_input": "2023-03-03T15:09:18.661513Z",
     "iopub.status.busy": "2023-03-03T15:09:18.660139Z",
     "iopub.status.idle": "2023-03-03T15:09:18.669271Z",
     "shell.execute_reply": "2023-03-03T15:09:18.668059Z"
    },
    "papermill": {
     "duration": 0.022147,
     "end_time": "2023-03-03T15:09:18.671711",
     "exception": false,
     "start_time": "2023-03-03T15:09:18.649564",
     "status": "completed"
    },
    "tags": []
   },
   "outputs": [
    {
     "data": {
      "text/plain": [
       "56.52"
      ]
     },
     "execution_count": 17,
     "metadata": {},
     "output_type": "execute_result"
    }
   ],
   "source": [
    "def cember_cevre(r,pi=3.14):\n",
    "    output = 2*pi*r\n",
    "    \n",
    "    return output\n",
    "\n",
    "cember_cevre(9)"
   ]
  },
  {
   "cell_type": "code",
   "execution_count": 18,
   "id": "40e720af",
   "metadata": {
    "execution": {
     "iopub.execute_input": "2023-03-03T15:09:18.689265Z",
     "iopub.status.busy": "2023-03-03T15:09:18.688000Z",
     "iopub.status.idle": "2023-03-03T15:09:18.696369Z",
     "shell.execute_reply": "2023-03-03T15:09:18.694776Z"
    },
    "papermill": {
     "duration": 0.01968,
     "end_time": "2023-03-03T15:09:18.698735",
     "exception": false,
     "start_time": "2023-03-03T15:09:18.679055",
     "status": "completed"
    },
    "tags": []
   },
   "outputs": [
    {
     "name": "stdout",
     "output_type": "stream",
     "text": [
      "16\n"
     ]
    }
   ],
   "source": [
    "def hesapla(x):\n",
    "    output = x*x\n",
    "    return output\n",
    "\n",
    "hesapla(2)\n",
    "\n",
    "sonuc = lambda x: x*x\n",
    "print(sonuc(4))"
   ]
  },
  {
   "cell_type": "code",
   "execution_count": 19,
   "id": "9bd289a8",
   "metadata": {
    "execution": {
     "iopub.execute_input": "2023-03-03T15:09:18.720249Z",
     "iopub.status.busy": "2023-03-03T15:09:18.719098Z",
     "iopub.status.idle": "2023-03-03T15:09:18.727472Z",
     "shell.execute_reply": "2023-03-03T15:09:18.726372Z"
    },
    "papermill": {
     "duration": 0.022383,
     "end_time": "2023-03-03T15:09:18.729907",
     "exception": false,
     "start_time": "2023-03-03T15:09:18.707524",
     "status": "completed"
    },
    "tags": []
   },
   "outputs": [
    {
     "data": {
      "text/plain": [
       "35"
      ]
     },
     "execution_count": 19,
     "metadata": {},
     "output_type": "execute_result"
    }
   ],
   "source": [
    "dictionary = {\"Kaan\":21, \"Ceyda\": 35,\"Kürşat\":45,\"Kemal\":115}\n",
    "\n",
    "dictionary[\"Ceyda\"]"
   ]
  },
  {
   "cell_type": "code",
   "execution_count": 20,
   "id": "eee46160",
   "metadata": {
    "execution": {
     "iopub.execute_input": "2023-03-03T15:09:18.747670Z",
     "iopub.status.busy": "2023-03-03T15:09:18.746967Z",
     "iopub.status.idle": "2023-03-03T15:09:18.754996Z",
     "shell.execute_reply": "2023-03-03T15:09:18.753667Z"
    },
    "papermill": {
     "duration": 0.019753,
     "end_time": "2023-03-03T15:09:18.757793",
     "exception": false,
     "start_time": "2023-03-03T15:09:18.738040",
     "status": "completed"
    },
    "tags": []
   },
   "outputs": [
    {
     "data": {
      "text/plain": [
       "dict_keys(['Kaan', 'Ceyda', 'Kürşat', 'Kemal'])"
      ]
     },
     "execution_count": 20,
     "metadata": {},
     "output_type": "execute_result"
    }
   ],
   "source": [
    "dictionary.keys()"
   ]
  },
  {
   "cell_type": "code",
   "execution_count": 21,
   "id": "b84663cc",
   "metadata": {
    "execution": {
     "iopub.execute_input": "2023-03-03T15:09:18.776436Z",
     "iopub.status.busy": "2023-03-03T15:09:18.776070Z",
     "iopub.status.idle": "2023-03-03T15:09:18.785032Z",
     "shell.execute_reply": "2023-03-03T15:09:18.782902Z"
    },
    "papermill": {
     "duration": 0.021764,
     "end_time": "2023-03-03T15:09:18.787391",
     "exception": false,
     "start_time": "2023-03-03T15:09:18.765627",
     "status": "completed"
    },
    "tags": []
   },
   "outputs": [
    {
     "data": {
      "text/plain": [
       "dict_values([21, 35, 45, 115])"
      ]
     },
     "execution_count": 21,
     "metadata": {},
     "output_type": "execute_result"
    }
   ],
   "source": [
    "dictionary.values()"
   ]
  },
  {
   "cell_type": "code",
   "execution_count": 22,
   "id": "27f37a21",
   "metadata": {
    "execution": {
     "iopub.execute_input": "2023-03-03T15:09:18.804647Z",
     "iopub.status.busy": "2023-03-03T15:09:18.804283Z",
     "iopub.status.idle": "2023-03-03T15:09:18.811212Z",
     "shell.execute_reply": "2023-03-03T15:09:18.809793Z"
    },
    "papermill": {
     "duration": 0.019381,
     "end_time": "2023-03-03T15:09:18.814479",
     "exception": false,
     "start_time": "2023-03-03T15:09:18.795098",
     "status": "completed"
    },
    "tags": []
   },
   "outputs": [
    {
     "name": "stdout",
     "output_type": "stream",
     "text": [
      "{'Kaan': 21, 'Ceyda': 35, 'Kürşat': 45, 'Kemal': 115}\n"
     ]
    }
   ],
   "source": [
    "def deneme():\n",
    "    dictionary = {\"Kaan\":21, \"Ceyda\": 35,\"Kürşat\":45,\"Kemal\":115}\n",
    "    \n",
    "    return dictionary\n",
    "\n",
    "dic = deneme()\n",
    "print(dic)"
   ]
  },
  {
   "cell_type": "code",
   "execution_count": 23,
   "id": "2cbfd775",
   "metadata": {
    "execution": {
     "iopub.execute_input": "2023-03-03T15:09:18.839107Z",
     "iopub.status.busy": "2023-03-03T15:09:18.838611Z",
     "iopub.status.idle": "2023-03-03T15:09:18.845592Z",
     "shell.execute_reply": "2023-03-03T15:09:18.844225Z"
    },
    "papermill": {
     "duration": 0.021692,
     "end_time": "2023-03-03T15:09:18.848056",
     "exception": false,
     "start_time": "2023-03-03T15:09:18.826364",
     "status": "completed"
    },
    "tags": []
   },
   "outputs": [
    {
     "name": "stdout",
     "output_type": "stream",
     "text": [
      "evet\n"
     ]
    }
   ],
   "source": [
    "keys = dictionary.keys()\n",
    "\n",
    "if \"Kürşat\" in keys:\n",
    "    print(\"evet\")\n",
    "else:\n",
    "    print(\"hayır\")"
   ]
  }
 ],
 "metadata": {
  "kernelspec": {
   "display_name": "Python 3",
   "language": "python",
   "name": "python3"
  },
  "language_info": {
   "codemirror_mode": {
    "name": "ipython",
    "version": 3
   },
   "file_extension": ".py",
   "mimetype": "text/x-python",
   "name": "python",
   "nbconvert_exporter": "python",
   "pygments_lexer": "ipython3",
   "version": "3.7.12"
  },
  "papermill": {
   "default_parameters": {},
   "duration": 11.498745,
   "end_time": "2023-03-03T15:09:19.581792",
   "environment_variables": {},
   "exception": null,
   "input_path": "__notebook__.ipynb",
   "output_path": "__notebook__.ipynb",
   "parameters": {},
   "start_time": "2023-03-03T15:09:08.083047",
   "version": "2.4.0"
  }
 },
 "nbformat": 4,
 "nbformat_minor": 5
}
