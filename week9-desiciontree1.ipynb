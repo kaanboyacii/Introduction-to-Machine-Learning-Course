{
 "cells": [
  {
   "cell_type": "code",
   "execution_count": 1,
   "id": "1e5b6a8b",
   "metadata": {
    "_cell_guid": "b1076dfc-b9ad-4769-8c92-a6c4dae69d19",
    "_uuid": "8f2839f25d086af736a60e9eeb907d3b93b6e0e5",
    "execution": {
     "iopub.execute_input": "2023-05-06T08:48:58.444299Z",
     "iopub.status.busy": "2023-05-06T08:48:58.443892Z",
     "iopub.status.idle": "2023-05-06T08:48:59.592533Z",
     "shell.execute_reply": "2023-05-06T08:48:59.591438Z"
    },
    "papermill": {
     "duration": 1.159453,
     "end_time": "2023-05-06T08:48:59.594974",
     "exception": false,
     "start_time": "2023-05-06T08:48:58.435521",
     "status": "completed"
    },
    "tags": []
   },
   "outputs": [
    {
     "name": "stderr",
     "output_type": "stream",
     "text": [
      "/opt/conda/lib/python3.10/site-packages/scipy/__init__.py:146: UserWarning: A NumPy version >=1.16.5 and <1.23.0 is required for this version of SciPy (detected version 1.23.5\n",
      "  warnings.warn(f\"A NumPy version >={np_minversion} and <{np_maxversion}\"\n"
     ]
    }
   ],
   "source": [
    "import numpy as np \n",
    "import pandas as pd \n",
    "import matplotlib.pyplot as plt \n",
    "import seaborn as sns"
   ]
  },
  {
   "cell_type": "code",
   "execution_count": 2,
   "id": "a3ee2c2e",
   "metadata": {
    "execution": {
     "iopub.execute_input": "2023-05-06T08:48:59.609668Z",
     "iopub.status.busy": "2023-05-06T08:48:59.609300Z",
     "iopub.status.idle": "2023-05-06T08:48:59.672933Z",
     "shell.execute_reply": "2023-05-06T08:48:59.671930Z"
    },
    "papermill": {
     "duration": 0.074176,
     "end_time": "2023-05-06T08:48:59.675655",
     "exception": false,
     "start_time": "2023-05-06T08:48:59.601479",
     "status": "completed"
    },
    "tags": []
   },
   "outputs": [],
   "source": [
    "dataset = pd.read_csv(\"/kaggle/input/mushroom-attributes/mushroom.csv\")"
   ]
  },
  {
   "cell_type": "code",
   "execution_count": 3,
   "id": "4cff3e9c",
   "metadata": {
    "execution": {
     "iopub.execute_input": "2023-05-06T08:48:59.690163Z",
     "iopub.status.busy": "2023-05-06T08:48:59.689756Z",
     "iopub.status.idle": "2023-05-06T08:48:59.725880Z",
     "shell.execute_reply": "2023-05-06T08:48:59.724758Z"
    },
    "papermill": {
     "duration": 0.046087,
     "end_time": "2023-05-06T08:48:59.728088",
     "exception": false,
     "start_time": "2023-05-06T08:48:59.682001",
     "status": "completed"
    },
    "tags": []
   },
   "outputs": [
    {
     "data": {
      "text/html": [
       "<div>\n",
       "<style scoped>\n",
       "    .dataframe tbody tr th:only-of-type {\n",
       "        vertical-align: middle;\n",
       "    }\n",
       "\n",
       "    .dataframe tbody tr th {\n",
       "        vertical-align: top;\n",
       "    }\n",
       "\n",
       "    .dataframe thead th {\n",
       "        text-align: right;\n",
       "    }\n",
       "</style>\n",
       "<table border=\"1\" class=\"dataframe\">\n",
       "  <thead>\n",
       "    <tr style=\"text-align: right;\">\n",
       "      <th></th>\n",
       "      <th>cap-shape</th>\n",
       "      <th>cap-surface</th>\n",
       "      <th>cap-color</th>\n",
       "      <th>bruises%3F</th>\n",
       "      <th>odor</th>\n",
       "      <th>gill-attachment</th>\n",
       "      <th>gill-spacing</th>\n",
       "      <th>gill-size</th>\n",
       "      <th>gill-color</th>\n",
       "      <th>stalk-shape</th>\n",
       "      <th>...</th>\n",
       "      <th>stalk-color-above-ring</th>\n",
       "      <th>stalk-color-below-ring</th>\n",
       "      <th>veil-type</th>\n",
       "      <th>veil-color</th>\n",
       "      <th>ring-number</th>\n",
       "      <th>ring-type</th>\n",
       "      <th>spore-print-color</th>\n",
       "      <th>population</th>\n",
       "      <th>habitat</th>\n",
       "      <th>class</th>\n",
       "    </tr>\n",
       "  </thead>\n",
       "  <tbody>\n",
       "    <tr>\n",
       "      <th>0</th>\n",
       "      <td>b'x'</td>\n",
       "      <td>b's'</td>\n",
       "      <td>b'n'</td>\n",
       "      <td>b't'</td>\n",
       "      <td>b'p'</td>\n",
       "      <td>b'f'</td>\n",
       "      <td>b'c'</td>\n",
       "      <td>b'n'</td>\n",
       "      <td>b'k'</td>\n",
       "      <td>b'e'</td>\n",
       "      <td>...</td>\n",
       "      <td>b'w'</td>\n",
       "      <td>b'w'</td>\n",
       "      <td>b'p'</td>\n",
       "      <td>b'w'</td>\n",
       "      <td>b'o'</td>\n",
       "      <td>b'p'</td>\n",
       "      <td>b'k'</td>\n",
       "      <td>b's'</td>\n",
       "      <td>b'u'</td>\n",
       "      <td>b'p'</td>\n",
       "    </tr>\n",
       "    <tr>\n",
       "      <th>1</th>\n",
       "      <td>b'x'</td>\n",
       "      <td>b's'</td>\n",
       "      <td>b'y'</td>\n",
       "      <td>b't'</td>\n",
       "      <td>b'a'</td>\n",
       "      <td>b'f'</td>\n",
       "      <td>b'c'</td>\n",
       "      <td>b'b'</td>\n",
       "      <td>b'k'</td>\n",
       "      <td>b'e'</td>\n",
       "      <td>...</td>\n",
       "      <td>b'w'</td>\n",
       "      <td>b'w'</td>\n",
       "      <td>b'p'</td>\n",
       "      <td>b'w'</td>\n",
       "      <td>b'o'</td>\n",
       "      <td>b'p'</td>\n",
       "      <td>b'n'</td>\n",
       "      <td>b'n'</td>\n",
       "      <td>b'g'</td>\n",
       "      <td>b'e'</td>\n",
       "    </tr>\n",
       "    <tr>\n",
       "      <th>2</th>\n",
       "      <td>b'b'</td>\n",
       "      <td>b's'</td>\n",
       "      <td>b'w'</td>\n",
       "      <td>b't'</td>\n",
       "      <td>b'l'</td>\n",
       "      <td>b'f'</td>\n",
       "      <td>b'c'</td>\n",
       "      <td>b'b'</td>\n",
       "      <td>b'n'</td>\n",
       "      <td>b'e'</td>\n",
       "      <td>...</td>\n",
       "      <td>b'w'</td>\n",
       "      <td>b'w'</td>\n",
       "      <td>b'p'</td>\n",
       "      <td>b'w'</td>\n",
       "      <td>b'o'</td>\n",
       "      <td>b'p'</td>\n",
       "      <td>b'n'</td>\n",
       "      <td>b'n'</td>\n",
       "      <td>b'm'</td>\n",
       "      <td>b'e'</td>\n",
       "    </tr>\n",
       "    <tr>\n",
       "      <th>3</th>\n",
       "      <td>b'x'</td>\n",
       "      <td>b'y'</td>\n",
       "      <td>b'w'</td>\n",
       "      <td>b't'</td>\n",
       "      <td>b'p'</td>\n",
       "      <td>b'f'</td>\n",
       "      <td>b'c'</td>\n",
       "      <td>b'n'</td>\n",
       "      <td>b'n'</td>\n",
       "      <td>b'e'</td>\n",
       "      <td>...</td>\n",
       "      <td>b'w'</td>\n",
       "      <td>b'w'</td>\n",
       "      <td>b'p'</td>\n",
       "      <td>b'w'</td>\n",
       "      <td>b'o'</td>\n",
       "      <td>b'p'</td>\n",
       "      <td>b'k'</td>\n",
       "      <td>b's'</td>\n",
       "      <td>b'u'</td>\n",
       "      <td>b'p'</td>\n",
       "    </tr>\n",
       "    <tr>\n",
       "      <th>4</th>\n",
       "      <td>b'x'</td>\n",
       "      <td>b's'</td>\n",
       "      <td>b'g'</td>\n",
       "      <td>b'f'</td>\n",
       "      <td>b'n'</td>\n",
       "      <td>b'f'</td>\n",
       "      <td>b'w'</td>\n",
       "      <td>b'b'</td>\n",
       "      <td>b'k'</td>\n",
       "      <td>b't'</td>\n",
       "      <td>...</td>\n",
       "      <td>b'w'</td>\n",
       "      <td>b'w'</td>\n",
       "      <td>b'p'</td>\n",
       "      <td>b'w'</td>\n",
       "      <td>b'o'</td>\n",
       "      <td>b'e'</td>\n",
       "      <td>b'n'</td>\n",
       "      <td>b'a'</td>\n",
       "      <td>b'g'</td>\n",
       "      <td>b'e'</td>\n",
       "    </tr>\n",
       "  </tbody>\n",
       "</table>\n",
       "<p>5 rows × 23 columns</p>\n",
       "</div>"
      ],
      "text/plain": [
       "  cap-shape cap-surface cap-color bruises%3F  odor gill-attachment  \\\n",
       "0      b'x'        b's'      b'n'       b't'  b'p'            b'f'   \n",
       "1      b'x'        b's'      b'y'       b't'  b'a'            b'f'   \n",
       "2      b'b'        b's'      b'w'       b't'  b'l'            b'f'   \n",
       "3      b'x'        b'y'      b'w'       b't'  b'p'            b'f'   \n",
       "4      b'x'        b's'      b'g'       b'f'  b'n'            b'f'   \n",
       "\n",
       "  gill-spacing gill-size gill-color stalk-shape  ... stalk-color-above-ring  \\\n",
       "0         b'c'      b'n'       b'k'        b'e'  ...                   b'w'   \n",
       "1         b'c'      b'b'       b'k'        b'e'  ...                   b'w'   \n",
       "2         b'c'      b'b'       b'n'        b'e'  ...                   b'w'   \n",
       "3         b'c'      b'n'       b'n'        b'e'  ...                   b'w'   \n",
       "4         b'w'      b'b'       b'k'        b't'  ...                   b'w'   \n",
       "\n",
       "  stalk-color-below-ring veil-type veil-color ring-number ring-type  \\\n",
       "0                   b'w'      b'p'       b'w'        b'o'      b'p'   \n",
       "1                   b'w'      b'p'       b'w'        b'o'      b'p'   \n",
       "2                   b'w'      b'p'       b'w'        b'o'      b'p'   \n",
       "3                   b'w'      b'p'       b'w'        b'o'      b'p'   \n",
       "4                   b'w'      b'p'       b'w'        b'o'      b'e'   \n",
       "\n",
       "  spore-print-color population habitat class  \n",
       "0              b'k'       b's'    b'u'  b'p'  \n",
       "1              b'n'       b'n'    b'g'  b'e'  \n",
       "2              b'n'       b'n'    b'm'  b'e'  \n",
       "3              b'k'       b's'    b'u'  b'p'  \n",
       "4              b'n'       b'a'    b'g'  b'e'  \n",
       "\n",
       "[5 rows x 23 columns]"
      ]
     },
     "execution_count": 3,
     "metadata": {},
     "output_type": "execute_result"
    }
   ],
   "source": [
    "dataset.head()"
   ]
  },
  {
   "cell_type": "code",
   "execution_count": 4,
   "id": "9db14037",
   "metadata": {
    "execution": {
     "iopub.execute_input": "2023-05-06T08:48:59.742789Z",
     "iopub.status.busy": "2023-05-06T08:48:59.742431Z",
     "iopub.status.idle": "2023-05-06T08:48:59.787017Z",
     "shell.execute_reply": "2023-05-06T08:48:59.785272Z"
    },
    "papermill": {
     "duration": 0.055006,
     "end_time": "2023-05-06T08:48:59.789572",
     "exception": false,
     "start_time": "2023-05-06T08:48:59.734566",
     "status": "completed"
    },
    "tags": []
   },
   "outputs": [
    {
     "data": {
      "text/plain": [
       "0"
      ]
     },
     "execution_count": 4,
     "metadata": {},
     "output_type": "execute_result"
    }
   ],
   "source": [
    "dataset.isnull().sum().sum()"
   ]
  },
  {
   "cell_type": "code",
   "execution_count": 5,
   "id": "d76ad2d3",
   "metadata": {
    "execution": {
     "iopub.execute_input": "2023-05-06T08:48:59.807493Z",
     "iopub.status.busy": "2023-05-06T08:48:59.806553Z",
     "iopub.status.idle": "2023-05-06T08:48:59.817261Z",
     "shell.execute_reply": "2023-05-06T08:48:59.816097Z"
    },
    "papermill": {
     "duration": 0.021518,
     "end_time": "2023-05-06T08:48:59.819387",
     "exception": false,
     "start_time": "2023-05-06T08:48:59.797869",
     "status": "completed"
    },
    "tags": []
   },
   "outputs": [
    {
     "data": {
      "text/plain": [
       "array([\"b'p'\", \"b'e'\"], dtype=object)"
      ]
     },
     "execution_count": 5,
     "metadata": {},
     "output_type": "execute_result"
    }
   ],
   "source": [
    "dataset[\"class\"].unique()"
   ]
  },
  {
   "cell_type": "code",
   "execution_count": 6,
   "id": "f8497977",
   "metadata": {
    "execution": {
     "iopub.execute_input": "2023-05-06T08:48:59.839502Z",
     "iopub.status.busy": "2023-05-06T08:48:59.838645Z",
     "iopub.status.idle": "2023-05-06T08:48:59.885632Z",
     "shell.execute_reply": "2023-05-06T08:48:59.884721Z"
    },
    "papermill": {
     "duration": 0.060188,
     "end_time": "2023-05-06T08:48:59.888245",
     "exception": false,
     "start_time": "2023-05-06T08:48:59.828057",
     "status": "completed"
    },
    "tags": []
   },
   "outputs": [
    {
     "name": "stdout",
     "output_type": "stream",
     "text": [
      "<class 'pandas.core.frame.DataFrame'>\n",
      "RangeIndex: 8124 entries, 0 to 8123\n",
      "Data columns (total 23 columns):\n",
      " #   Column                    Non-Null Count  Dtype \n",
      "---  ------                    --------------  ----- \n",
      " 0   cap-shape                 8124 non-null   object\n",
      " 1   cap-surface               8124 non-null   object\n",
      " 2   cap-color                 8124 non-null   object\n",
      " 3   bruises%3F                8124 non-null   object\n",
      " 4   odor                      8124 non-null   object\n",
      " 5   gill-attachment           8124 non-null   object\n",
      " 6   gill-spacing              8124 non-null   object\n",
      " 7   gill-size                 8124 non-null   object\n",
      " 8   gill-color                8124 non-null   object\n",
      " 9   stalk-shape               8124 non-null   object\n",
      " 10  stalk-root                8124 non-null   object\n",
      " 11  stalk-surface-above-ring  8124 non-null   object\n",
      " 12  stalk-surface-below-ring  8124 non-null   object\n",
      " 13  stalk-color-above-ring    8124 non-null   object\n",
      " 14  stalk-color-below-ring    8124 non-null   object\n",
      " 15  veil-type                 8124 non-null   object\n",
      " 16  veil-color                8124 non-null   object\n",
      " 17  ring-number               8124 non-null   object\n",
      " 18  ring-type                 8124 non-null   object\n",
      " 19  spore-print-color         8124 non-null   object\n",
      " 20  population                8124 non-null   object\n",
      " 21  habitat                   8124 non-null   object\n",
      " 22  class                     8124 non-null   object\n",
      "dtypes: object(23)\n",
      "memory usage: 1.4+ MB\n"
     ]
    }
   ],
   "source": [
    "dataset.info()"
   ]
  },
  {
   "cell_type": "code",
   "execution_count": 7,
   "id": "beeaa1d2",
   "metadata": {
    "execution": {
     "iopub.execute_input": "2023-05-06T08:48:59.903607Z",
     "iopub.status.busy": "2023-05-06T08:48:59.903253Z",
     "iopub.status.idle": "2023-05-06T08:48:59.909198Z",
     "shell.execute_reply": "2023-05-06T08:48:59.908157Z"
    },
    "papermill": {
     "duration": 0.016264,
     "end_time": "2023-05-06T08:48:59.911347",
     "exception": false,
     "start_time": "2023-05-06T08:48:59.895083",
     "status": "completed"
    },
    "tags": []
   },
   "outputs": [
    {
     "data": {
      "text/plain": [
       "(8124, 23)"
      ]
     },
     "execution_count": 7,
     "metadata": {},
     "output_type": "execute_result"
    }
   ],
   "source": [
    "dataset.shape"
   ]
  },
  {
   "cell_type": "code",
   "execution_count": 8,
   "id": "bbc50acb",
   "metadata": {
    "execution": {
     "iopub.execute_input": "2023-05-06T08:48:59.926946Z",
     "iopub.status.busy": "2023-05-06T08:48:59.926598Z",
     "iopub.status.idle": "2023-05-06T08:49:00.177015Z",
     "shell.execute_reply": "2023-05-06T08:49:00.175971Z"
    },
    "papermill": {
     "duration": 0.261013,
     "end_time": "2023-05-06T08:49:00.179233",
     "exception": false,
     "start_time": "2023-05-06T08:48:59.918220",
     "status": "completed"
    },
    "tags": []
   },
   "outputs": [
    {
     "data": {
      "text/plain": [
       "<AxesSubplot: xlabel='class', ylabel='Count'>"
      ]
     },
     "execution_count": 8,
     "metadata": {},
     "output_type": "execute_result"
    },
    {
     "data": {
      "image/png": "[encoded data removed]",
      "text/plain": [
       "<Figure size 640x480 with 1 Axes>"
      ]
     },
     "metadata": {},
     "output_type": "display_data"
    }
   ],
   "source": [
    "sns.histplot(dataset[\"class\"])"
   ]
  },
  {
   "cell_type": "code",
   "execution_count": 9,
   "id": "21a2383d",
   "metadata": {
    "execution": {
     "iopub.execute_input": "2023-05-06T08:49:00.196310Z",
     "iopub.status.busy": "2023-05-06T08:49:00.195312Z",
     "iopub.status.idle": "2023-05-06T08:49:00.219615Z",
     "shell.execute_reply": "2023-05-06T08:49:00.218535Z"
    },
    "papermill": {
     "duration": 0.035186,
     "end_time": "2023-05-06T08:49:00.221842",
     "exception": false,
     "start_time": "2023-05-06T08:49:00.186656",
     "status": "completed"
    },
    "tags": []
   },
   "outputs": [
    {
     "data": {
      "text/html": [
       "<div>\n",
       "<style scoped>\n",
       "    .dataframe tbody tr th:only-of-type {\n",
       "        vertical-align: middle;\n",
       "    }\n",
       "\n",
       "    .dataframe tbody tr th {\n",
       "        vertical-align: top;\n",
       "    }\n",
       "\n",
       "    .dataframe thead th {\n",
       "        text-align: right;\n",
       "    }\n",
       "</style>\n",
       "<table border=\"1\" class=\"dataframe\">\n",
       "  <thead>\n",
       "    <tr style=\"text-align: right;\">\n",
       "      <th></th>\n",
       "      <th>cap-shape</th>\n",
       "      <th>cap-surface</th>\n",
       "      <th>cap-color</th>\n",
       "      <th>bruises%3F</th>\n",
       "      <th>odor</th>\n",
       "      <th>gill-attachment</th>\n",
       "      <th>gill-spacing</th>\n",
       "      <th>gill-size</th>\n",
       "      <th>gill-color</th>\n",
       "      <th>stalk-shape</th>\n",
       "      <th>...</th>\n",
       "      <th>stalk-surface-below-ring</th>\n",
       "      <th>stalk-color-above-ring</th>\n",
       "      <th>stalk-color-below-ring</th>\n",
       "      <th>veil-type</th>\n",
       "      <th>veil-color</th>\n",
       "      <th>ring-number</th>\n",
       "      <th>ring-type</th>\n",
       "      <th>spore-print-color</th>\n",
       "      <th>population</th>\n",
       "      <th>habitat</th>\n",
       "    </tr>\n",
       "  </thead>\n",
       "  <tbody>\n",
       "    <tr>\n",
       "      <th>0</th>\n",
       "      <td>b'x'</td>\n",
       "      <td>b's'</td>\n",
       "      <td>b'n'</td>\n",
       "      <td>b't'</td>\n",
       "      <td>b'p'</td>\n",
       "      <td>b'f'</td>\n",
       "      <td>b'c'</td>\n",
       "      <td>b'n'</td>\n",
       "      <td>b'k'</td>\n",
       "      <td>b'e'</td>\n",
       "      <td>...</td>\n",
       "      <td>b's'</td>\n",
       "      <td>b'w'</td>\n",
       "      <td>b'w'</td>\n",
       "      <td>b'p'</td>\n",
       "      <td>b'w'</td>\n",
       "      <td>b'o'</td>\n",
       "      <td>b'p'</td>\n",
       "      <td>b'k'</td>\n",
       "      <td>b's'</td>\n",
       "      <td>b'u'</td>\n",
       "    </tr>\n",
       "    <tr>\n",
       "      <th>1</th>\n",
       "      <td>b'x'</td>\n",
       "      <td>b's'</td>\n",
       "      <td>b'y'</td>\n",
       "      <td>b't'</td>\n",
       "      <td>b'a'</td>\n",
       "      <td>b'f'</td>\n",
       "      <td>b'c'</td>\n",
       "      <td>b'b'</td>\n",
       "      <td>b'k'</td>\n",
       "      <td>b'e'</td>\n",
       "      <td>...</td>\n",
       "      <td>b's'</td>\n",
       "      <td>b'w'</td>\n",
       "      <td>b'w'</td>\n",
       "      <td>b'p'</td>\n",
       "      <td>b'w'</td>\n",
       "      <td>b'o'</td>\n",
       "      <td>b'p'</td>\n",
       "      <td>b'n'</td>\n",
       "      <td>b'n'</td>\n",
       "      <td>b'g'</td>\n",
       "    </tr>\n",
       "    <tr>\n",
       "      <th>2</th>\n",
       "      <td>b'b'</td>\n",
       "      <td>b's'</td>\n",
       "      <td>b'w'</td>\n",
       "      <td>b't'</td>\n",
       "      <td>b'l'</td>\n",
       "      <td>b'f'</td>\n",
       "      <td>b'c'</td>\n",
       "      <td>b'b'</td>\n",
       "      <td>b'n'</td>\n",
       "      <td>b'e'</td>\n",
       "      <td>...</td>\n",
       "      <td>b's'</td>\n",
       "      <td>b'w'</td>\n",
       "      <td>b'w'</td>\n",
       "      <td>b'p'</td>\n",
       "      <td>b'w'</td>\n",
       "      <td>b'o'</td>\n",
       "      <td>b'p'</td>\n",
       "      <td>b'n'</td>\n",
       "      <td>b'n'</td>\n",
       "      <td>b'm'</td>\n",
       "    </tr>\n",
       "    <tr>\n",
       "      <th>3</th>\n",
       "      <td>b'x'</td>\n",
       "      <td>b'y'</td>\n",
       "      <td>b'w'</td>\n",
       "      <td>b't'</td>\n",
       "      <td>b'p'</td>\n",
       "      <td>b'f'</td>\n",
       "      <td>b'c'</td>\n",
       "      <td>b'n'</td>\n",
       "      <td>b'n'</td>\n",
       "      <td>b'e'</td>\n",
       "      <td>...</td>\n",
       "      <td>b's'</td>\n",
       "      <td>b'w'</td>\n",
       "      <td>b'w'</td>\n",
       "      <td>b'p'</td>\n",
       "      <td>b'w'</td>\n",
       "      <td>b'o'</td>\n",
       "      <td>b'p'</td>\n",
       "      <td>b'k'</td>\n",
       "      <td>b's'</td>\n",
       "      <td>b'u'</td>\n",
       "    </tr>\n",
       "    <tr>\n",
       "      <th>4</th>\n",
       "      <td>b'x'</td>\n",
       "      <td>b's'</td>\n",
       "      <td>b'g'</td>\n",
       "      <td>b'f'</td>\n",
       "      <td>b'n'</td>\n",
       "      <td>b'f'</td>\n",
       "      <td>b'w'</td>\n",
       "      <td>b'b'</td>\n",
       "      <td>b'k'</td>\n",
       "      <td>b't'</td>\n",
       "      <td>...</td>\n",
       "      <td>b's'</td>\n",
       "      <td>b'w'</td>\n",
       "      <td>b'w'</td>\n",
       "      <td>b'p'</td>\n",
       "      <td>b'w'</td>\n",
       "      <td>b'o'</td>\n",
       "      <td>b'e'</td>\n",
       "      <td>b'n'</td>\n",
       "      <td>b'a'</td>\n",
       "      <td>b'g'</td>\n",
       "    </tr>\n",
       "  </tbody>\n",
       "</table>\n",
       "<p>5 rows × 22 columns</p>\n",
       "</div>"
      ],
      "text/plain": [
       "  cap-shape cap-surface cap-color bruises%3F  odor gill-attachment  \\\n",
       "0      b'x'        b's'      b'n'       b't'  b'p'            b'f'   \n",
       "1      b'x'        b's'      b'y'       b't'  b'a'            b'f'   \n",
       "2      b'b'        b's'      b'w'       b't'  b'l'            b'f'   \n",
       "3      b'x'        b'y'      b'w'       b't'  b'p'            b'f'   \n",
       "4      b'x'        b's'      b'g'       b'f'  b'n'            b'f'   \n",
       "\n",
       "  gill-spacing gill-size gill-color stalk-shape  ... stalk-surface-below-ring  \\\n",
       "0         b'c'      b'n'       b'k'        b'e'  ...                     b's'   \n",
       "1         b'c'      b'b'       b'k'        b'e'  ...                     b's'   \n",
       "2         b'c'      b'b'       b'n'        b'e'  ...                     b's'   \n",
       "3         b'c'      b'n'       b'n'        b'e'  ...                     b's'   \n",
       "4         b'w'      b'b'       b'k'        b't'  ...                     b's'   \n",
       "\n",
       "  stalk-color-above-ring stalk-color-below-ring veil-type veil-color  \\\n",
       "0                   b'w'                   b'w'      b'p'       b'w'   \n",
       "1                   b'w'                   b'w'      b'p'       b'w'   \n",
       "2                   b'w'                   b'w'      b'p'       b'w'   \n",
       "3                   b'w'                   b'w'      b'p'       b'w'   \n",
       "4                   b'w'                   b'w'      b'p'       b'w'   \n",
       "\n",
       "  ring-number ring-type spore-print-color population habitat  \n",
       "0        b'o'      b'p'              b'k'       b's'    b'u'  \n",
       "1        b'o'      b'p'              b'n'       b'n'    b'g'  \n",
       "2        b'o'      b'p'              b'n'       b'n'    b'm'  \n",
       "3        b'o'      b'p'              b'k'       b's'    b'u'  \n",
       "4        b'o'      b'e'              b'n'       b'a'    b'g'  \n",
       "\n",
       "[5 rows x 22 columns]"
      ]
     },
     "execution_count": 9,
     "metadata": {},
     "output_type": "execute_result"
    }
   ],
   "source": [
    "x = dataset.drop([\"class\"],axis=1)\n",
    "y  = dataset[\"class\"]\n",
    "x.head()"
   ]
  },
  {
   "cell_type": "code",
   "execution_count": 10,
   "id": "48db2869",
   "metadata": {
    "execution": {
     "iopub.execute_input": "2023-05-06T08:49:00.238982Z",
     "iopub.status.busy": "2023-05-06T08:49:00.238365Z",
     "iopub.status.idle": "2023-05-06T08:49:00.289481Z",
     "shell.execute_reply": "2023-05-06T08:49:00.288620Z"
    },
    "papermill": {
     "duration": 0.062052,
     "end_time": "2023-05-06T08:49:00.291456",
     "exception": false,
     "start_time": "2023-05-06T08:49:00.229404",
     "status": "completed"
    },
    "tags": []
   },
   "outputs": [
    {
     "data": {
      "text/html": [
       "<div>\n",
       "<style scoped>\n",
       "    .dataframe tbody tr th:only-of-type {\n",
       "        vertical-align: middle;\n",
       "    }\n",
       "\n",
       "    .dataframe tbody tr th {\n",
       "        vertical-align: top;\n",
       "    }\n",
       "\n",
       "    .dataframe thead th {\n",
       "        text-align: right;\n",
       "    }\n",
       "</style>\n",
       "<table border=\"1\" class=\"dataframe\">\n",
       "  <thead>\n",
       "    <tr style=\"text-align: right;\">\n",
       "      <th></th>\n",
       "      <th>cap-shape_b'b'</th>\n",
       "      <th>cap-shape_b'c'</th>\n",
       "      <th>cap-shape_b'f'</th>\n",
       "      <th>cap-shape_b'k'</th>\n",
       "      <th>cap-shape_b's'</th>\n",
       "      <th>cap-shape_b'x'</th>\n",
       "      <th>cap-surface_b'f'</th>\n",
       "      <th>cap-surface_b'g'</th>\n",
       "      <th>cap-surface_b's'</th>\n",
       "      <th>cap-surface_b'y'</th>\n",
       "      <th>...</th>\n",
       "      <th>population_b's'</th>\n",
       "      <th>population_b'v'</th>\n",
       "      <th>population_b'y'</th>\n",
       "      <th>habitat_b'd'</th>\n",
       "      <th>habitat_b'g'</th>\n",
       "      <th>habitat_b'l'</th>\n",
       "      <th>habitat_b'm'</th>\n",
       "      <th>habitat_b'p'</th>\n",
       "      <th>habitat_b'u'</th>\n",
       "      <th>habitat_b'w'</th>\n",
       "    </tr>\n",
       "  </thead>\n",
       "  <tbody>\n",
       "    <tr>\n",
       "      <th>0</th>\n",
       "      <td>0</td>\n",
       "      <td>0</td>\n",
       "      <td>0</td>\n",
       "      <td>0</td>\n",
       "      <td>0</td>\n",
       "      <td>1</td>\n",
       "      <td>0</td>\n",
       "      <td>0</td>\n",
       "      <td>1</td>\n",
       "      <td>0</td>\n",
       "      <td>...</td>\n",
       "      <td>1</td>\n",
       "      <td>0</td>\n",
       "      <td>0</td>\n",
       "      <td>0</td>\n",
       "      <td>0</td>\n",
       "      <td>0</td>\n",
       "      <td>0</td>\n",
       "      <td>0</td>\n",
       "      <td>1</td>\n",
       "      <td>0</td>\n",
       "    </tr>\n",
       "    <tr>\n",
       "      <th>1</th>\n",
       "      <td>0</td>\n",
       "      <td>0</td>\n",
       "      <td>0</td>\n",
       "      <td>0</td>\n",
       "      <td>0</td>\n",
       "      <td>1</td>\n",
       "      <td>0</td>\n",
       "      <td>0</td>\n",
       "      <td>1</td>\n",
       "      <td>0</td>\n",
       "      <td>...</td>\n",
       "      <td>0</td>\n",
       "      <td>0</td>\n",
       "      <td>0</td>\n",
       "      <td>0</td>\n",
       "      <td>1</td>\n",
       "      <td>0</td>\n",
       "      <td>0</td>\n",
       "      <td>0</td>\n",
       "      <td>0</td>\n",
       "      <td>0</td>\n",
       "    </tr>\n",
       "    <tr>\n",
       "      <th>2</th>\n",
       "      <td>1</td>\n",
       "      <td>0</td>\n",
       "      <td>0</td>\n",
       "      <td>0</td>\n",
       "      <td>0</td>\n",
       "      <td>0</td>\n",
       "      <td>0</td>\n",
       "      <td>0</td>\n",
       "      <td>1</td>\n",
       "      <td>0</td>\n",
       "      <td>...</td>\n",
       "      <td>0</td>\n",
       "      <td>0</td>\n",
       "      <td>0</td>\n",
       "      <td>0</td>\n",
       "      <td>0</td>\n",
       "      <td>0</td>\n",
       "      <td>1</td>\n",
       "      <td>0</td>\n",
       "      <td>0</td>\n",
       "      <td>0</td>\n",
       "    </tr>\n",
       "    <tr>\n",
       "      <th>3</th>\n",
       "      <td>0</td>\n",
       "      <td>0</td>\n",
       "      <td>0</td>\n",
       "      <td>0</td>\n",
       "      <td>0</td>\n",
       "      <td>1</td>\n",
       "      <td>0</td>\n",
       "      <td>0</td>\n",
       "      <td>0</td>\n",
       "      <td>1</td>\n",
       "      <td>...</td>\n",
       "      <td>1</td>\n",
       "      <td>0</td>\n",
       "      <td>0</td>\n",
       "      <td>0</td>\n",
       "      <td>0</td>\n",
       "      <td>0</td>\n",
       "      <td>0</td>\n",
       "      <td>0</td>\n",
       "      <td>1</td>\n",
       "      <td>0</td>\n",
       "    </tr>\n",
       "    <tr>\n",
       "      <th>4</th>\n",
       "      <td>0</td>\n",
       "      <td>0</td>\n",
       "      <td>0</td>\n",
       "      <td>0</td>\n",
       "      <td>0</td>\n",
       "      <td>1</td>\n",
       "      <td>0</td>\n",
       "      <td>0</td>\n",
       "      <td>1</td>\n",
       "      <td>0</td>\n",
       "      <td>...</td>\n",
       "      <td>0</td>\n",
       "      <td>0</td>\n",
       "      <td>0</td>\n",
       "      <td>0</td>\n",
       "      <td>1</td>\n",
       "      <td>0</td>\n",
       "      <td>0</td>\n",
       "      <td>0</td>\n",
       "      <td>0</td>\n",
       "      <td>0</td>\n",
       "    </tr>\n",
       "  </tbody>\n",
       "</table>\n",
       "<p>5 rows × 117 columns</p>\n",
       "</div>"
      ],
      "text/plain": [
       "   cap-shape_b'b'  cap-shape_b'c'  cap-shape_b'f'  cap-shape_b'k'  \\\n",
       "0               0               0               0               0   \n",
       "1               0               0               0               0   \n",
       "2               1               0               0               0   \n",
       "3               0               0               0               0   \n",
       "4               0               0               0               0   \n",
       "\n",
       "   cap-shape_b's'  cap-shape_b'x'  cap-surface_b'f'  cap-surface_b'g'  \\\n",
       "0               0               1                 0                 0   \n",
       "1               0               1                 0                 0   \n",
       "2               0               0                 0                 0   \n",
       "3               0               1                 0                 0   \n",
       "4               0               1                 0                 0   \n",
       "\n",
       "   cap-surface_b's'  cap-surface_b'y'  ...  population_b's'  population_b'v'  \\\n",
       "0                 1                 0  ...                1                0   \n",
       "1                 1                 0  ...                0                0   \n",
       "2                 1                 0  ...                0                0   \n",
       "3                 0                 1  ...                1                0   \n",
       "4                 1                 0  ...                0                0   \n",
       "\n",
       "   population_b'y'  habitat_b'd'  habitat_b'g'  habitat_b'l'  habitat_b'm'  \\\n",
       "0                0             0             0             0             0   \n",
       "1                0             0             1             0             0   \n",
       "2                0             0             0             0             1   \n",
       "3                0             0             0             0             0   \n",
       "4                0             0             1             0             0   \n",
       "\n",
       "   habitat_b'p'  habitat_b'u'  habitat_b'w'  \n",
       "0             0             1             0  \n",
       "1             0             0             0  \n",
       "2             0             0             0  \n",
       "3             0             1             0  \n",
       "4             0             0             0  \n",
       "\n",
       "[5 rows x 117 columns]"
      ]
     },
     "execution_count": 10,
     "metadata": {},
     "output_type": "execute_result"
    }
   ],
   "source": [
    "x = pd.get_dummies(x)\n",
    "x.head()"
   ]
  },
  {
   "cell_type": "code",
   "execution_count": 11,
   "id": "e9e18354",
   "metadata": {
    "execution": {
     "iopub.execute_input": "2023-05-06T08:49:00.309335Z",
     "iopub.status.busy": "2023-05-06T08:49:00.308668Z",
     "iopub.status.idle": "2023-05-06T08:49:00.465247Z",
     "shell.execute_reply": "2023-05-06T08:49:00.464029Z"
    },
    "papermill": {
     "duration": 0.168408,
     "end_time": "2023-05-06T08:49:00.467875",
     "exception": false,
     "start_time": "2023-05-06T08:49:00.299467",
     "status": "completed"
    },
    "tags": []
   },
   "outputs": [
    {
     "name": "stdout",
     "output_type": "stream",
     "text": [
      "[1 0 0 ... 0 1 0]\n"
     ]
    }
   ],
   "source": [
    "from sklearn.preprocessing import LabelEncoder\n",
    "encoder = LabelEncoder()\n",
    "y = encoder.fit_transform(y)\n",
    "print(y)"
   ]
  },
  {
   "cell_type": "code",
   "execution_count": 12,
   "id": "2cda16be",
   "metadata": {
    "execution": {
     "iopub.execute_input": "2023-05-06T08:49:00.486345Z",
     "iopub.status.busy": "2023-05-06T08:49:00.485322Z",
     "iopub.status.idle": "2023-05-06T08:49:00.592223Z",
     "shell.execute_reply": "2023-05-06T08:49:00.591154Z"
    },
    "papermill": {
     "duration": 0.118504,
     "end_time": "2023-05-06T08:49:00.594635",
     "exception": false,
     "start_time": "2023-05-06T08:49:00.476131",
     "status": "completed"
    },
    "tags": []
   },
   "outputs": [],
   "source": [
    "from sklearn.model_selection  import train_test_split\n",
    "\n",
    "x_train, x_test, y_train, y_test = train_test_split(x, y, test_size=0.2, random_state=1)"
   ]
  },
  {
   "cell_type": "code",
   "execution_count": 13,
   "id": "1cb6d3d5",
   "metadata": {
    "execution": {
     "iopub.execute_input": "2023-05-06T08:49:00.613044Z",
     "iopub.status.busy": "2023-05-06T08:49:00.611999Z",
     "iopub.status.idle": "2023-05-06T08:49:00.620903Z",
     "shell.execute_reply": "2023-05-06T08:49:00.619833Z"
    },
    "papermill": {
     "duration": 0.020246,
     "end_time": "2023-05-06T08:49:00.622950",
     "exception": false,
     "start_time": "2023-05-06T08:49:00.602704",
     "status": "completed"
    },
    "tags": []
   },
   "outputs": [
    {
     "data": {
      "text/plain": [
       "((1625, 117), (6499, 117))"
      ]
     },
     "execution_count": 13,
     "metadata": {},
     "output_type": "execute_result"
    }
   ],
   "source": [
    "x_test.shape, x_train.shape"
   ]
  },
  {
   "cell_type": "code",
   "execution_count": 14,
   "id": "90585dc7",
   "metadata": {
    "execution": {
     "iopub.execute_input": "2023-05-06T08:49:00.640477Z",
     "iopub.status.busy": "2023-05-06T08:49:00.640060Z",
     "iopub.status.idle": "2023-05-06T08:49:00.646702Z",
     "shell.execute_reply": "2023-05-06T08:49:00.645713Z"
    },
    "papermill": {
     "duration": 0.018005,
     "end_time": "2023-05-06T08:49:00.648831",
     "exception": false,
     "start_time": "2023-05-06T08:49:00.630826",
     "status": "completed"
    },
    "tags": []
   },
   "outputs": [
    {
     "data": {
      "text/plain": [
       "((1625,), (6499,))"
      ]
     },
     "execution_count": 14,
     "metadata": {},
     "output_type": "execute_result"
    }
   ],
   "source": [
    "y_test.shape, y_train.shape"
   ]
  },
  {
   "cell_type": "code",
   "execution_count": 15,
   "id": "eff24cf8",
   "metadata": {
    "execution": {
     "iopub.execute_input": "2023-05-06T08:49:00.666974Z",
     "iopub.status.busy": "2023-05-06T08:49:00.666551Z",
     "iopub.status.idle": "2023-05-06T08:49:00.898705Z",
     "shell.execute_reply": "2023-05-06T08:49:00.897627Z"
    },
    "papermill": {
     "duration": 0.244299,
     "end_time": "2023-05-06T08:49:00.901254",
     "exception": false,
     "start_time": "2023-05-06T08:49:00.656955",
     "status": "completed"
    },
    "tags": []
   },
   "outputs": [],
   "source": [
    "from sklearn.tree import DecisionTreeClassifier \n",
    "from sklearn import tree\n",
    "from sklearn.metrics import accuracy_score"
   ]
  },
  {
   "cell_type": "code",
   "execution_count": 16,
   "id": "5753f497",
   "metadata": {
    "execution": {
     "iopub.execute_input": "2023-05-06T08:49:00.919203Z",
     "iopub.status.busy": "2023-05-06T08:49:00.918791Z",
     "iopub.status.idle": "2023-05-06T08:49:00.923922Z",
     "shell.execute_reply": "2023-05-06T08:49:00.922993Z"
    },
    "papermill": {
     "duration": 0.016559,
     "end_time": "2023-05-06T08:49:00.925989",
     "exception": false,
     "start_time": "2023-05-06T08:49:00.909430",
     "status": "completed"
    },
    "tags": []
   },
   "outputs": [],
   "source": [
    "clf_gini = DecisionTreeClassifier(criterion=\"gini\", max_depth=3, random_state=0)"
   ]
  },
  {
   "cell_type": "code",
   "execution_count": 17,
   "id": "6b685638",
   "metadata": {
    "execution": {
     "iopub.execute_input": "2023-05-06T08:49:00.943833Z",
     "iopub.status.busy": "2023-05-06T08:49:00.943479Z",
     "iopub.status.idle": "2023-05-06T08:49:00.978393Z",
     "shell.execute_reply": "2023-05-06T08:49:00.977291Z"
    },
    "papermill": {
     "duration": 0.046285,
     "end_time": "2023-05-06T08:49:00.980563",
     "exception": false,
     "start_time": "2023-05-06T08:49:00.934278",
     "status": "completed"
    },
    "tags": []
   },
   "outputs": [
    {
     "data": {
      "text/html": [
       "<style>#sk-container-id-1 {color: black;background-color: white;}#sk-container-id-1 pre{padding: 0;}#sk-container-id-1 div.sk-toggleable {background-color: white;}#sk-container-id-1 label.sk-toggleable__label {cursor: pointer;display: block;width: 100%;margin-bottom: 0;padding: 0.3em;box-sizing: border-box;text-align: center;}#sk-container-id-1 label.sk-toggleable__label-arrow:before {content: \"▸\";float: left;margin-right: 0.25em;color: #696969;}#sk-container-id-1 label.sk-toggleable__label-arrow:hover:before {color: black;}#sk-container-id-1 div.sk-estimator:hover label.sk-toggleable__label-arrow:before {color: black;}#sk-container-id-1 div.sk-toggleable__content {max-height: 0;max-width: 0;overflow: hidden;text-align: left;background-color: #f0f8ff;}#sk-container-id-1 div.sk-toggleable__content pre {margin: 0.2em;color: black;border-radius: 0.25em;background-color: #f0f8ff;}#sk-container-id-1 input.sk-toggleable__control:checked~div.sk-toggleable__content {max-height: 200px;max-width: 100%;overflow: auto;}#sk-container-id-1 input.sk-toggleable__control:checked~label.sk-toggleable__label-arrow:before {content: \"▾\";}#sk-container-id-1 div.sk-estimator input.sk-toggleable__control:checked~label.sk-toggleable__label {background-color: #d4ebff;}#sk-container-id-1 div.sk-label input.sk-toggleable__control:checked~label.sk-toggleable__label {background-color: #d4ebff;}#sk-container-id-1 input.sk-hidden--visually {border: 0;clip: rect(1px 1px 1px 1px);clip: rect(1px, 1px, 1px, 1px);height: 1px;margin: -1px;overflow: hidden;padding: 0;position: absolute;width: 1px;}#sk-container-id-1 div.sk-estimator {font-family: monospace;background-color: #f0f8ff;border: 1px dotted black;border-radius: 0.25em;box-sizing: border-box;margin-bottom: 0.5em;}#sk-container-id-1 div.sk-estimator:hover {background-color: #d4ebff;}#sk-container-id-1 div.sk-parallel-item::after {content: \"\";width: 100%;border-bottom: 1px solid gray;flex-grow: 1;}#sk-container-id-1 div.sk-label:hover label.sk-toggleable__label {background-color: #d4ebff;}#sk-container-id-1 div.sk-serial::before {content: \"\";position: absolute;border-left: 1px solid gray;box-sizing: border-box;top: 0;bottom: 0;left: 50%;z-index: 0;}#sk-container-id-1 div.sk-serial {display: flex;flex-direction: column;align-items: center;background-color: white;padding-right: 0.2em;padding-left: 0.2em;position: relative;}#sk-container-id-1 div.sk-item {position: relative;z-index: 1;}#sk-container-id-1 div.sk-parallel {display: flex;align-items: stretch;justify-content: center;background-color: white;position: relative;}#sk-container-id-1 div.sk-item::before, #sk-container-id-1 div.sk-parallel-item::before {content: \"\";position: absolute;border-left: 1px solid gray;box-sizing: border-box;top: 0;bottom: 0;left: 50%;z-index: -1;}#sk-container-id-1 div.sk-parallel-item {display: flex;flex-direction: column;z-index: 1;position: relative;background-color: white;}#sk-container-id-1 div.sk-parallel-item:first-child::after {align-self: flex-end;width: 50%;}#sk-container-id-1 div.sk-parallel-item:last-child::after {align-self: flex-start;width: 50%;}#sk-container-id-1 div.sk-parallel-item:only-child::after {width: 0;}#sk-container-id-1 div.sk-dashed-wrapped {border: 1px dashed gray;margin: 0 0.4em 0.5em 0.4em;box-sizing: border-box;padding-bottom: 0.4em;background-color: white;}#sk-container-id-1 div.sk-label label {font-family: monospace;font-weight: bold;display: inline-block;line-height: 1.2em;}#sk-container-id-1 div.sk-label-container {text-align: center;}#sk-container-id-1 div.sk-container {/* jupyter's `normalize.less` sets `[hidden] { display: none; }` but bootstrap.min.css set `[hidden] { display: none !important; }` so we also need the `!important` here to be able to override the default hidden behavior on the sphinx rendered scikit-learn.org. See: https://github.com/scikit-learn/scikit-learn/issues/21755 */display: inline-block !important;position: relative;}#sk-container-id-1 div.sk-text-repr-fallback {display: none;}</style><div id=\"sk-container-id-1\" class=\"sk-top-container\"><div class=\"sk-text-repr-fallback\"><pre>DecisionTreeClassifier(max_depth=3, random_state=0)</pre><b>In a Jupyter environment, please rerun this cell to show the HTML representation or trust the notebook. <br />On GitHub, the HTML representation is unable to render, please try loading this page with nbviewer.org.</b></div><div class=\"sk-container\" hidden><div class=\"sk-item\"><div class=\"sk-estimator sk-toggleable\"><input class=\"sk-toggleable__control sk-hidden--visually\" id=\"sk-estimator-id-1\" type=\"checkbox\" checked><label for=\"sk-estimator-id-1\" class=\"sk-toggleable__label sk-toggleable__label-arrow\">DecisionTreeClassifier</label><div class=\"sk-toggleable__content\"><pre>DecisionTreeClassifier(max_depth=3, random_state=0)</pre></div></div></div></div></div>"
      ],
      "text/plain": [
       "DecisionTreeClassifier(max_depth=3, random_state=0)"
      ]
     },
     "execution_count": 17,
     "metadata": {},
     "output_type": "execute_result"
    }
   ],
   "source": [
    "clf_gini.fit(x_train, y_train)"
   ]
  },
  {
   "cell_type": "code",
   "execution_count": 18,
   "id": "9c722d22",
   "metadata": {
    "execution": {
     "iopub.execute_input": "2023-05-06T08:49:00.998875Z",
     "iopub.status.busy": "2023-05-06T08:49:00.998508Z",
     "iopub.status.idle": "2023-05-06T08:49:01.942909Z",
     "shell.execute_reply": "2023-05-06T08:49:01.941666Z"
    },
    "papermill": {
     "duration": 0.956374,
     "end_time": "2023-05-06T08:49:01.945300",
     "exception": false,
     "start_time": "2023-05-06T08:49:00.988926",
     "status": "completed"
    },
    "tags": []
   },
   "outputs": [
    {
     "data": {
      "text/plain": [
       "[Text(0.5769230769230769, 0.875, 'x[27] <= 0.5\\ngini = 0.499\\nsamples = 6499\\nvalue = [3388, 3111]'),\n",
       " Text(0.3076923076923077, 0.625, 'x[53] <= 0.5\\ngini = 0.288\\nsamples = 3660\\nvalue = [637, 3023]'),\n",
       " Text(0.15384615384615385, 0.375, 'x[55] <= 0.5\\ngini = 0.135\\nsamples = 3229\\nvalue = [236, 2993]'),\n",
       " Text(0.07692307692307693, 0.125, 'gini = 0.055\\nsamples = 3080\\nvalue = [87, 2993]'),\n",
       " Text(0.23076923076923078, 0.125, 'gini = 0.0\\nsamples = 149\\nvalue = [149, 0]'),\n",
       " Text(0.46153846153846156, 0.375, 'x[94] <= 0.5\\ngini = 0.13\\nsamples = 431\\nvalue = [401, 30]'),\n",
       " Text(0.38461538461538464, 0.125, 'gini = 0.0\\nsamples = 30\\nvalue = [0, 30]'),\n",
       " Text(0.5384615384615384, 0.125, 'gini = 0.0\\nsamples = 401\\nvalue = [401, 0]'),\n",
       " Text(0.8461538461538461, 0.625, 'x[100] <= 0.5\\ngini = 0.06\\nsamples = 2839\\nvalue = [2751, 88]'),\n",
       " Text(0.7692307692307693, 0.375, 'x[63] <= 0.5\\ngini = 0.023\\nsamples = 2784\\nvalue = [2751, 33]'),\n",
       " Text(0.6923076923076923, 0.125, 'gini = 0.002\\nsamples = 2740\\nvalue = [2737, 3]'),\n",
       " Text(0.8461538461538461, 0.125, 'gini = 0.434\\nsamples = 44\\nvalue = [14, 30]'),\n",
       " Text(0.9230769230769231, 0.375, 'gini = 0.0\\nsamples = 55\\nvalue = [0, 55]')]"
      ]
     },
     "execution_count": 18,
     "metadata": {},
     "output_type": "execute_result"
    },
    {
     "data": {
      "image/png": "[encoded data removed]",
      "text/plain": [
       "<Figure size 1200x800 with 1 Axes>"
      ]
     },
     "metadata": {},
     "output_type": "display_data"
    }
   ],
   "source": [
    "plt.figure(figsize=(12,8))\n",
    "tree.plot_tree(clf_gini.fit(x_train,y_train))"
   ]
  },
  {
   "cell_type": "code",
   "execution_count": 19,
   "id": "56a63a23",
   "metadata": {
    "execution": {
     "iopub.execute_input": "2023-05-06T08:49:01.966590Z",
     "iopub.status.busy": "2023-05-06T08:49:01.966200Z",
     "iopub.status.idle": "2023-05-06T08:49:01.974065Z",
     "shell.execute_reply": "2023-05-06T08:49:01.973083Z"
    },
    "papermill": {
     "duration": 0.021051,
     "end_time": "2023-05-06T08:49:01.976183",
     "exception": false,
     "start_time": "2023-05-06T08:49:01.955132",
     "status": "completed"
    },
    "tags": []
   },
   "outputs": [],
   "source": [
    "y_pred_gini = clf_gini.predict(x_test)"
   ]
  },
  {
   "cell_type": "code",
   "execution_count": 20,
   "id": "99dd7884",
   "metadata": {
    "execution": {
     "iopub.execute_input": "2023-05-06T08:49:01.997295Z",
     "iopub.status.busy": "2023-05-06T08:49:01.996895Z",
     "iopub.status.idle": "2023-05-06T08:49:02.007095Z",
     "shell.execute_reply": "2023-05-06T08:49:02.006096Z"
    },
    "papermill": {
     "duration": 0.023475,
     "end_time": "2023-05-06T08:49:02.009539",
     "exception": false,
     "start_time": "2023-05-06T08:49:01.986064",
     "status": "completed"
    },
    "tags": []
   },
   "outputs": [
    {
     "data": {
      "text/plain": [
       "array([0, 0, 1, ..., 1, 1, 1])"
      ]
     },
     "execution_count": 20,
     "metadata": {},
     "output_type": "execute_result"
    }
   ],
   "source": [
    "y_pred_train_gini = clf_gini.predict(x_train)\n",
    "y_pred_train_gini"
   ]
  },
  {
   "cell_type": "code",
   "execution_count": 21,
   "id": "25fe7999",
   "metadata": {
    "execution": {
     "iopub.execute_input": "2023-05-06T08:49:02.031715Z",
     "iopub.status.busy": "2023-05-06T08:49:02.030640Z",
     "iopub.status.idle": "2023-05-06T08:49:02.039155Z",
     "shell.execute_reply": "2023-05-06T08:49:02.038150Z"
    },
    "papermill": {
     "duration": 0.0218,
     "end_time": "2023-05-06T08:49:02.041266",
     "exception": false,
     "start_time": "2023-05-06T08:49:02.019466",
     "status": "completed"
    },
    "tags": []
   },
   "outputs": [
    {
     "name": "stdout",
     "output_type": "stream",
     "text": [
      "model accuracy giniye göre: 0.9902\n",
      "training set accuracy score: 0.9840\n"
     ]
    }
   ],
   "source": [
    "print(\"model accuracy giniye göre: {0:0.4f}\".format(accuracy_score(y_test,y_pred_gini)))\n",
    "print(\"training set accuracy score: {0:0.4f}\".format(accuracy_score(y_train,y_pred_train_gini)))"
   ]
  },
  {
   "cell_type": "code",
   "execution_count": 22,
   "id": "617f1666",
   "metadata": {
    "execution": {
     "iopub.execute_input": "2023-05-06T08:49:02.063004Z",
     "iopub.status.busy": "2023-05-06T08:49:02.062189Z",
     "iopub.status.idle": "2023-05-06T08:49:02.067502Z",
     "shell.execute_reply": "2023-05-06T08:49:02.066499Z"
    },
    "papermill": {
     "duration": 0.018345,
     "end_time": "2023-05-06T08:49:02.069512",
     "exception": false,
     "start_time": "2023-05-06T08:49:02.051167",
     "status": "completed"
    },
    "tags": []
   },
   "outputs": [],
   "source": [
    "from sklearn.metrics import confusion_matrix\n",
    "from sklearn.metrics import classification_report\n",
    "from sklearn.metrics import f1_score"
   ]
  },
  {
   "cell_type": "code",
   "execution_count": 23,
   "id": "e221b19e",
   "metadata": {
    "execution": {
     "iopub.execute_input": "2023-05-06T08:49:02.091557Z",
     "iopub.status.busy": "2023-05-06T08:49:02.090398Z",
     "iopub.status.idle": "2023-05-06T08:49:02.099162Z",
     "shell.execute_reply": "2023-05-06T08:49:02.098343Z"
    },
    "papermill": {
     "duration": 0.021961,
     "end_time": "2023-05-06T08:49:02.101388",
     "exception": false,
     "start_time": "2023-05-06T08:49:02.079427",
     "status": "completed"
    },
    "tags": []
   },
   "outputs": [
    {
     "name": "stdout",
     "output_type": "stream",
     "text": [
      "confusion matrix\n",
      "\n",
      " [[809  11]\n",
      " [  5 800]]\n"
     ]
    }
   ],
   "source": [
    "cm = confusion_matrix(y_test, y_pred_gini)\n",
    "print(\"confusion matrix\\n\\n\", cm)"
   ]
  },
  {
   "cell_type": "code",
   "execution_count": 24,
   "id": "784ab587",
   "metadata": {
    "execution": {
     "iopub.execute_input": "2023-05-06T08:49:02.123176Z",
     "iopub.status.busy": "2023-05-06T08:49:02.122538Z",
     "iopub.status.idle": "2023-05-06T08:49:02.419588Z",
     "shell.execute_reply": "2023-05-06T08:49:02.418500Z"
    },
    "papermill": {
     "duration": 0.310463,
     "end_time": "2023-05-06T08:49:02.421877",
     "exception": false,
     "start_time": "2023-05-06T08:49:02.111414",
     "status": "completed"
    },
    "tags": []
   },
   "outputs": [
    {
     "data": {
      "image/png": "[encoded data removed]",
      "text/plain": [
       "<Figure size 1000x1000 with 2 Axes>"
      ]
     },
     "metadata": {},
     "output_type": "display_data"
    },
    {
     "data": {
      "text/plain": [
       "<Figure size 640x480 with 0 Axes>"
      ]
     },
     "metadata": {},
     "output_type": "display_data"
    }
   ],
   "source": [
    "f,ax = plt.subplots(figsize=(10,10))\n",
    "sns.heatmap(cm, annot=True, linewidths=0.5, linecolor=\"red\", fmt=\".0f\", ax=ax)\n",
    "plt.show()\n",
    "plt.savefig(\"confusion matrix\")"
   ]
  },
  {
   "cell_type": "code",
   "execution_count": 25,
   "id": "aefac6d3",
   "metadata": {
    "execution": {
     "iopub.execute_input": "2023-05-06T08:49:02.445093Z",
     "iopub.status.busy": "2023-05-06T08:49:02.444027Z",
     "iopub.status.idle": "2023-05-06T08:49:02.458940Z",
     "shell.execute_reply": "2023-05-06T08:49:02.457858Z"
    },
    "papermill": {
     "duration": 0.028865,
     "end_time": "2023-05-06T08:49:02.461166",
     "exception": false,
     "start_time": "2023-05-06T08:49:02.432301",
     "status": "completed"
    },
    "tags": []
   },
   "outputs": [
    {
     "name": "stdout",
     "output_type": "stream",
     "text": [
      "              precision    recall  f1-score   support\n",
      "\n",
      "           0       0.99      0.99      0.99       820\n",
      "           1       0.99      0.99      0.99       805\n",
      "\n",
      "    accuracy                           0.99      1625\n",
      "   macro avg       0.99      0.99      0.99      1625\n",
      "weighted avg       0.99      0.99      0.99      1625\n",
      "\n"
     ]
    }
   ],
   "source": [
    "print(classification_report(y_test, y_pred_gini))"
   ]
  },
  {
   "cell_type": "code",
   "execution_count": 26,
   "id": "ce411e63",
   "metadata": {
    "execution": {
     "iopub.execute_input": "2023-05-06T08:49:02.484820Z",
     "iopub.status.busy": "2023-05-06T08:49:02.484010Z",
     "iopub.status.idle": "2023-05-06T08:49:02.492452Z",
     "shell.execute_reply": "2023-05-06T08:49:02.491190Z"
    },
    "papermill": {
     "duration": 0.022647,
     "end_time": "2023-05-06T08:49:02.494603",
     "exception": false,
     "start_time": "2023-05-06T08:49:02.471956",
     "status": "completed"
    },
    "tags": []
   },
   "outputs": [
    {
     "name": "stdout",
     "output_type": "stream",
     "text": [
      "f1 score 0.9900990099009901\n"
     ]
    }
   ],
   "source": [
    "f1_score= f1_score(y_test, y_pred_gini)\n",
    "print(\"f1 score\", f1_score)"
   ]
  }
 ],
 "metadata": {
  "kernelspec": {
   "display_name": "Python 3",
   "language": "python",
   "name": "python3"
  },
  "language_info": {
   "codemirror_mode": {
    "name": "ipython",
    "version": 3
   },
   "file_extension": ".py",
   "mimetype": "text/x-python",
   "name": "python",
   "nbconvert_exporter": "python",
   "pygments_lexer": "ipython3",
   "version": "3.10.10"
  },
  "papermill": {
   "default_parameters": {},
   "duration": 14.659453,
   "end_time": "2023-05-06T08:49:03.426551",
   "environment_variables": {},
   "exception": null,
   "input_path": "__notebook__.ipynb",
   "output_path": "__notebook__.ipynb",
   "parameters": {},
   "start_time": "2023-05-06T08:48:48.767098",
   "version": "2.4.0"
  }
 },
 "nbformat": 4,
 "nbformat_minor": 5
}
