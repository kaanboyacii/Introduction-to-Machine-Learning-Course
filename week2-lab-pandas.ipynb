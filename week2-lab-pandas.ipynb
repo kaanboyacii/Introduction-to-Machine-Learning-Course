{
 "cells": [
  {
   "cell_type": "code",
   "execution_count": 1,
   "id": "7cc84241",
   "metadata": {
    "execution": {
     "iopub.execute_input": "2023-03-10T15:44:42.750887Z",
     "iopub.status.busy": "2023-03-10T15:44:42.749944Z",
     "iopub.status.idle": "2023-03-10T15:44:42.782633Z",
     "shell.execute_reply": "2023-03-10T15:44:42.780758Z"
    },
    "papermill": {
     "duration": 0.04484,
     "end_time": "2023-03-10T15:44:42.785840",
     "exception": false,
     "start_time": "2023-03-10T15:44:42.741000",
     "status": "completed"
    },
    "tags": []
   },
   "outputs": [
    {
     "name": "stdout",
     "output_type": "stream",
     "text": [
      "     name   age     note\n",
      "0   ceren  27.0    745.0\n",
      "1   cemre  26.0     85.0\n",
      "2  ceylin  76.0     88.0\n",
      "3   canan  12.0  15465.0\n",
      "4   cemil   NaN      NaN\n"
     ]
    }
   ],
   "source": [
    "import pandas as pd\n",
    "dictionary = {\"name\":[\"ceren\",\"cemre\",\"ceylin\",\"canan\",\"cemil\"],\n",
    "             \"age\":[27,26,76,12,None],\n",
    "             \"note\":[745,85,88,15465,None]}\n",
    "\n",
    "dataframe1 = pd.DataFrame(dictionary) \n",
    "print(dataframe1)"
   ]
  },
  {
   "cell_type": "code",
   "execution_count": 2,
   "id": "5b87985c",
   "metadata": {
    "execution": {
     "iopub.execute_input": "2023-03-10T15:44:42.800104Z",
     "iopub.status.busy": "2023-03-10T15:44:42.799027Z",
     "iopub.status.idle": "2023-03-10T15:44:42.809148Z",
     "shell.execute_reply": "2023-03-10T15:44:42.807568Z"
    },
    "papermill": {
     "duration": 0.021027,
     "end_time": "2023-03-10T15:44:42.812866",
     "exception": false,
     "start_time": "2023-03-10T15:44:42.791839",
     "status": "completed"
    },
    "tags": []
   },
   "outputs": [
    {
     "name": "stdout",
     "output_type": "stream",
     "text": [
      "     name   age     note\n",
      "0   ceren  27.0    745.0\n",
      "1   cemre  26.0     85.0\n",
      "2  ceylin  76.0     88.0\n",
      "3   canan  12.0  15465.0\n",
      "4   cemil   NaN      NaN\n"
     ]
    }
   ],
   "source": [
    "head = dataframe1.head() \n",
    "print(head)"
   ]
  },
  {
   "cell_type": "code",
   "execution_count": 3,
   "id": "a7e7f0fa",
   "metadata": {
    "_cell_guid": "b1076dfc-b9ad-4769-8c92-a6c4dae69d19",
    "_uuid": "8f2839f25d086af736a60e9eeb907d3b93b6e0e5",
    "execution": {
     "iopub.execute_input": "2023-03-10T15:44:42.826725Z",
     "iopub.status.busy": "2023-03-10T15:44:42.826306Z",
     "iopub.status.idle": "2023-03-10T15:44:42.836310Z",
     "shell.execute_reply": "2023-03-10T15:44:42.834339Z"
    },
    "papermill": {
     "duration": 0.019804,
     "end_time": "2023-03-10T15:44:42.838884",
     "exception": false,
     "start_time": "2023-03-10T15:44:42.819080",
     "status": "completed"
    },
    "tags": []
   },
   "outputs": [
    {
     "name": "stdout",
     "output_type": "stream",
     "text": [
      "     name   age     note\n",
      "0   ceren  27.0    745.0\n",
      "1   cemre  26.0     85.0\n",
      "2  ceylin  76.0     88.0\n",
      "3   canan  12.0  15465.0\n",
      "4   cemil   NaN      NaN\n"
     ]
    }
   ],
   "source": [
    "tail = dataframe1.tail()\n",
    "print(tail)"
   ]
  },
  {
   "cell_type": "code",
   "execution_count": 4,
   "id": "e0de7d14",
   "metadata": {
    "execution": {
     "iopub.execute_input": "2023-03-10T15:44:42.852257Z",
     "iopub.status.busy": "2023-03-10T15:44:42.851758Z",
     "iopub.status.idle": "2023-03-10T15:44:42.882188Z",
     "shell.execute_reply": "2023-03-10T15:44:42.880405Z"
    },
    "papermill": {
     "duration": 0.041038,
     "end_time": "2023-03-10T15:44:42.885532",
     "exception": false,
     "start_time": "2023-03-10T15:44:42.844494",
     "status": "completed"
    },
    "tags": []
   },
   "outputs": [
    {
     "name": "stdout",
     "output_type": "stream",
     "text": [
      "Index(['name', 'age', 'note'], dtype='object')\n",
      "<class 'pandas.core.frame.DataFrame'>\n",
      "RangeIndex: 5 entries, 0 to 4\n",
      "Data columns (total 3 columns):\n",
      " #   Column  Non-Null Count  Dtype  \n",
      "---  ------  --------------  -----  \n",
      " 0   name    5 non-null      object \n",
      " 1   age     4 non-null      float64\n",
      " 2   note    4 non-null      float64\n",
      "dtypes: float64(2), object(1)\n",
      "memory usage: 248.0+ bytes\n",
      "None\n",
      "name     object\n",
      "age     float64\n",
      "note    float64\n",
      "dtype: object\n"
     ]
    }
   ],
   "source": [
    "print(dataframe1.columns)\n",
    "print(dataframe1.info())\n",
    "print(dataframe1.dtypes)"
   ]
  },
  {
   "cell_type": "code",
   "execution_count": 5,
   "id": "95343209",
   "metadata": {
    "execution": {
     "iopub.execute_input": "2023-03-10T15:44:42.899008Z",
     "iopub.status.busy": "2023-03-10T15:44:42.898563Z",
     "iopub.status.idle": "2023-03-10T15:44:42.919430Z",
     "shell.execute_reply": "2023-03-10T15:44:42.917204Z"
    },
    "papermill": {
     "duration": 0.031229,
     "end_time": "2023-03-10T15:44:42.922548",
     "exception": false,
     "start_time": "2023-03-10T15:44:42.891319",
     "status": "completed"
    },
    "tags": []
   },
   "outputs": [
    {
     "name": "stdout",
     "output_type": "stream",
     "text": [
      "             age          note\n",
      "count   4.000000      4.000000\n",
      "mean   35.250000   4095.750000\n",
      "std    28.016364   7585.854088\n",
      "min    12.000000     85.000000\n",
      "25%    22.500000     87.250000\n",
      "50%    26.500000    416.500000\n",
      "75%    39.250000   4425.000000\n",
      "max    76.000000  15465.000000\n"
     ]
    }
   ],
   "source": [
    "print(dataframe1.describe()) "
   ]
  },
  {
   "cell_type": "code",
   "execution_count": 6,
   "id": "3aa44f01",
   "metadata": {
    "execution": {
     "iopub.execute_input": "2023-03-10T15:44:42.936641Z",
     "iopub.status.busy": "2023-03-10T15:44:42.936161Z",
     "iopub.status.idle": "2023-03-10T15:44:42.955678Z",
     "shell.execute_reply": "2023-03-10T15:44:42.953863Z"
    },
    "papermill": {
     "duration": 0.031464,
     "end_time": "2023-03-10T15:44:42.960029",
     "exception": false,
     "start_time": "2023-03-10T15:44:42.928565",
     "status": "completed"
    },
    "tags": []
   },
   "outputs": [
    {
     "name": "stdout",
     "output_type": "stream",
     "text": [
      "0     ceren\n",
      "1     cemre\n",
      "2    ceylin\n",
      "3     canan\n",
      "4     cemil\n",
      "Name: name, dtype: object\n",
      "0    27.0\n",
      "1    26.0\n",
      "2    76.0\n",
      "3    12.0\n",
      "4     NaN\n",
      "Name: age, dtype: float64\n",
      "0    27.0\n",
      "1    26.0\n",
      "2    76.0\n",
      "Name: age, dtype: float64\n",
      "     name   age   note\n",
      "0   ceren  27.0  745.0\n",
      "1   cemre  26.0   85.0\n",
      "2  ceylin  76.0   88.0\n",
      "     name   age     note  yeni_future\n",
      "4   cemil   NaN      NaN            5\n",
      "3   canan  12.0  15465.0            4\n",
      "2  ceylin  76.0     88.0            3\n",
      "1   cemre  26.0     85.0            2\n",
      "0   ceren  27.0    745.0            1\n"
     ]
    }
   ],
   "source": [
    "print(dataframe1[\"name\"]) \n",
    "print(dataframe1.loc[:, \"age\"])                      \n",
    "dataframe1[\"yeni_future\"] = [1,2,3,4,5]\n",
    "print(dataframe1.loc[:2,\"age\"]) \n",
    "print(dataframe1.loc[:2, \"name\":\"note\"])                 \n",
    "print(dataframe1.loc[::-1])  "
   ]
  },
  {
   "cell_type": "code",
   "execution_count": 7,
   "id": "48857023",
   "metadata": {
    "execution": {
     "iopub.execute_input": "2023-03-10T15:44:42.974873Z",
     "iopub.status.busy": "2023-03-10T15:44:42.974408Z",
     "iopub.status.idle": "2023-03-10T15:44:42.984333Z",
     "shell.execute_reply": "2023-03-10T15:44:42.982694Z"
    },
    "papermill": {
     "duration": 0.020637,
     "end_time": "2023-03-10T15:44:42.987411",
     "exception": false,
     "start_time": "2023-03-10T15:44:42.966774",
     "status": "completed"
    },
    "tags": []
   },
   "outputs": [
    {
     "name": "stdout",
     "output_type": "stream",
     "text": [
      "0    27.0\n",
      "1    26.0\n",
      "2    76.0\n",
      "3    12.0\n",
      "4     NaN\n",
      "Name: age, dtype: float64\n",
      "0    27.0\n",
      "1    26.0\n",
      "2    76.0\n",
      "Name: age, dtype: float64\n"
     ]
    }
   ],
   "source": [
    "print(dataframe1.loc[:, \"age\"])\n",
    "print(dataframe1.loc[:2,\"age\"]) "
   ]
  },
  {
   "cell_type": "code",
   "execution_count": 8,
   "id": "453b648e",
   "metadata": {
    "execution": {
     "iopub.execute_input": "2023-03-10T15:44:43.001426Z",
     "iopub.status.busy": "2023-03-10T15:44:43.000944Z",
     "iopub.status.idle": "2023-03-10T15:44:43.012526Z",
     "shell.execute_reply": "2023-03-10T15:44:43.010677Z"
    },
    "papermill": {
     "duration": 0.021989,
     "end_time": "2023-03-10T15:44:43.015362",
     "exception": false,
     "start_time": "2023-03-10T15:44:42.993373",
     "status": "completed"
    },
    "tags": []
   },
   "outputs": [
    {
     "name": "stdout",
     "output_type": "stream",
     "text": [
      "     name     note\n",
      "0   ceren    745.0\n",
      "1   cemre     85.0\n",
      "2  ceylin     88.0\n",
      "3   canan  15465.0\n",
      "4   cemil      NaN\n"
     ]
    }
   ],
   "source": [
    "print(dataframe1.loc[:4, [\"name\",\"note\"]])"
   ]
  },
  {
   "cell_type": "code",
   "execution_count": 9,
   "id": "bd9c1823",
   "metadata": {
    "execution": {
     "iopub.execute_input": "2023-03-10T15:44:43.030450Z",
     "iopub.status.busy": "2023-03-10T15:44:43.029968Z",
     "iopub.status.idle": "2023-03-10T15:44:43.039930Z",
     "shell.execute_reply": "2023-03-10T15:44:43.038201Z"
    },
    "papermill": {
     "duration": 0.022607,
     "end_time": "2023-03-10T15:44:43.044421",
     "exception": false,
     "start_time": "2023-03-10T15:44:43.021814",
     "status": "completed"
    },
    "tags": []
   },
   "outputs": [
    {
     "name": "stdout",
     "output_type": "stream",
     "text": [
      "     name   age\n",
      "0   ceren  27.0\n",
      "1   cemre  26.0\n",
      "2  ceylin  76.0\n",
      "3   canan  12.0\n",
      "4   cemil   NaN\n"
     ]
    }
   ],
   "source": [
    "print(dataframe1.loc[:,:\"age\"])"
   ]
  },
  {
   "cell_type": "code",
   "execution_count": 10,
   "id": "d1c5b6ef",
   "metadata": {
    "execution": {
     "iopub.execute_input": "2023-03-10T15:44:43.059771Z",
     "iopub.status.busy": "2023-03-10T15:44:43.059294Z",
     "iopub.status.idle": "2023-03-10T15:44:43.074703Z",
     "shell.execute_reply": "2023-03-10T15:44:43.072892Z"
    },
    "papermill": {
     "duration": 0.026107,
     "end_time": "2023-03-10T15:44:43.077469",
     "exception": false,
     "start_time": "2023-03-10T15:44:43.051362",
     "status": "completed"
    },
    "tags": []
   },
   "outputs": [
    {
     "name": "stdout",
     "output_type": "stream",
     "text": [
      "    age   bool\n",
      "0  27.0  False\n",
      "1  26.0  False\n",
      "2  76.0   True\n",
      "3  12.0  False\n",
      "4   NaN  False\n"
     ]
    }
   ],
   "source": [
    "filtre1 = dataframe1.age>35                           \n",
    "dataframe1[\"bool\"]= filtre1\n",
    "print(dataframe1.loc[:,[\"age\",\"bool\"]])"
   ]
  },
  {
   "cell_type": "code",
   "execution_count": 11,
   "id": "345c6f4f",
   "metadata": {
    "execution": {
     "iopub.execute_input": "2023-03-10T15:44:43.091948Z",
     "iopub.status.busy": "2023-03-10T15:44:43.091517Z",
     "iopub.status.idle": "2023-03-10T15:44:43.102733Z",
     "shell.execute_reply": "2023-03-10T15:44:43.100796Z"
    },
    "papermill": {
     "duration": 0.021861,
     "end_time": "2023-03-10T15:44:43.105481",
     "exception": false,
     "start_time": "2023-03-10T15:44:43.083620",
     "status": "completed"
    },
    "tags": []
   },
   "outputs": [
    {
     "name": "stdout",
     "output_type": "stream",
     "text": [
      "     name   age  note  yeni_future  bool\n",
      "2  ceylin  76.0  88.0            3  True\n"
     ]
    }
   ],
   "source": [
    "type(filtre1)\n",
    "filtrelenmis_data= dataframe1[filtre1] \n",
    "print(filtrelenmis_data)"
   ]
  },
  {
   "cell_type": "code",
   "execution_count": 12,
   "id": "88bc2926",
   "metadata": {
    "execution": {
     "iopub.execute_input": "2023-03-10T15:44:43.120393Z",
     "iopub.status.busy": "2023-03-10T15:44:43.119920Z",
     "iopub.status.idle": "2023-03-10T15:44:43.129409Z",
     "shell.execute_reply": "2023-03-10T15:44:43.127763Z"
    },
    "papermill": {
     "duration": 0.020571,
     "end_time": "2023-03-10T15:44:43.132594",
     "exception": false,
     "start_time": "2023-03-10T15:44:43.112023",
     "status": "completed"
    },
    "tags": []
   },
   "outputs": [
    {
     "name": "stdout",
     "output_type": "stream",
     "text": [
      "Empty DataFrame\n",
      "Columns: [name, age, note, yeni_future, bool]\n",
      "Index: []\n"
     ]
    }
   ],
   "source": [
    "filtre2 = dataframe1.note>150\n",
    "filtrelenmis_data2 = dataframe1[filtre2&filtre1] \n",
    "print(filtrelenmis_data2)"
   ]
  },
  {
   "cell_type": "code",
   "execution_count": 13,
   "id": "93955276",
   "metadata": {
    "execution": {
     "iopub.execute_input": "2023-03-10T15:44:43.148004Z",
     "iopub.status.busy": "2023-03-10T15:44:43.146935Z",
     "iopub.status.idle": "2023-03-10T15:44:43.155383Z",
     "shell.execute_reply": "2023-03-10T15:44:43.154036Z"
    },
    "papermill": {
     "duration": 0.019869,
     "end_time": "2023-03-10T15:44:43.159044",
     "exception": false,
     "start_time": "2023-03-10T15:44:43.139175",
     "status": "completed"
    },
    "tags": []
   },
   "outputs": [
    {
     "name": "stdout",
     "output_type": "stream",
     "text": [
      "4095.75\n",
      "4095.75\n"
     ]
    }
   ],
   "source": [
    "import numpy as np\n",
    "ortalama = dataframe1.note.mean()\n",
    "print(ortalama)\n",
    "ortlama_np= np.mean(dataframe1.note) \n",
    "print(ortlama_np)"
   ]
  },
  {
   "cell_type": "code",
   "execution_count": 14,
   "id": "5f929766",
   "metadata": {
    "execution": {
     "iopub.execute_input": "2023-03-10T15:44:43.173772Z",
     "iopub.status.busy": "2023-03-10T15:44:43.173337Z",
     "iopub.status.idle": "2023-03-10T15:44:43.198036Z",
     "shell.execute_reply": "2023-03-10T15:44:43.196715Z"
    },
    "papermill": {
     "duration": 0.035473,
     "end_time": "2023-03-10T15:44:43.200931",
     "exception": false,
     "start_time": "2023-03-10T15:44:43.165458",
     "status": "completed"
    },
    "tags": []
   },
   "outputs": [
    {
     "data": {
      "text/html": [
       "<div>\n",
       "<style scoped>\n",
       "    .dataframe tbody tr th:only-of-type {\n",
       "        vertical-align: middle;\n",
       "    }\n",
       "\n",
       "    .dataframe tbody tr th {\n",
       "        vertical-align: top;\n",
       "    }\n",
       "\n",
       "    .dataframe thead th {\n",
       "        text-align: right;\n",
       "    }\n",
       "</style>\n",
       "<table border=\"1\" class=\"dataframe\">\n",
       "  <thead>\n",
       "    <tr style=\"text-align: right;\">\n",
       "      <th></th>\n",
       "      <th>name</th>\n",
       "      <th>age</th>\n",
       "      <th>note</th>\n",
       "      <th>yeni_future</th>\n",
       "      <th>bool</th>\n",
       "    </tr>\n",
       "  </thead>\n",
       "  <tbody>\n",
       "    <tr>\n",
       "      <th>0</th>\n",
       "      <td>ceren</td>\n",
       "      <td>27.0</td>\n",
       "      <td>745.0</td>\n",
       "      <td>1</td>\n",
       "      <td>False</td>\n",
       "    </tr>\n",
       "    <tr>\n",
       "      <th>1</th>\n",
       "      <td>cemre</td>\n",
       "      <td>26.0</td>\n",
       "      <td>85.0</td>\n",
       "      <td>2</td>\n",
       "      <td>False</td>\n",
       "    </tr>\n",
       "    <tr>\n",
       "      <th>2</th>\n",
       "      <td>ceylin</td>\n",
       "      <td>76.0</td>\n",
       "      <td>88.0</td>\n",
       "      <td>3</td>\n",
       "      <td>True</td>\n",
       "    </tr>\n",
       "    <tr>\n",
       "      <th>3</th>\n",
       "      <td>canan</td>\n",
       "      <td>12.0</td>\n",
       "      <td>15465.0</td>\n",
       "      <td>4</td>\n",
       "      <td>False</td>\n",
       "    </tr>\n",
       "  </tbody>\n",
       "</table>\n",
       "</div>"
      ],
      "text/plain": [
       "     name   age     note  yeni_future   bool\n",
       "0   ceren  27.0    745.0            1  False\n",
       "1   cemre  26.0     85.0            2  False\n",
       "2  ceylin  76.0     88.0            3   True\n",
       "3   canan  12.0  15465.0            4  False"
      ]
     },
     "execution_count": 14,
     "metadata": {},
     "output_type": "execute_result"
    }
   ],
   "source": [
    "dataframe1.dropna(inplace=True) \n",
    "dataframe1"
   ]
  },
  {
   "cell_type": "code",
   "execution_count": 15,
   "id": "70a71cc2",
   "metadata": {
    "execution": {
     "iopub.execute_input": "2023-03-10T15:44:43.218254Z",
     "iopub.status.busy": "2023-03-10T15:44:43.217021Z",
     "iopub.status.idle": "2023-03-10T15:44:43.226911Z",
     "shell.execute_reply": "2023-03-10T15:44:43.225696Z"
    },
    "papermill": {
     "duration": 0.020681,
     "end_time": "2023-03-10T15:44:43.229573",
     "exception": false,
     "start_time": "2023-03-10T15:44:43.208892",
     "status": "completed"
    },
    "tags": []
   },
   "outputs": [
    {
     "data": {
      "text/plain": [
       "Index(['NAME', 'AGE', 'NOTE', 'YENI_FUTURE', 'BOOL'], dtype='object')"
      ]
     },
     "execution_count": 15,
     "metadata": {},
     "output_type": "execute_result"
    }
   ],
   "source": [
    "dataframe1.columns = [each.upper() for each in dataframe1.columns]\n",
    "dataframe1.columns"
   ]
  },
  {
   "cell_type": "code",
   "execution_count": 16,
   "id": "401eda00",
   "metadata": {
    "execution": {
     "iopub.execute_input": "2023-03-10T15:44:43.245386Z",
     "iopub.status.busy": "2023-03-10T15:44:43.244889Z",
     "iopub.status.idle": "2023-03-10T15:44:43.261401Z",
     "shell.execute_reply": "2023-03-10T15:44:43.260057Z"
    },
    "papermill": {
     "duration": 0.027565,
     "end_time": "2023-03-10T15:44:43.263966",
     "exception": false,
     "start_time": "2023-03-10T15:44:43.236401",
     "status": "completed"
    },
    "tags": []
   },
   "outputs": [
    {
     "data": {
      "text/html": [
       "<div>\n",
       "<style scoped>\n",
       "    .dataframe tbody tr th:only-of-type {\n",
       "        vertical-align: middle;\n",
       "    }\n",
       "\n",
       "    .dataframe tbody tr th {\n",
       "        vertical-align: top;\n",
       "    }\n",
       "\n",
       "    .dataframe thead th {\n",
       "        text-align: right;\n",
       "    }\n",
       "</style>\n",
       "<table border=\"1\" class=\"dataframe\">\n",
       "  <thead>\n",
       "    <tr style=\"text-align: right;\">\n",
       "      <th></th>\n",
       "      <th>NAME</th>\n",
       "      <th>AGE</th>\n",
       "      <th>NOTE</th>\n",
       "      <th>YENI_FUTURE</th>\n",
       "      <th>BOOL</th>\n",
       "    </tr>\n",
       "  </thead>\n",
       "  <tbody>\n",
       "    <tr>\n",
       "      <th>0</th>\n",
       "      <td>ceren</td>\n",
       "      <td>27.0</td>\n",
       "      <td>745.0</td>\n",
       "      <td>1</td>\n",
       "      <td>False</td>\n",
       "    </tr>\n",
       "    <tr>\n",
       "      <th>1</th>\n",
       "      <td>cemre</td>\n",
       "      <td>26.0</td>\n",
       "      <td>85.0</td>\n",
       "      <td>2</td>\n",
       "      <td>False</td>\n",
       "    </tr>\n",
       "    <tr>\n",
       "      <th>2</th>\n",
       "      <td>ceylin</td>\n",
       "      <td>76.0</td>\n",
       "      <td>88.0</td>\n",
       "      <td>3</td>\n",
       "      <td>True</td>\n",
       "    </tr>\n",
       "    <tr>\n",
       "      <th>3</th>\n",
       "      <td>canan</td>\n",
       "      <td>12.0</td>\n",
       "      <td>15465.0</td>\n",
       "      <td>4</td>\n",
       "      <td>False</td>\n",
       "    </tr>\n",
       "  </tbody>\n",
       "</table>\n",
       "</div>"
      ],
      "text/plain": [
       "     NAME   AGE     NOTE  YENI_FUTURE   BOOL\n",
       "0   ceren  27.0    745.0            1  False\n",
       "1   cemre  26.0     85.0            2  False\n",
       "2  ceylin  76.0     88.0            3   True\n",
       "3   canan  12.0  15465.0            4  False"
      ]
     },
     "execution_count": 16,
     "metadata": {},
     "output_type": "execute_result"
    }
   ],
   "source": [
    "dataframe1.columns = [ each.split(\" \")[0]+\"_\"+each.split(\" \")[1] if len(each.split(\" \"))>1 else each for each in dataframe1.columns]\n",
    "dataframe1"
   ]
  },
  {
   "cell_type": "code",
   "execution_count": 17,
   "id": "b80ebb0e",
   "metadata": {
    "execution": {
     "iopub.execute_input": "2023-03-10T15:44:43.279571Z",
     "iopub.status.busy": "2023-03-10T15:44:43.279092Z",
     "iopub.status.idle": "2023-03-10T15:44:43.297559Z",
     "shell.execute_reply": "2023-03-10T15:44:43.296339Z"
    },
    "papermill": {
     "duration": 0.029045,
     "end_time": "2023-03-10T15:44:43.299818",
     "exception": false,
     "start_time": "2023-03-10T15:44:43.270773",
     "status": "completed"
    },
    "tags": []
   },
   "outputs": [
    {
     "data": {
      "text/html": [
       "<div>\n",
       "<style scoped>\n",
       "    .dataframe tbody tr th:only-of-type {\n",
       "        vertical-align: middle;\n",
       "    }\n",
       "\n",
       "    .dataframe tbody tr th {\n",
       "        vertical-align: top;\n",
       "    }\n",
       "\n",
       "    .dataframe thead th {\n",
       "        text-align: right;\n",
       "    }\n",
       "</style>\n",
       "<table border=\"1\" class=\"dataframe\">\n",
       "  <thead>\n",
       "    <tr style=\"text-align: right;\">\n",
       "      <th></th>\n",
       "      <th>NAME</th>\n",
       "      <th>AGE</th>\n",
       "      <th>NOTE</th>\n",
       "      <th>YENI_FUTURE</th>\n",
       "      <th>BOOL</th>\n",
       "    </tr>\n",
       "  </thead>\n",
       "  <tbody>\n",
       "    <tr>\n",
       "      <th>0</th>\n",
       "      <td>ceren</td>\n",
       "      <td>27.0</td>\n",
       "      <td>745.0</td>\n",
       "      <td>1</td>\n",
       "      <td>False</td>\n",
       "    </tr>\n",
       "    <tr>\n",
       "      <th>1</th>\n",
       "      <td>cemre</td>\n",
       "      <td>26.0</td>\n",
       "      <td>85.0</td>\n",
       "      <td>2</td>\n",
       "      <td>False</td>\n",
       "    </tr>\n",
       "    <tr>\n",
       "      <th>2</th>\n",
       "      <td>ceylin</td>\n",
       "      <td>76.0</td>\n",
       "      <td>88.0</td>\n",
       "      <td>3</td>\n",
       "      <td>True</td>\n",
       "    </tr>\n",
       "    <tr>\n",
       "      <th>3</th>\n",
       "      <td>canan</td>\n",
       "      <td>12.0</td>\n",
       "      <td>15465.0</td>\n",
       "      <td>4</td>\n",
       "      <td>False</td>\n",
       "    </tr>\n",
       "    <tr>\n",
       "      <th>0</th>\n",
       "      <td>ceren</td>\n",
       "      <td>27.0</td>\n",
       "      <td>745.0</td>\n",
       "      <td>1</td>\n",
       "      <td>False</td>\n",
       "    </tr>\n",
       "    <tr>\n",
       "      <th>1</th>\n",
       "      <td>cemre</td>\n",
       "      <td>26.0</td>\n",
       "      <td>85.0</td>\n",
       "      <td>2</td>\n",
       "      <td>False</td>\n",
       "    </tr>\n",
       "    <tr>\n",
       "      <th>2</th>\n",
       "      <td>ceylin</td>\n",
       "      <td>76.0</td>\n",
       "      <td>88.0</td>\n",
       "      <td>3</td>\n",
       "      <td>True</td>\n",
       "    </tr>\n",
       "    <tr>\n",
       "      <th>3</th>\n",
       "      <td>canan</td>\n",
       "      <td>12.0</td>\n",
       "      <td>15465.0</td>\n",
       "      <td>4</td>\n",
       "      <td>False</td>\n",
       "    </tr>\n",
       "  </tbody>\n",
       "</table>\n",
       "</div>"
      ],
      "text/plain": [
       "     NAME   AGE     NOTE  YENI_FUTURE   BOOL\n",
       "0   ceren  27.0    745.0            1  False\n",
       "1   cemre  26.0     85.0            2  False\n",
       "2  ceylin  76.0     88.0            3   True\n",
       "3   canan  12.0  15465.0            4  False\n",
       "0   ceren  27.0    745.0            1  False\n",
       "1   cemre  26.0     85.0            2  False\n",
       "2  ceylin  76.0     88.0            3   True\n",
       "3   canan  12.0  15465.0            4  False"
      ]
     },
     "execution_count": 17,
     "metadata": {},
     "output_type": "execute_result"
    }
   ],
   "source": [
    "data1 = dataframe1.head()     \n",
    "data2 = dataframe1.tail()\n",
    "data_concat = pd.concat([data1,data2],axis=0)\n",
    "data_concat"
   ]
  },
  {
   "cell_type": "code",
   "execution_count": 18,
   "id": "bce0edd1",
   "metadata": {
    "execution": {
     "iopub.execute_input": "2023-03-10T15:44:43.317079Z",
     "iopub.status.busy": "2023-03-10T15:44:43.315525Z",
     "iopub.status.idle": "2023-03-10T15:44:43.333828Z",
     "shell.execute_reply": "2023-03-10T15:44:43.332355Z"
    },
    "papermill": {
     "duration": 0.029583,
     "end_time": "2023-03-10T15:44:43.336649",
     "exception": false,
     "start_time": "2023-03-10T15:44:43.307066",
     "status": "completed"
    },
    "tags": []
   },
   "outputs": [
    {
     "data": {
      "text/html": [
       "<div>\n",
       "<style scoped>\n",
       "    .dataframe tbody tr th:only-of-type {\n",
       "        vertical-align: middle;\n",
       "    }\n",
       "\n",
       "    .dataframe tbody tr th {\n",
       "        vertical-align: top;\n",
       "    }\n",
       "\n",
       "    .dataframe thead th {\n",
       "        text-align: right;\n",
       "    }\n",
       "</style>\n",
       "<table border=\"1\" class=\"dataframe\">\n",
       "  <thead>\n",
       "    <tr style=\"text-align: right;\">\n",
       "      <th></th>\n",
       "      <th>NAME</th>\n",
       "      <th>AGE</th>\n",
       "      <th>NOTE</th>\n",
       "      <th>YENI_FUTURE</th>\n",
       "      <th>BOOL</th>\n",
       "      <th>buyuk_yas</th>\n",
       "    </tr>\n",
       "  </thead>\n",
       "  <tbody>\n",
       "    <tr>\n",
       "      <th>0</th>\n",
       "      <td>ceren</td>\n",
       "      <td>27.0</td>\n",
       "      <td>745.0</td>\n",
       "      <td>1</td>\n",
       "      <td>False</td>\n",
       "      <td>54.0</td>\n",
       "    </tr>\n",
       "    <tr>\n",
       "      <th>1</th>\n",
       "      <td>cemre</td>\n",
       "      <td>26.0</td>\n",
       "      <td>85.0</td>\n",
       "      <td>2</td>\n",
       "      <td>False</td>\n",
       "      <td>52.0</td>\n",
       "    </tr>\n",
       "    <tr>\n",
       "      <th>2</th>\n",
       "      <td>ceylin</td>\n",
       "      <td>76.0</td>\n",
       "      <td>88.0</td>\n",
       "      <td>3</td>\n",
       "      <td>True</td>\n",
       "      <td>152.0</td>\n",
       "    </tr>\n",
       "    <tr>\n",
       "      <th>3</th>\n",
       "      <td>canan</td>\n",
       "      <td>12.0</td>\n",
       "      <td>15465.0</td>\n",
       "      <td>4</td>\n",
       "      <td>False</td>\n",
       "      <td>24.0</td>\n",
       "    </tr>\n",
       "  </tbody>\n",
       "</table>\n",
       "</div>"
      ],
      "text/plain": [
       "     NAME   AGE     NOTE  YENI_FUTURE   BOOL  buyuk_yas\n",
       "0   ceren  27.0    745.0            1  False       54.0\n",
       "1   cemre  26.0     85.0            2  False       52.0\n",
       "2  ceylin  76.0     88.0            3   True      152.0\n",
       "3   canan  12.0  15465.0            4  False       24.0"
      ]
     },
     "execution_count": 18,
     "metadata": {},
     "output_type": "execute_result"
    }
   ],
   "source": [
    "dataframe1[\"buyuk_yas\"] = [each*2 for each in dataframe1.AGE]\n",
    "dataframe1"
   ]
  },
  {
   "cell_type": "code",
   "execution_count": 19,
   "id": "cfe391cf",
   "metadata": {
    "execution": {
     "iopub.execute_input": "2023-03-10T15:44:43.353939Z",
     "iopub.status.busy": "2023-03-10T15:44:43.353454Z",
     "iopub.status.idle": "2023-03-10T15:44:43.371454Z",
     "shell.execute_reply": "2023-03-10T15:44:43.370067Z"
    },
    "papermill": {
     "duration": 0.029738,
     "end_time": "2023-03-10T15:44:43.374111",
     "exception": false,
     "start_time": "2023-03-10T15:44:43.344373",
     "status": "completed"
    },
    "tags": []
   },
   "outputs": [
    {
     "data": {
      "text/html": [
       "<div>\n",
       "<style scoped>\n",
       "    .dataframe tbody tr th:only-of-type {\n",
       "        vertical-align: middle;\n",
       "    }\n",
       "\n",
       "    .dataframe tbody tr th {\n",
       "        vertical-align: top;\n",
       "    }\n",
       "\n",
       "    .dataframe thead th {\n",
       "        text-align: right;\n",
       "    }\n",
       "</style>\n",
       "<table border=\"1\" class=\"dataframe\">\n",
       "  <thead>\n",
       "    <tr style=\"text-align: right;\">\n",
       "      <th></th>\n",
       "      <th>NAME</th>\n",
       "      <th>AGE</th>\n",
       "      <th>NOTE</th>\n",
       "      <th>YENI_FUTURE</th>\n",
       "      <th>BOOL</th>\n",
       "      <th>buyuk_yas</th>\n",
       "      <th>apply_metodu</th>\n",
       "    </tr>\n",
       "  </thead>\n",
       "  <tbody>\n",
       "    <tr>\n",
       "      <th>0</th>\n",
       "      <td>ceren</td>\n",
       "      <td>27.0</td>\n",
       "      <td>745.0</td>\n",
       "      <td>1</td>\n",
       "      <td>False</td>\n",
       "      <td>54.0</td>\n",
       "      <td>54.0</td>\n",
       "    </tr>\n",
       "    <tr>\n",
       "      <th>1</th>\n",
       "      <td>cemre</td>\n",
       "      <td>26.0</td>\n",
       "      <td>85.0</td>\n",
       "      <td>2</td>\n",
       "      <td>False</td>\n",
       "      <td>52.0</td>\n",
       "      <td>52.0</td>\n",
       "    </tr>\n",
       "    <tr>\n",
       "      <th>2</th>\n",
       "      <td>ceylin</td>\n",
       "      <td>76.0</td>\n",
       "      <td>88.0</td>\n",
       "      <td>3</td>\n",
       "      <td>True</td>\n",
       "      <td>152.0</td>\n",
       "      <td>152.0</td>\n",
       "    </tr>\n",
       "    <tr>\n",
       "      <th>3</th>\n",
       "      <td>canan</td>\n",
       "      <td>12.0</td>\n",
       "      <td>15465.0</td>\n",
       "      <td>4</td>\n",
       "      <td>False</td>\n",
       "      <td>24.0</td>\n",
       "      <td>24.0</td>\n",
       "    </tr>\n",
       "  </tbody>\n",
       "</table>\n",
       "</div>"
      ],
      "text/plain": [
       "     NAME   AGE     NOTE  YENI_FUTURE   BOOL  buyuk_yas  apply_metodu\n",
       "0   ceren  27.0    745.0            1  False       54.0          54.0\n",
       "1   cemre  26.0     85.0            2  False       52.0          52.0\n",
       "2  ceylin  76.0     88.0            3   True      152.0         152.0\n",
       "3   canan  12.0  15465.0            4  False       24.0          24.0"
      ]
     },
     "execution_count": 19,
     "metadata": {},
     "output_type": "execute_result"
    }
   ],
   "source": [
    "\n",
    "\n",
    "def mlt(yas):\n",
    "    return yas*2\n",
    "dataframe1[\"apply_metodu\"] = dataframe1.AGE.apply(mlt)\n",
    "dataframe1\n",
    "\n"
   ]
  }
 ],
 "metadata": {
  "kernelspec": {
   "display_name": "Python 3",
   "language": "python",
   "name": "python3"
  },
  "language_info": {
   "codemirror_mode": {
    "name": "ipython",
    "version": 3
   },
   "file_extension": ".py",
   "mimetype": "text/x-python",
   "name": "python",
   "nbconvert_exporter": "python",
   "pygments_lexer": "ipython3",
   "version": "3.7.12"
  },
  "papermill": {
   "default_parameters": {},
   "duration": 12.623653,
   "end_time": "2023-03-10T15:44:44.305650",
   "environment_variables": {},
   "exception": null,
   "input_path": "__notebook__.ipynb",
   "output_path": "__notebook__.ipynb",
   "parameters": {},
   "start_time": "2023-03-10T15:44:31.681997",
   "version": "2.4.0"
  }
 },
 "nbformat": 4,
 "nbformat_minor": 5
}
