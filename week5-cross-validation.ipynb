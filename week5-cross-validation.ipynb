{
 "cells": [
  {
   "cell_type": "code",
   "execution_count": 1,
   "id": "dd4098b5",
   "metadata": {
    "_cell_guid": "b1076dfc-b9ad-4769-8c92-a6c4dae69d19",
    "_uuid": "8f2839f25d086af736a60e9eeb907d3b93b6e0e5",
    "execution": {
     "iopub.execute_input": "2023-03-31T19:08:55.588124Z",
     "iopub.status.busy": "2023-03-31T19:08:55.587700Z",
     "iopub.status.idle": "2023-03-31T19:08:56.945725Z",
     "shell.execute_reply": "2023-03-31T19:08:56.944278Z"
    },
    "papermill": {
     "duration": 1.367319,
     "end_time": "2023-03-31T19:08:56.948795",
     "exception": false,
     "start_time": "2023-03-31T19:08:55.581476",
     "status": "completed"
    },
    "tags": []
   },
   "outputs": [],
   "source": [
    "from sklearn.datasets import load_iris\n",
    "from sklearn.linear_model import LinearRegression\n",
    "from sklearn.model_selection import KFold\n",
    "from sklearn.metrics import mean_squared_error\n",
    "import numpy as np"
   ]
  },
  {
   "cell_type": "code",
   "execution_count": 2,
   "id": "cc9628b1",
   "metadata": {
    "execution": {
     "iopub.execute_input": "2023-03-31T19:08:56.957650Z",
     "iopub.status.busy": "2023-03-31T19:08:56.956745Z",
     "iopub.status.idle": "2023-03-31T19:08:56.967599Z",
     "shell.execute_reply": "2023-03-31T19:08:56.966477Z"
    },
    "papermill": {
     "duration": 0.01806,
     "end_time": "2023-03-31T19:08:56.970417",
     "exception": false,
     "start_time": "2023-03-31T19:08:56.952357",
     "status": "completed"
    },
    "tags": []
   },
   "outputs": [],
   "source": [
    "iris = load_iris()"
   ]
  },
  {
   "cell_type": "code",
   "execution_count": 3,
   "id": "fc67e030",
   "metadata": {
    "execution": {
     "iopub.execute_input": "2023-03-31T19:08:56.978996Z",
     "iopub.status.busy": "2023-03-31T19:08:56.978098Z",
     "iopub.status.idle": "2023-03-31T19:08:56.983618Z",
     "shell.execute_reply": "2023-03-31T19:08:56.982471Z"
    },
    "papermill": {
     "duration": 0.012669,
     "end_time": "2023-03-31T19:08:56.986107",
     "exception": false,
     "start_time": "2023-03-31T19:08:56.973438",
     "status": "completed"
    },
    "tags": []
   },
   "outputs": [],
   "source": [
    "X, y = iris.data, iris.target"
   ]
  },
  {
   "cell_type": "code",
   "execution_count": 4,
   "id": "bcb16aa0",
   "metadata": {
    "execution": {
     "iopub.execute_input": "2023-03-31T19:08:56.994635Z",
     "iopub.status.busy": "2023-03-31T19:08:56.993780Z",
     "iopub.status.idle": "2023-03-31T19:08:56.999381Z",
     "shell.execute_reply": "2023-03-31T19:08:56.998267Z"
    },
    "papermill": {
     "duration": 0.012777,
     "end_time": "2023-03-31T19:08:57.001960",
     "exception": false,
     "start_time": "2023-03-31T19:08:56.989183",
     "status": "completed"
    },
    "tags": []
   },
   "outputs": [],
   "source": [
    "kf = KFold(n_splits=5, shuffle=True, random_state=42)"
   ]
  },
  {
   "cell_type": "code",
   "execution_count": 5,
   "id": "03e741ff",
   "metadata": {
    "execution": {
     "iopub.execute_input": "2023-03-31T19:08:57.010900Z",
     "iopub.status.busy": "2023-03-31T19:08:57.010025Z",
     "iopub.status.idle": "2023-03-31T19:08:57.015353Z",
     "shell.execute_reply": "2023-03-31T19:08:57.014174Z"
    },
    "papermill": {
     "duration": 0.012686,
     "end_time": "2023-03-31T19:08:57.017977",
     "exception": false,
     "start_time": "2023-03-31T19:08:57.005291",
     "status": "completed"
    },
    "tags": []
   },
   "outputs": [],
   "source": [
    "model = LinearRegression()"
   ]
  },
  {
   "cell_type": "code",
   "execution_count": 6,
   "id": "073036f5",
   "metadata": {
    "execution": {
     "iopub.execute_input": "2023-03-31T19:08:57.026629Z",
     "iopub.status.busy": "2023-03-31T19:08:57.025788Z",
     "iopub.status.idle": "2023-03-31T19:08:57.059766Z",
     "shell.execute_reply": "2023-03-31T19:08:57.058522Z"
    },
    "papermill": {
     "duration": 0.042109,
     "end_time": "2023-03-31T19:08:57.063170",
     "exception": false,
     "start_time": "2023-03-31T19:08:57.021061",
     "status": "completed"
    },
    "tags": []
   },
   "outputs": [],
   "source": [
    "scores = []\n",
    "for train_index, test_index in kf.split(X):\n",
    "    X_train, X_test = X[train_index], X[test_index]\n",
    "    y_train, y_test = y[train_index], y[test_index]\n",
    "    \n",
    "    # Modeli eğit\n",
    "    model.fit(X_train, y_train)\n",
    "    \n",
    "    # Test seti üzerinde tahmin yap ve hata hesapla\n",
    "    y_pred = model.predict(X_test)\n",
    "    score = mean_squared_error(y_test, y_pred)\n",
    "    scores.append(score)"
   ]
  },
  {
   "cell_type": "code",
   "execution_count": 7,
   "id": "0394ab58",
   "metadata": {
    "execution": {
     "iopub.execute_input": "2023-03-31T19:08:57.073641Z",
     "iopub.status.busy": "2023-03-31T19:08:57.072758Z",
     "iopub.status.idle": "2023-03-31T19:08:57.078595Z",
     "shell.execute_reply": "2023-03-31T19:08:57.077269Z"
    },
    "papermill": {
     "duration": 0.013575,
     "end_time": "2023-03-31T19:08:57.081059",
     "exception": false,
     "start_time": "2023-03-31T19:08:57.067484",
     "status": "completed"
    },
    "tags": []
   },
   "outputs": [],
   "source": [
    "mean_score = np.mean(scores)"
   ]
  },
  {
   "cell_type": "code",
   "execution_count": 8,
   "id": "7b6c489b",
   "metadata": {
    "execution": {
     "iopub.execute_input": "2023-03-31T19:08:57.089433Z",
     "iopub.status.busy": "2023-03-31T19:08:57.088621Z",
     "iopub.status.idle": "2023-03-31T19:08:57.095735Z",
     "shell.execute_reply": "2023-03-31T19:08:57.094135Z"
    },
    "papermill": {
     "duration": 0.015018,
     "end_time": "2023-03-31T19:08:57.099221",
     "exception": false,
     "start_time": "2023-03-31T19:08:57.084203",
     "status": "completed"
    },
    "tags": []
   },
   "outputs": [
    {
     "name": "stdout",
     "output_type": "stream",
     "text": [
      "K-fold cross validation result:  [0.037113794407976915, 0.042877331697643635, 0.05339513046889763, 0.06316425044891773, 0.047794600654438316]\n",
      "Mean Score:  0.04886902153557484\n"
     ]
    }
   ],
   "source": [
    "print(\"K-fold cross validation result: \", scores)\n",
    "print(\"Mean Score: \", mean_score)"
   ]
  }
 ],
 "metadata": {
  "kernelspec": {
   "display_name": "Python 3",
   "language": "python",
   "name": "python3"
  },
  "language_info": {
   "codemirror_mode": {
    "name": "ipython",
    "version": 3
   },
   "file_extension": ".py",
   "mimetype": "text/x-python",
   "name": "python",
   "nbconvert_exporter": "python",
   "pygments_lexer": "ipython3",
   "version": "3.7.12"
  },
  "papermill": {
   "default_parameters": {},
   "duration": 12.698629,
   "end_time": "2023-03-31T19:08:57.825580",
   "environment_variables": {},
   "exception": null,
   "input_path": "__notebook__.ipynb",
   "output_path": "__notebook__.ipynb",
   "parameters": {},
   "start_time": "2023-03-31T19:08:45.126951",
   "version": "2.4.0"
  }
 },
 "nbformat": 4,
 "nbformat_minor": 5
}
