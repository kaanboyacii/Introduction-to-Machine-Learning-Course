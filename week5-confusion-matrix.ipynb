{
 "cells": [
  {
   "cell_type": "code",
   "execution_count": 1,
   "id": "837aed3f",
   "metadata": {
    "_cell_guid": "b1076dfc-b9ad-4769-8c92-a6c4dae69d19",
    "_uuid": "8f2839f25d086af736a60e9eeb907d3b93b6e0e5",
    "execution": {
     "iopub.execute_input": "2023-03-31T19:06:33.390179Z",
     "iopub.status.busy": "2023-03-31T19:06:33.389632Z",
     "iopub.status.idle": "2023-03-31T19:06:35.296658Z",
     "shell.execute_reply": "2023-03-31T19:06:35.294554Z"
    },
    "papermill": {
     "duration": 1.91654,
     "end_time": "2023-03-31T19:06:35.299518",
     "exception": false,
     "start_time": "2023-03-31T19:06:33.382978",
     "status": "completed"
    },
    "tags": []
   },
   "outputs": [],
   "source": [
    "import numpy as np\n",
    "import pandas as pd\n",
    "import seaborn as sns\n",
    "import matplotlib.pyplot as plt\n",
    "from sklearn.datasets import load_iris\n",
    "from sklearn.model_selection import train_test_split\n",
    "from sklearn.tree import DecisionTreeClassifier\n",
    "from sklearn.metrics import confusion_matrix"
   ]
  },
  {
   "cell_type": "code",
   "execution_count": 2,
   "id": "1e2862e5",
   "metadata": {
    "execution": {
     "iopub.execute_input": "2023-03-31T19:06:35.309502Z",
     "iopub.status.busy": "2023-03-31T19:06:35.309093Z",
     "iopub.status.idle": "2023-03-31T19:06:35.325617Z",
     "shell.execute_reply": "2023-03-31T19:06:35.323980Z"
    },
    "papermill": {
     "duration": 0.024843,
     "end_time": "2023-03-31T19:06:35.328505",
     "exception": false,
     "start_time": "2023-03-31T19:06:35.303662",
     "status": "completed"
    },
    "tags": []
   },
   "outputs": [],
   "source": [
    "iris = load_iris()\n",
    "X_train, X_test, y_train, y_test = train_test_split(iris.data, iris.target, test_size=0.2, random_state=42)"
   ]
  },
  {
   "cell_type": "code",
   "execution_count": 3,
   "id": "b3e54165",
   "metadata": {
    "execution": {
     "iopub.execute_input": "2023-03-31T19:06:35.339836Z",
     "iopub.status.busy": "2023-03-31T19:06:35.339374Z",
     "iopub.status.idle": "2023-03-31T19:06:35.361675Z",
     "shell.execute_reply": "2023-03-31T19:06:35.359428Z"
    },
    "papermill": {
     "duration": 0.031181,
     "end_time": "2023-03-31T19:06:35.364577",
     "exception": false,
     "start_time": "2023-03-31T19:06:35.333396",
     "status": "completed"
    },
    "tags": []
   },
   "outputs": [
    {
     "data": {
      "text/plain": [
       "DecisionTreeClassifier()"
      ]
     },
     "execution_count": 3,
     "metadata": {},
     "output_type": "execute_result"
    }
   ],
   "source": [
    "clf = DecisionTreeClassifier()\n",
    "clf.fit(X_train, y_train)"
   ]
  },
  {
   "cell_type": "code",
   "execution_count": 4,
   "id": "c65d358d",
   "metadata": {
    "execution": {
     "iopub.execute_input": "2023-03-31T19:06:35.374480Z",
     "iopub.status.busy": "2023-03-31T19:06:35.373981Z",
     "iopub.status.idle": "2023-03-31T19:06:35.381383Z",
     "shell.execute_reply": "2023-03-31T19:06:35.379281Z"
    },
    "papermill": {
     "duration": 0.015213,
     "end_time": "2023-03-31T19:06:35.383775",
     "exception": false,
     "start_time": "2023-03-31T19:06:35.368562",
     "status": "completed"
    },
    "tags": []
   },
   "outputs": [],
   "source": [
    "y_pred = clf.predict(X_test)"
   ]
  },
  {
   "cell_type": "code",
   "execution_count": 5,
   "id": "703ee5e2",
   "metadata": {
    "execution": {
     "iopub.execute_input": "2023-03-31T19:06:35.393628Z",
     "iopub.status.busy": "2023-03-31T19:06:35.393270Z",
     "iopub.status.idle": "2023-03-31T19:06:35.402699Z",
     "shell.execute_reply": "2023-03-31T19:06:35.401813Z"
    },
    "papermill": {
     "duration": 0.017375,
     "end_time": "2023-03-31T19:06:35.405251",
     "exception": false,
     "start_time": "2023-03-31T19:06:35.387876",
     "status": "completed"
    },
    "tags": []
   },
   "outputs": [],
   "source": [
    "cm = confusion_matrix(y_test, y_pred)"
   ]
  },
  {
   "cell_type": "code",
   "execution_count": 6,
   "id": "af301502",
   "metadata": {
    "execution": {
     "iopub.execute_input": "2023-03-31T19:06:35.415967Z",
     "iopub.status.busy": "2023-03-31T19:06:35.415568Z",
     "iopub.status.idle": "2023-03-31T19:06:35.689491Z",
     "shell.execute_reply": "2023-03-31T19:06:35.688061Z"
    },
    "papermill": {
     "duration": 0.28253,
     "end_time": "2023-03-31T19:06:35.692032",
     "exception": false,
     "start_time": "2023-03-31T19:06:35.409502",
     "status": "completed"
    },
    "tags": []
   },
   "outputs": [
    {
     "data": {
      "image/png": "[encoded data removed]",
      "text/plain": [
       "<Figure size 800x600 with 2 Axes>"
      ]
     },
     "metadata": {},
     "output_type": "display_data"
    }
   ],
   "source": [
    "labels = ['Setosa', 'Versicolor', 'Virginica']\n",
    "df_cm = pd.DataFrame(cm, index=labels, columns=labels)\n",
    "plt.figure(figsize=(8,6))\n",
    "sns.heatmap(df_cm, annot=True, cmap=plt.cm.Blues) # annot=True parametresi sayesinde hücrelerin içindeki sayıları da gösteriyoruz.\n",
    "plt.xlabel('Tahmin edilen')\n",
    "plt.ylabel('Gerçek')\n",
    "plt.show()"
   ]
  },
  {
   "cell_type": "code",
   "execution_count": 7,
   "id": "d41ee518",
   "metadata": {
    "execution": {
     "iopub.execute_input": "2023-03-31T19:06:35.702791Z",
     "iopub.status.busy": "2023-03-31T19:06:35.702393Z",
     "iopub.status.idle": "2023-03-31T19:06:35.709632Z",
     "shell.execute_reply": "2023-03-31T19:06:35.707916Z"
    },
    "papermill": {
     "duration": 0.015539,
     "end_time": "2023-03-31T19:06:35.712044",
     "exception": false,
     "start_time": "2023-03-31T19:06:35.696505",
     "status": "completed"
    },
    "tags": []
   },
   "outputs": [],
   "source": [
    "import numpy as np\n",
    "import pandas as pd\n",
    "import matplotlib.pyplot as plt\n",
    "from sklearn.datasets import make_classification\n",
    "from sklearn.linear_model import LogisticRegression\n",
    "from sklearn.model_selection import train_test_split\n",
    "from sklearn.metrics import confusion_matrix"
   ]
  },
  {
   "cell_type": "code",
   "execution_count": 8,
   "id": "022bd1da",
   "metadata": {
    "execution": {
     "iopub.execute_input": "2023-03-31T19:06:35.723593Z",
     "iopub.status.busy": "2023-03-31T19:06:35.722179Z",
     "iopub.status.idle": "2023-03-31T19:06:35.733049Z",
     "shell.execute_reply": "2023-03-31T19:06:35.731155Z"
    },
    "papermill": {
     "duration": 0.019623,
     "end_time": "2023-03-31T19:06:35.736081",
     "exception": false,
     "start_time": "2023-03-31T19:06:35.716458",
     "status": "completed"
    },
    "tags": []
   },
   "outputs": [],
   "source": [
    "X, y = make_classification(n_samples=1000, n_classes=2, random_state=42)"
   ]
  },
  {
   "cell_type": "code",
   "execution_count": 9,
   "id": "7d3a7081",
   "metadata": {
    "execution": {
     "iopub.execute_input": "2023-03-31T19:06:35.746302Z",
     "iopub.status.busy": "2023-03-31T19:06:35.745902Z",
     "iopub.status.idle": "2023-03-31T19:06:35.753899Z",
     "shell.execute_reply": "2023-03-31T19:06:35.751787Z"
    },
    "papermill": {
     "duration": 0.017958,
     "end_time": "2023-03-31T19:06:35.758373",
     "exception": false,
     "start_time": "2023-03-31T19:06:35.740415",
     "status": "completed"
    },
    "tags": []
   },
   "outputs": [],
   "source": [
    "X_train, X_test, y_train, y_test = train_test_split(X, y, test_size=0.2, random_state=120)"
   ]
  },
  {
   "cell_type": "code",
   "execution_count": 10,
   "id": "3a00a18a",
   "metadata": {
    "execution": {
     "iopub.execute_input": "2023-03-31T19:06:35.768859Z",
     "iopub.status.busy": "2023-03-31T19:06:35.768489Z",
     "iopub.status.idle": "2023-03-31T19:06:35.786385Z",
     "shell.execute_reply": "2023-03-31T19:06:35.785451Z"
    },
    "papermill": {
     "duration": 0.026883,
     "end_time": "2023-03-31T19:06:35.789790",
     "exception": false,
     "start_time": "2023-03-31T19:06:35.762907",
     "status": "completed"
    },
    "tags": []
   },
   "outputs": [
    {
     "data": {
      "text/plain": [
       "LogisticRegression()"
      ]
     },
     "execution_count": 10,
     "metadata": {},
     "output_type": "execute_result"
    }
   ],
   "source": [
    "clf = LogisticRegression()\n",
    "clf.fit(X_train, y_train)"
   ]
  },
  {
   "cell_type": "code",
   "execution_count": 11,
   "id": "25e75f17",
   "metadata": {
    "execution": {
     "iopub.execute_input": "2023-03-31T19:06:35.804287Z",
     "iopub.status.busy": "2023-03-31T19:06:35.803781Z",
     "iopub.status.idle": "2023-03-31T19:06:35.808738Z",
     "shell.execute_reply": "2023-03-31T19:06:35.807926Z"
    },
    "papermill": {
     "duration": 0.014535,
     "end_time": "2023-03-31T19:06:35.810915",
     "exception": false,
     "start_time": "2023-03-31T19:06:35.796380",
     "status": "completed"
    },
    "tags": []
   },
   "outputs": [],
   "source": [
    "y_pred = clf.predict(X_test)"
   ]
  },
  {
   "cell_type": "code",
   "execution_count": 12,
   "id": "b8290f5d",
   "metadata": {
    "execution": {
     "iopub.execute_input": "2023-03-31T19:06:35.824605Z",
     "iopub.status.busy": "2023-03-31T19:06:35.824103Z",
     "iopub.status.idle": "2023-03-31T19:06:35.830724Z",
     "shell.execute_reply": "2023-03-31T19:06:35.829739Z"
    },
    "papermill": {
     "duration": 0.016426,
     "end_time": "2023-03-31T19:06:35.833287",
     "exception": false,
     "start_time": "2023-03-31T19:06:35.816861",
     "status": "completed"
    },
    "tags": []
   },
   "outputs": [],
   "source": [
    "cm = confusion_matrix(y_test, y_pred)"
   ]
  },
  {
   "cell_type": "code",
   "execution_count": 13,
   "id": "e094d049",
   "metadata": {
    "execution": {
     "iopub.execute_input": "2023-03-31T19:06:35.849313Z",
     "iopub.status.busy": "2023-03-31T19:06:35.848679Z",
     "iopub.status.idle": "2023-03-31T19:06:35.854857Z",
     "shell.execute_reply": "2023-03-31T19:06:35.854047Z"
    },
    "papermill": {
     "duration": 0.01661,
     "end_time": "2023-03-31T19:06:35.857118",
     "exception": false,
     "start_time": "2023-03-31T19:06:35.840508",
     "status": "completed"
    },
    "tags": []
   },
   "outputs": [],
   "source": [
    "tn, fp, fn, tp = cm.ravel()\n",
    "precision = tp / (tp + fp)\n",
    "recall = tp / (tp + fn)\n",
    "f1_score = 2 * (precision * recall) / (precision + recall)"
   ]
  },
  {
   "cell_type": "code",
   "execution_count": 14,
   "id": "2228de4b",
   "metadata": {
    "execution": {
     "iopub.execute_input": "2023-03-31T19:06:35.869940Z",
     "iopub.status.busy": "2023-03-31T19:06:35.869240Z",
     "iopub.status.idle": "2023-03-31T19:06:36.114942Z",
     "shell.execute_reply": "2023-03-31T19:06:36.113177Z"
    },
    "papermill": {
     "duration": 0.256955,
     "end_time": "2023-03-31T19:06:36.119672",
     "exception": false,
     "start_time": "2023-03-31T19:06:35.862717",
     "status": "completed"
    },
    "tags": []
   },
   "outputs": [
    {
     "data": {
      "image/png": "[encoded data removed]",
      "text/plain": [
       "<Figure size 800x600 with 2 Axes>"
      ]
     },
     "metadata": {},
     "output_type": "display_data"
    }
   ],
   "source": [
    "plt.figure(figsize=(8,6))\n",
    "plt.imshow(cm, cmap='Blues', interpolation='nearest')\n",
    "plt.title('Confusion matrix')\n",
    "plt.colorbar()\n",
    "tick_marks = np.arange(2)\n",
    "plt.xticks(tick_marks, ['Negatif', 'Pozitif'], rotation=45)\n",
    "plt.yticks(tick_marks, ['Negatif', 'Pozitif'])\n",
    "plt.xlabel('Tahmin edilen etiket')\n",
    "plt.ylabel('Gerçek etiket')\n",
    "plt.text(0, 0, f\"True Negative: {tn}\", ha=\"center\", va=\"center\", color=\"white\", fontsize=12)\n",
    "plt.text(0, 1, f\"False Positive: {fp}\", ha=\"center\", va=\"center\", color=\"black\", fontsize=12)\n",
    "plt.text(1, 0, f\"False Negative: {fn}\", ha=\"center\", va=\"center\", color=\"black\", fontsize=12)\n",
    "plt.text(1, 1, f\"True Positive: {tp}\", ha=\"center\", va=\"center\", color=\"white\", fontsize=12)\n",
    "plt.text(2.5, 0, f\"Precision: {precision:.2f}\", ha=\"center\", va=\"center\", color=\"black\", fontsize=12)\n",
    "plt.text(2.5, -0.2, f\"Recall: {recall:.2f}\", ha=\"center\", va=\"center\", color=\"black\", fontsize=12)\n",
    "plt.text(2.5, -0.4, f\"F1 Score: {f1_score:.2f}\", ha=\"center\", va=\"center\", color=\"black\", fontsize=12)\n",
    "plt.show()"
   ]
  }
 ],
 "metadata": {
  "kernelspec": {
   "display_name": "Python 3",
   "language": "python",
   "name": "python3"
  },
  "language_info": {
   "codemirror_mode": {
    "name": "ipython",
    "version": 3
   },
   "file_extension": ".py",
   "mimetype": "text/x-python",
   "name": "python",
   "nbconvert_exporter": "python",
   "pygments_lexer": "ipython3",
   "version": "3.7.12"
  },
  "papermill": {
   "default_parameters": {},
   "duration": 14.008132,
   "end_time": "2023-03-31T19:06:37.050590",
   "environment_variables": {},
   "exception": null,
   "input_path": "__notebook__.ipynb",
   "output_path": "__notebook__.ipynb",
   "parameters": {},
   "start_time": "2023-03-31T19:06:23.042458",
   "version": "2.4.0"
  }
 },
 "nbformat": 4,
 "nbformat_minor": 5
}
