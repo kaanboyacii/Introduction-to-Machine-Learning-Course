{
 "cells": [
  {
   "cell_type": "code",
   "execution_count": 1,
   "id": "577a3919",
   "metadata": {
    "_cell_guid": "b1076dfc-b9ad-4769-8c92-a6c4dae69d19",
    "_uuid": "8f2839f25d086af736a60e9eeb907d3b93b6e0e5",
    "execution": {
     "iopub.execute_input": "2023-04-07T17:30:26.675894Z",
     "iopub.status.busy": "2023-04-07T17:30:26.675419Z",
     "iopub.status.idle": "2023-04-07T17:30:28.024024Z",
     "shell.execute_reply": "2023-04-07T17:30:28.022583Z"
    },
    "papermill": {
     "duration": 1.357654,
     "end_time": "2023-04-07T17:30:28.027061",
     "exception": false,
     "start_time": "2023-04-07T17:30:26.669407",
     "status": "completed"
    },
    "tags": []
   },
   "outputs": [],
   "source": [
    "import numpy as np\n",
    "import pandas as pd\n",
    "import matplotlib.pyplot as plt\n",
    "import seaborn as sns"
   ]
  },
  {
   "cell_type": "code",
   "execution_count": 2,
   "id": "8f6b0d93",
   "metadata": {
    "execution": {
     "iopub.execute_input": "2023-04-07T17:30:28.035230Z",
     "iopub.status.busy": "2023-04-07T17:30:28.034795Z",
     "iopub.status.idle": "2023-04-07T17:30:28.056320Z",
     "shell.execute_reply": "2023-04-07T17:30:28.055322Z"
    },
    "papermill": {
     "duration": 0.028784,
     "end_time": "2023-04-07T17:30:28.059187",
     "exception": false,
     "start_time": "2023-04-07T17:30:28.030403",
     "status": "completed"
    },
    "tags": []
   },
   "outputs": [],
   "source": [
    "data=pd.read_csv(\"/kaggle/input/advertisingcsv/Advertising.csv\")"
   ]
  },
  {
   "cell_type": "code",
   "execution_count": 3,
   "id": "58152131",
   "metadata": {
    "execution": {
     "iopub.execute_input": "2023-04-07T17:30:28.068620Z",
     "iopub.status.busy": "2023-04-07T17:30:28.067927Z",
     "iopub.status.idle": "2023-04-07T17:30:28.103458Z",
     "shell.execute_reply": "2023-04-07T17:30:28.101965Z"
    },
    "papermill": {
     "duration": 0.044609,
     "end_time": "2023-04-07T17:30:28.107268",
     "exception": false,
     "start_time": "2023-04-07T17:30:28.062659",
     "status": "completed"
    },
    "tags": []
   },
   "outputs": [
    {
     "data": {
      "text/html": [
       "<div>\n",
       "<style scoped>\n",
       "    .dataframe tbody tr th:only-of-type {\n",
       "        vertical-align: middle;\n",
       "    }\n",
       "\n",
       "    .dataframe tbody tr th {\n",
       "        vertical-align: top;\n",
       "    }\n",
       "\n",
       "    .dataframe thead th {\n",
       "        text-align: right;\n",
       "    }\n",
       "</style>\n",
       "<table border=\"1\" class=\"dataframe\">\n",
       "  <thead>\n",
       "    <tr style=\"text-align: right;\">\n",
       "      <th></th>\n",
       "      <th>Unnamed: 0</th>\n",
       "      <th>TV</th>\n",
       "      <th>Radio</th>\n",
       "      <th>Newspaper</th>\n",
       "      <th>Sales</th>\n",
       "    </tr>\n",
       "  </thead>\n",
       "  <tbody>\n",
       "    <tr>\n",
       "      <th>0</th>\n",
       "      <td>1</td>\n",
       "      <td>230.1</td>\n",
       "      <td>37.8</td>\n",
       "      <td>69.2</td>\n",
       "      <td>22.1</td>\n",
       "    </tr>\n",
       "    <tr>\n",
       "      <th>1</th>\n",
       "      <td>2</td>\n",
       "      <td>44.5</td>\n",
       "      <td>39.3</td>\n",
       "      <td>45.1</td>\n",
       "      <td>10.4</td>\n",
       "    </tr>\n",
       "    <tr>\n",
       "      <th>2</th>\n",
       "      <td>3</td>\n",
       "      <td>17.2</td>\n",
       "      <td>45.9</td>\n",
       "      <td>69.3</td>\n",
       "      <td>9.3</td>\n",
       "    </tr>\n",
       "    <tr>\n",
       "      <th>3</th>\n",
       "      <td>4</td>\n",
       "      <td>151.5</td>\n",
       "      <td>41.3</td>\n",
       "      <td>58.5</td>\n",
       "      <td>18.5</td>\n",
       "    </tr>\n",
       "    <tr>\n",
       "      <th>4</th>\n",
       "      <td>5</td>\n",
       "      <td>180.8</td>\n",
       "      <td>10.8</td>\n",
       "      <td>58.4</td>\n",
       "      <td>12.9</td>\n",
       "    </tr>\n",
       "    <tr>\n",
       "      <th>5</th>\n",
       "      <td>6</td>\n",
       "      <td>8.7</td>\n",
       "      <td>48.9</td>\n",
       "      <td>75.0</td>\n",
       "      <td>7.2</td>\n",
       "    </tr>\n",
       "    <tr>\n",
       "      <th>6</th>\n",
       "      <td>7</td>\n",
       "      <td>57.5</td>\n",
       "      <td>32.8</td>\n",
       "      <td>23.5</td>\n",
       "      <td>11.8</td>\n",
       "    </tr>\n",
       "    <tr>\n",
       "      <th>7</th>\n",
       "      <td>8</td>\n",
       "      <td>120.2</td>\n",
       "      <td>19.6</td>\n",
       "      <td>11.6</td>\n",
       "      <td>13.2</td>\n",
       "    </tr>\n",
       "    <tr>\n",
       "      <th>8</th>\n",
       "      <td>9</td>\n",
       "      <td>8.6</td>\n",
       "      <td>2.1</td>\n",
       "      <td>1.0</td>\n",
       "      <td>4.8</td>\n",
       "    </tr>\n",
       "    <tr>\n",
       "      <th>9</th>\n",
       "      <td>10</td>\n",
       "      <td>199.8</td>\n",
       "      <td>2.6</td>\n",
       "      <td>21.2</td>\n",
       "      <td>10.6</td>\n",
       "    </tr>\n",
       "    <tr>\n",
       "      <th>10</th>\n",
       "      <td>11</td>\n",
       "      <td>66.1</td>\n",
       "      <td>5.8</td>\n",
       "      <td>24.2</td>\n",
       "      <td>8.6</td>\n",
       "    </tr>\n",
       "    <tr>\n",
       "      <th>11</th>\n",
       "      <td>12</td>\n",
       "      <td>214.7</td>\n",
       "      <td>24.0</td>\n",
       "      <td>4.0</td>\n",
       "      <td>17.4</td>\n",
       "    </tr>\n",
       "    <tr>\n",
       "      <th>12</th>\n",
       "      <td>13</td>\n",
       "      <td>23.8</td>\n",
       "      <td>35.1</td>\n",
       "      <td>65.9</td>\n",
       "      <td>9.2</td>\n",
       "    </tr>\n",
       "  </tbody>\n",
       "</table>\n",
       "</div>"
      ],
      "text/plain": [
       "    Unnamed: 0     TV  Radio  Newspaper  Sales\n",
       "0            1  230.1   37.8       69.2   22.1\n",
       "1            2   44.5   39.3       45.1   10.4\n",
       "2            3   17.2   45.9       69.3    9.3\n",
       "3            4  151.5   41.3       58.5   18.5\n",
       "4            5  180.8   10.8       58.4   12.9\n",
       "5            6    8.7   48.9       75.0    7.2\n",
       "6            7   57.5   32.8       23.5   11.8\n",
       "7            8  120.2   19.6       11.6   13.2\n",
       "8            9    8.6    2.1        1.0    4.8\n",
       "9           10  199.8    2.6       21.2   10.6\n",
       "10          11   66.1    5.8       24.2    8.6\n",
       "11          12  214.7   24.0        4.0   17.4\n",
       "12          13   23.8   35.1       65.9    9.2"
      ]
     },
     "execution_count": 3,
     "metadata": {},
     "output_type": "execute_result"
    }
   ],
   "source": [
    "data.head(13)"
   ]
  },
  {
   "cell_type": "code",
   "execution_count": 4,
   "id": "972bd8e1",
   "metadata": {
    "execution": {
     "iopub.execute_input": "2023-04-07T17:30:28.116087Z",
     "iopub.status.busy": "2023-04-07T17:30:28.115638Z",
     "iopub.status.idle": "2023-04-07T17:30:28.125705Z",
     "shell.execute_reply": "2023-04-07T17:30:28.124294Z"
    },
    "papermill": {
     "duration": 0.017583,
     "end_time": "2023-04-07T17:30:28.128366",
     "exception": false,
     "start_time": "2023-04-07T17:30:28.110783",
     "status": "completed"
    },
    "tags": []
   },
   "outputs": [],
   "source": [
    "x=data[[\"TV\",\"Radio\",\"Newspaper\"]]\n",
    "y=data[[\"Sales\"]]"
   ]
  },
  {
   "cell_type": "code",
   "execution_count": 5,
   "id": "3ce81059",
   "metadata": {
    "execution": {
     "iopub.execute_input": "2023-04-07T17:30:28.136963Z",
     "iopub.status.busy": "2023-04-07T17:30:28.136535Z",
     "iopub.status.idle": "2023-04-07T17:30:28.407366Z",
     "shell.execute_reply": "2023-04-07T17:30:28.406175Z"
    },
    "papermill": {
     "duration": 0.27849,
     "end_time": "2023-04-07T17:30:28.410237",
     "exception": false,
     "start_time": "2023-04-07T17:30:28.131747",
     "status": "completed"
    },
    "tags": []
   },
   "outputs": [],
   "source": [
    "from sklearn.model_selection import train_test_split\n",
    "x_train,x_test,y_train,y_test = train_test_split(x,y,test_size=0.3,random_state=100)"
   ]
  },
  {
   "cell_type": "code",
   "execution_count": 6,
   "id": "3bd23ee0",
   "metadata": {
    "execution": {
     "iopub.execute_input": "2023-04-07T17:30:28.420168Z",
     "iopub.status.busy": "2023-04-07T17:30:28.419353Z",
     "iopub.status.idle": "2023-04-07T17:30:28.570122Z",
     "shell.execute_reply": "2023-04-07T17:30:28.567450Z"
    },
    "papermill": {
     "duration": 0.159496,
     "end_time": "2023-04-07T17:30:28.573587",
     "exception": false,
     "start_time": "2023-04-07T17:30:28.414091",
     "status": "completed"
    },
    "tags": []
   },
   "outputs": [
    {
     "data": {
      "text/plain": [
       "LinearRegression()"
      ]
     },
     "execution_count": 6,
     "metadata": {},
     "output_type": "execute_result"
    }
   ],
   "source": [
    "from sklearn.linear_model import LinearRegression\n",
    "mlr=LinearRegression()\n",
    "mlr.fit(x_train,y_train)"
   ]
  },
  {
   "cell_type": "code",
   "execution_count": 7,
   "id": "d3ba8942",
   "metadata": {
    "execution": {
     "iopub.execute_input": "2023-04-07T17:30:28.583480Z",
     "iopub.status.busy": "2023-04-07T17:30:28.583030Z",
     "iopub.status.idle": "2023-04-07T17:30:28.593173Z",
     "shell.execute_reply": "2023-04-07T17:30:28.591547Z"
    },
    "papermill": {
     "duration": 0.019178,
     "end_time": "2023-04-07T17:30:28.596567",
     "exception": false,
     "start_time": "2023-04-07T17:30:28.577389",
     "status": "completed"
    },
    "tags": []
   },
   "outputs": [
    {
     "name": "stdout",
     "output_type": "stream",
     "text": [
      "intercep [2.65278967]\n",
      "coefficients:\n"
     ]
    },
    {
     "data": {
      "text/plain": [
       "[('TV', array([0.0454256 , 0.18975773, 0.00460308]))]"
      ]
     },
     "execution_count": 7,
     "metadata": {},
     "output_type": "execute_result"
    }
   ],
   "source": [
    "print(\"intercep\",mlr.intercept_)\n",
    "print(\"coefficients:\")\n",
    "list(zip(x,mlr.coef_))"
   ]
  },
  {
   "cell_type": "code",
   "execution_count": 8,
   "id": "28a0f812",
   "metadata": {
    "execution": {
     "iopub.execute_input": "2023-04-07T17:30:28.607016Z",
     "iopub.status.busy": "2023-04-07T17:30:28.606533Z",
     "iopub.status.idle": "2023-04-07T17:30:28.617438Z",
     "shell.execute_reply": "2023-04-07T17:30:28.615565Z"
    },
    "papermill": {
     "duration": 0.020561,
     "end_time": "2023-04-07T17:30:28.620960",
     "exception": false,
     "start_time": "2023-04-07T17:30:28.600399",
     "status": "completed"
    },
    "tags": []
   },
   "outputs": [
    {
     "name": "stdout",
     "output_type": "stream",
     "text": [
      "prediction[[10.62160072]\n",
      " [20.00625302]\n",
      " [16.91850882]\n",
      " [19.17040746]\n",
      " [20.94974131]\n",
      " [13.12284284]\n",
      " [11.80740696]\n",
      " [12.32019766]\n",
      " [20.57806782]\n",
      " [20.95662688]\n",
      " [10.79096475]\n",
      " [19.54868702]\n",
      " [ 6.42403866]\n",
      " [15.23133391]\n",
      " [ 8.97226257]\n",
      " [ 7.89897862]\n",
      " [16.23599497]\n",
      " [12.02636477]\n",
      " [17.09702178]\n",
      " [11.26080277]\n",
      " [16.97826292]\n",
      " [ 9.75655721]\n",
      " [20.82389762]\n",
      " [17.20916742]\n",
      " [15.13816239]\n",
      " [21.97290698]\n",
      " [19.20181841]\n",
      " [10.07501899]\n",
      " [19.39017185]\n",
      " [14.8673761 ]\n",
      " [14.36798893]\n",
      " [ 7.55604543]\n",
      " [ 9.96742165]\n",
      " [14.76342565]\n",
      " [ 7.20995576]\n",
      " [13.60003295]\n",
      " [ 7.49088656]\n",
      " [11.70865932]\n",
      " [13.46091883]\n",
      " [15.2229793 ]\n",
      " [17.18088277]\n",
      " [13.56738329]\n",
      " [14.30942267]\n",
      " [13.72909849]\n",
      " [11.88559349]\n",
      " [ 8.77039705]\n",
      " [12.1244102 ]\n",
      " [19.20252289]\n",
      " [ 9.08376601]\n",
      " [ 5.15367352]\n",
      " [16.22852749]\n",
      " [18.14111213]\n",
      " [12.94835466]\n",
      " [16.86274503]\n",
      " [17.86462435]\n",
      " [12.33930625]\n",
      " [ 4.3575739 ]\n",
      " [11.25904494]\n",
      " [16.11560622]\n",
      " [13.56602169]]\n"
     ]
    }
   ],
   "source": [
    "y_pred=mlr.predict(x_test)\n",
    "print(\"prediction{}\".format(y_pred))"
   ]
  },
  {
   "cell_type": "code",
   "execution_count": 9,
   "id": "beb9c9ae",
   "metadata": {
    "execution": {
     "iopub.execute_input": "2023-04-07T17:30:28.631685Z",
     "iopub.status.busy": "2023-04-07T17:30:28.630456Z",
     "iopub.status.idle": "2023-04-07T17:30:28.642664Z",
     "shell.execute_reply": "2023-04-07T17:30:28.641152Z"
    },
    "papermill": {
     "duration": 0.020227,
     "end_time": "2023-04-07T17:30:28.645218",
     "exception": false,
     "start_time": "2023-04-07T17:30:28.624991",
     "status": "completed"
    },
    "tags": []
   },
   "outputs": [
    {
     "name": "stdout",
     "output_type": "stream",
     "text": [
      "r sqr89.59\n",
      "msqrerr: 1.8506819941636956\n"
     ]
    }
   ],
   "source": [
    "from sklearn import metrics \n",
    "meansqrer=metrics.mean_squared_error(y_test,y_pred)\n",
    "print(\"r sqr{:.2f}\".format(mlr.score(x,y)*100))\n",
    "print(\"msqrerr:\",meansqrer)"
   ]
  }
 ],
 "metadata": {
  "kernelspec": {
   "display_name": "Python 3",
   "language": "python",
   "name": "python3"
  },
  "language_info": {
   "codemirror_mode": {
    "name": "ipython",
    "version": 3
   },
   "file_extension": ".py",
   "mimetype": "text/x-python",
   "name": "python",
   "nbconvert_exporter": "python",
   "pygments_lexer": "ipython3",
   "version": "3.7.12"
  },
  "papermill": {
   "default_parameters": {},
   "duration": 14.467324,
   "end_time": "2023-04-07T17:30:29.472637",
   "environment_variables": {},
   "exception": null,
   "input_path": "__notebook__.ipynb",
   "output_path": "__notebook__.ipynb",
   "parameters": {},
   "start_time": "2023-04-07T17:30:15.005313",
   "version": "2.4.0"
  }
 },
 "nbformat": 4,
 "nbformat_minor": 5
}
