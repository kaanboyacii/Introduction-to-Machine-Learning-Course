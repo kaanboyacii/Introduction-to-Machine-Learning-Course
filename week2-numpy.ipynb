{
 "cells": [
  {
   "cell_type": "code",
   "execution_count": 1,
   "id": "05e29dbf",
   "metadata": {
    "_cell_guid": "b1076dfc-b9ad-4769-8c92-a6c4dae69d19",
    "_uuid": "8f2839f25d086af736a60e9eeb907d3b93b6e0e5",
    "execution": {
     "iopub.execute_input": "2023-03-10T15:32:20.327140Z",
     "iopub.status.busy": "2023-03-10T15:32:20.326607Z",
     "iopub.status.idle": "2023-03-10T15:32:20.338697Z",
     "shell.execute_reply": "2023-03-10T15:32:20.337168Z"
    },
    "papermill": {
     "duration": 0.025612,
     "end_time": "2023-03-10T15:32:20.342281",
     "exception": false,
     "start_time": "2023-03-10T15:32:20.316669",
     "status": "completed"
    },
    "tags": []
   },
   "outputs": [],
   "source": [
    "import numpy as np\n",
    "import matplotlib.pyplot as plt \n",
    "from mpl_toolkits.mplot3d import Axes3D"
   ]
  },
  {
   "cell_type": "code",
   "execution_count": 2,
   "id": "60a1ef0a",
   "metadata": {
    "execution": {
     "iopub.execute_input": "2023-03-10T15:32:20.357135Z",
     "iopub.status.busy": "2023-03-10T15:32:20.356180Z",
     "iopub.status.idle": "2023-03-10T15:32:20.364842Z",
     "shell.execute_reply": "2023-03-10T15:32:20.363934Z"
    },
    "papermill": {
     "duration": 0.018492,
     "end_time": "2023-03-10T15:32:20.368169",
     "exception": false,
     "start_time": "2023-03-10T15:32:20.349677",
     "status": "completed"
    },
    "tags": []
   },
   "outputs": [
    {
     "name": "stdout",
     "output_type": "stream",
     "text": [
      "[10 20 30]\n"
     ]
    }
   ],
   "source": [
    "array = np.array([10,20,30]) \n",
    "print(array)"
   ]
  },
  {
   "cell_type": "code",
   "execution_count": 3,
   "id": "8b9d7259",
   "metadata": {
    "execution": {
     "iopub.execute_input": "2023-03-10T15:32:20.381320Z",
     "iopub.status.busy": "2023-03-10T15:32:20.380601Z",
     "iopub.status.idle": "2023-03-10T15:32:20.386755Z",
     "shell.execute_reply": "2023-03-10T15:32:20.385530Z"
    },
    "papermill": {
     "duration": 0.017329,
     "end_time": "2023-03-10T15:32:20.390536",
     "exception": false,
     "start_time": "2023-03-10T15:32:20.373207",
     "status": "completed"
    },
    "tags": []
   },
   "outputs": [
    {
     "name": "stdout",
     "output_type": "stream",
     "text": [
      "(10,)\n"
     ]
    }
   ],
   "source": [
    "array1= np.array([10,20,30,40,50,60,70,80,90,100])\n",
    "print(array1.shape)"
   ]
  },
  {
   "cell_type": "code",
   "execution_count": 4,
   "id": "f2a363cf",
   "metadata": {
    "execution": {
     "iopub.execute_input": "2023-03-10T15:32:20.404756Z",
     "iopub.status.busy": "2023-03-10T15:32:20.404061Z",
     "iopub.status.idle": "2023-03-10T15:32:20.409635Z",
     "shell.execute_reply": "2023-03-10T15:32:20.408511Z"
    },
    "papermill": {
     "duration": 0.014006,
     "end_time": "2023-03-10T15:32:20.411898",
     "exception": false,
     "start_time": "2023-03-10T15:32:20.397892",
     "status": "completed"
    },
    "tags": []
   },
   "outputs": [
    {
     "name": "stdout",
     "output_type": "stream",
     "text": [
      "[[ 10  20  30  40  50]\n",
      " [ 60  70  80  90 100]]\n"
     ]
    }
   ],
   "source": [
    "arrayreshape = array1.reshape(2,5) \n",
    "print(arrayreshape)"
   ]
  },
  {
   "cell_type": "code",
   "execution_count": 5,
   "id": "cbc52441",
   "metadata": {
    "execution": {
     "iopub.execute_input": "2023-03-10T15:32:20.423920Z",
     "iopub.status.busy": "2023-03-10T15:32:20.422776Z",
     "iopub.status.idle": "2023-03-10T15:32:20.430118Z",
     "shell.execute_reply": "2023-03-10T15:32:20.428850Z"
    },
    "papermill": {
     "duration": 0.01654,
     "end_time": "2023-03-10T15:32:20.433316",
     "exception": false,
     "start_time": "2023-03-10T15:32:20.416776",
     "status": "completed"
    },
    "tags": []
   },
   "outputs": [
    {
     "name": "stdout",
     "output_type": "stream",
     "text": [
      "shape:  (2, 5)\n",
      "dimension:  2\n",
      "data type:  int64\n",
      "size:  10\n",
      "type <class 'numpy.ndarray'>\n"
     ]
    }
   ],
   "source": [
    "print(\"shape: \",arrayreshape.shape) \n",
    "print(\"dimension: \",arrayreshape.ndim) \n",
    "print(\"data type: \",arrayreshape.dtype.name) \n",
    "print(\"size: \",arrayreshape.size)                     \n",
    "print(\"type\",type(arrayreshape)) "
   ]
  },
  {
   "cell_type": "code",
   "execution_count": 6,
   "id": "22ca0bdf",
   "metadata": {
    "execution": {
     "iopub.execute_input": "2023-03-10T15:32:20.445726Z",
     "iopub.status.busy": "2023-03-10T15:32:20.445339Z",
     "iopub.status.idle": "2023-03-10T15:32:20.452863Z",
     "shell.execute_reply": "2023-03-10T15:32:20.450987Z"
    },
    "papermill": {
     "duration": 0.0172,
     "end_time": "2023-03-10T15:32:20.456120",
     "exception": false,
     "start_time": "2023-03-10T15:32:20.438920",
     "status": "completed"
    },
    "tags": []
   },
   "outputs": [
    {
     "name": "stdout",
     "output_type": "stream",
     "text": [
      "[[ 1  2  3  4]\n",
      " [ 5  6  7  8]\n",
      " [ 9 10 11 12]]\n",
      "(3, 4)\n"
     ]
    }
   ],
   "source": [
    "array2= np.array([[1,2,3,4],[5,6,7,8],[9,10,11,12]]) \n",
    "print(array2)\n",
    "print(array2.shape)"
   ]
  },
  {
   "cell_type": "code",
   "execution_count": 7,
   "id": "806087bf",
   "metadata": {
    "execution": {
     "iopub.execute_input": "2023-03-10T15:32:20.468237Z",
     "iopub.status.busy": "2023-03-10T15:32:20.467854Z",
     "iopub.status.idle": "2023-03-10T15:32:20.474332Z",
     "shell.execute_reply": "2023-03-10T15:32:20.473129Z"
    },
    "papermill": {
     "duration": 0.015682,
     "end_time": "2023-03-10T15:32:20.477224",
     "exception": false,
     "start_time": "2023-03-10T15:32:20.461542",
     "status": "completed"
    },
    "tags": []
   },
   "outputs": [
    {
     "name": "stdout",
     "output_type": "stream",
     "text": [
      "[[5. 0. 0. 0.]\n",
      " [0. 0. 0. 0.]\n",
      " [0. 0. 0. 0.]]\n"
     ]
    }
   ],
   "source": [
    "zeros= np.zeros((3,4))\n",
    "zeros[0,0]=5\n",
    "print(zeros)\n"
   ]
  },
  {
   "cell_type": "code",
   "execution_count": 8,
   "id": "0dc47cb1",
   "metadata": {
    "execution": {
     "iopub.execute_input": "2023-03-10T15:32:20.490049Z",
     "iopub.status.busy": "2023-03-10T15:32:20.489632Z",
     "iopub.status.idle": "2023-03-10T15:32:20.498076Z",
     "shell.execute_reply": "2023-03-10T15:32:20.496824Z"
    },
    "papermill": {
     "duration": 0.017548,
     "end_time": "2023-03-10T15:32:20.500614",
     "exception": false,
     "start_time": "2023-03-10T15:32:20.483066",
     "status": "completed"
    },
    "tags": []
   },
   "outputs": [
    {
     "data": {
      "text/plain": [
       "array([10, 20, 30, 40])"
      ]
     },
     "execution_count": 8,
     "metadata": {},
     "output_type": "execute_result"
    }
   ],
   "source": [
    "np.ones((3,4))\n",
    "np.empty((4,5))\n",
    "np.arange(10,50,10)"
   ]
  },
  {
   "cell_type": "code",
   "execution_count": 9,
   "id": "abfa0342",
   "metadata": {
    "execution": {
     "iopub.execute_input": "2023-03-10T15:32:20.513037Z",
     "iopub.status.busy": "2023-03-10T15:32:20.512371Z",
     "iopub.status.idle": "2023-03-10T15:32:20.518979Z",
     "shell.execute_reply": "2023-03-10T15:32:20.517809Z"
    },
    "papermill": {
     "duration": 0.016307,
     "end_time": "2023-03-10T15:32:20.522243",
     "exception": false,
     "start_time": "2023-03-10T15:32:20.505936",
     "status": "completed"
    },
    "tags": []
   },
   "outputs": [
    {
     "name": "stdout",
     "output_type": "stream",
     "text": [
      "[ 0.          0.25641026  0.51282051  0.76923077  1.02564103  1.28205128\n",
      "  1.53846154  1.79487179  2.05128205  2.30769231  2.56410256  2.82051282\n",
      "  3.07692308  3.33333333  3.58974359  3.84615385  4.1025641   4.35897436\n",
      "  4.61538462  4.87179487  5.12820513  5.38461538  5.64102564  5.8974359\n",
      "  6.15384615  6.41025641  6.66666667  6.92307692  7.17948718  7.43589744\n",
      "  7.69230769  7.94871795  8.20512821  8.46153846  8.71794872  8.97435897\n",
      "  9.23076923  9.48717949  9.74358974 10.        ]\n"
     ]
    }
   ],
   "source": [
    "x= np.linspace(0,10,40)\n",
    "print(x)"
   ]
  },
  {
   "cell_type": "code",
   "execution_count": 10,
   "id": "20ea27d5",
   "metadata": {
    "execution": {
     "iopub.execute_input": "2023-03-10T15:32:20.535850Z",
     "iopub.status.busy": "2023-03-10T15:32:20.535432Z",
     "iopub.status.idle": "2023-03-10T15:32:20.541734Z",
     "shell.execute_reply": "2023-03-10T15:32:20.540697Z"
    },
    "papermill": {
     "duration": 0.016844,
     "end_time": "2023-03-10T15:32:20.545254",
     "exception": false,
     "start_time": "2023-03-10T15:32:20.528410",
     "status": "completed"
    },
    "tags": []
   },
   "outputs": [
    {
     "name": "stdout",
     "output_type": "stream",
     "text": [
      "[50 70 90]\n",
      "[-30 -30 -30]\n",
      "[100 400 900]\n"
     ]
    }
   ],
   "source": [
    "a= np.array([10,20,30])\n",
    "b= np.array([40,50,60]) \n",
    "print(a+b) \n",
    "print(a-b) \n",
    "print(a**2) \n"
   ]
  },
  {
   "cell_type": "code",
   "execution_count": 11,
   "id": "0854fabb",
   "metadata": {
    "execution": {
     "iopub.execute_input": "2023-03-10T15:32:20.558834Z",
     "iopub.status.busy": "2023-03-10T15:32:20.558409Z",
     "iopub.status.idle": "2023-03-10T15:32:20.565600Z",
     "shell.execute_reply": "2023-03-10T15:32:20.563963Z"
    },
    "papermill": {
     "duration": 0.01697,
     "end_time": "2023-03-10T15:32:20.568081",
     "exception": false,
     "start_time": "2023-03-10T15:32:20.551111",
     "status": "completed"
    },
    "tags": []
   },
   "outputs": [
    {
     "name": "stdout",
     "output_type": "stream",
     "text": [
      "[10, 20, 30, 40]\n",
      "[50 60 70 80]\n"
     ]
    }
   ],
   "source": [
    "x= np.array([100,200,300,400,500,600,700])\n",
    "liste = [10,20,30,40]\n",
    "array = np.array([50,60,70,80])\n",
    "print(liste)\n",
    "print(array)\n",
    "\n"
   ]
  },
  {
   "cell_type": "code",
   "execution_count": 12,
   "id": "9ede755f",
   "metadata": {
    "execution": {
     "iopub.execute_input": "2023-03-10T15:32:20.581231Z",
     "iopub.status.busy": "2023-03-10T15:32:20.580163Z",
     "iopub.status.idle": "2023-03-10T15:32:20.587273Z",
     "shell.execute_reply": "2023-03-10T15:32:20.585977Z"
    },
    "papermill": {
     "duration": 0.017339,
     "end_time": "2023-03-10T15:32:20.590773",
     "exception": false,
     "start_time": "2023-03-10T15:32:20.573434",
     "status": "completed"
    },
    "tags": []
   },
   "outputs": [
    {
     "name": "stdout",
     "output_type": "stream",
     "text": [
      "[1000 2000 3000 4000 5000 6000 7000]\n"
     ]
    }
   ],
   "source": [
    "d = a.copy()\n",
    "a= np.array([1000,2000,3000,4000,5000,6000,7000]) \n",
    "print(a)"
   ]
  },
  {
   "cell_type": "code",
   "execution_count": 13,
   "id": "7fe68761",
   "metadata": {
    "execution": {
     "iopub.execute_input": "2023-03-10T15:32:20.604357Z",
     "iopub.status.busy": "2023-03-10T15:32:20.603977Z",
     "iopub.status.idle": "2023-03-10T15:32:20.609663Z",
     "shell.execute_reply": "2023-03-10T15:32:20.608508Z"
    },
    "papermill": {
     "duration": 0.015922,
     "end_time": "2023-03-10T15:32:20.612704",
     "exception": false,
     "start_time": "2023-03-10T15:32:20.596782",
     "status": "completed"
    },
    "tags": []
   },
   "outputs": [
    {
     "name": "stdout",
     "output_type": "stream",
     "text": [
      "[  5 200 300 400 500 600 700] [  5 200 300 400 500 600 700] [  5 200 300 400 500 600 700]\n"
     ]
    }
   ],
   "source": [
    "y=x\n",
    "\n",
    "z=x\n",
    "\n",
    "y[0]=5 \n",
    "print(x,y,z)"
   ]
  },
  {
   "cell_type": "code",
   "execution_count": 14,
   "id": "6333bb44",
   "metadata": {
    "execution": {
     "iopub.execute_input": "2023-03-10T15:32:20.626124Z",
     "iopub.status.busy": "2023-03-10T15:32:20.625076Z",
     "iopub.status.idle": "2023-03-10T15:32:20.633063Z",
     "shell.execute_reply": "2023-03-10T15:32:20.631823Z"
    },
    "papermill": {
     "duration": 0.017571,
     "end_time": "2023-03-10T15:32:20.635820",
     "exception": false,
     "start_time": "2023-03-10T15:32:20.618249",
     "status": "completed"
    },
    "tags": []
   },
   "outputs": [
    {
     "name": "stdout",
     "output_type": "stream",
     "text": [
      "[1000 2000 3000 4000 5000 6000 7000]\n",
      "4000\n",
      "[3000 4000 5000]\n",
      "[7000 6000 5000 4000 3000 2000 1000]\n"
     ]
    }
   ],
   "source": [
    "a= np.array([1000,2000,3000,4000,5000,6000,7000]) \n",
    "print(a)\n",
    "print(a[3])\n",
    "print(a[2:5])\n",
    "reverse_array = a[::-1] \n",
    "print(reverse_array)\n"
   ]
  },
  {
   "cell_type": "code",
   "execution_count": 15,
   "id": "711970c8",
   "metadata": {
    "execution": {
     "iopub.execute_input": "2023-03-10T15:32:20.650004Z",
     "iopub.status.busy": "2023-03-10T15:32:20.648693Z",
     "iopub.status.idle": "2023-03-10T15:32:20.658503Z",
     "shell.execute_reply": "2023-03-10T15:32:20.656972Z"
    },
    "papermill": {
     "duration": 0.019719,
     "end_time": "2023-03-10T15:32:20.661188",
     "exception": false,
     "start_time": "2023-03-10T15:32:20.641469",
     "status": "completed"
    },
    "tags": []
   },
   "outputs": [
    {
     "name": "stdout",
     "output_type": "stream",
     "text": [
      "[[ 1  2  3  4  5]\n",
      " [ 6  7  8  9 10]]\n",
      "7\n",
      "[2 7]\n",
      "[ 6  7  8  9 10]\n",
      "[7 8 9]\n",
      "[ 6  7  8  9 10]\n",
      "[ 5 10]\n"
     ]
    }
   ],
   "source": [
    "k = np.array([[1,2,3,4,5],[6,7,8,9,10]]) \n",
    "print(k)\n",
    "print(k[1,1]) \n",
    "print(k[:,1]) \n",
    "print(k[1,:]) \n",
    "print(k[1,1:4]) \n",
    "print(k[-1,:]) \n",
    "print(k[:,-1]) "
   ]
  },
  {
   "cell_type": "code",
   "execution_count": 16,
   "id": "ea81f5d8",
   "metadata": {
    "execution": {
     "iopub.execute_input": "2023-03-10T15:32:20.674488Z",
     "iopub.status.busy": "2023-03-10T15:32:20.674067Z",
     "iopub.status.idle": "2023-03-10T15:32:20.681183Z",
     "shell.execute_reply": "2023-03-10T15:32:20.679695Z"
    },
    "papermill": {
     "duration": 0.017484,
     "end_time": "2023-03-10T15:32:20.684448",
     "exception": false,
     "start_time": "2023-03-10T15:32:20.666964",
     "status": "completed"
    },
    "tags": []
   },
   "outputs": [
    {
     "name": "stdout",
     "output_type": "stream",
     "text": [
      "[[10 20]\n",
      " [50 60]\n",
      " [70 80]]\n"
     ]
    }
   ],
   "source": [
    "array5 = np.array([[10,20],[50,60],[70,80]])\n",
    "print(array5)"
   ]
  },
  {
   "cell_type": "code",
   "execution_count": 17,
   "id": "5a7f1f62",
   "metadata": {
    "execution": {
     "iopub.execute_input": "2023-03-10T15:32:20.698653Z",
     "iopub.status.busy": "2023-03-10T15:32:20.698256Z",
     "iopub.status.idle": "2023-03-10T15:32:20.704653Z",
     "shell.execute_reply": "2023-03-10T15:32:20.703371Z"
    },
    "papermill": {
     "duration": 0.016177,
     "end_time": "2023-03-10T15:32:20.707173",
     "exception": false,
     "start_time": "2023-03-10T15:32:20.690996",
     "status": "completed"
    },
    "tags": []
   },
   "outputs": [
    {
     "name": "stdout",
     "output_type": "stream",
     "text": [
      "[[10 20 50]\n",
      " [60 70 80]]\n"
     ]
    }
   ],
   "source": [
    "array5.resize((2,3)) \n",
    "print(array5)"
   ]
  }
 ],
 "metadata": {
  "kernelspec": {
   "display_name": "Python 3",
   "language": "python",
   "name": "python3"
  },
  "language_info": {
   "codemirror_mode": {
    "name": "ipython",
    "version": 3
   },
   "file_extension": ".py",
   "mimetype": "text/x-python",
   "name": "python",
   "nbconvert_exporter": "python",
   "pygments_lexer": "ipython3",
   "version": "3.7.12"
  },
  "papermill": {
   "default_parameters": {},
   "duration": 11.123495,
   "end_time": "2023-03-10T15:32:21.333970",
   "environment_variables": {},
   "exception": null,
   "input_path": "__notebook__.ipynb",
   "output_path": "__notebook__.ipynb",
   "parameters": {},
   "start_time": "2023-03-10T15:32:10.210475",
   "version": "2.4.0"
  }
 },
 "nbformat": 4,
 "nbformat_minor": 5
}
